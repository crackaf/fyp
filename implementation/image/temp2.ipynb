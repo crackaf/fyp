{
 "cells": [
  {
   "cell_type": "code",
   "execution_count": 1,
   "metadata": {},
   "outputs": [],
   "source": [
    "from PIL import Image\n",
    "import numpy as np"
   ]
  },
  {
   "cell_type": "code",
   "execution_count": 2,
   "metadata": {},
   "outputs": [],
   "source": [
    "def getblocks(image: np.ndarray, blockshape: tuple, moveAxis: bool = True) -> np.ndarray:\n",
    "    '''\n",
    "    takes the array of image in grey= 2D and in RGB = 3D\n",
    "    takes the numpy array and converts it the the blocks in the fastest way\n",
    "    '''\n",
    "    if len(image.shape) == 2:\n",
    "        mode = \"grey\"\n",
    "        image = image.reshape(*image.shape, 1)\n",
    "    else:\n",
    "        mode = \"color\"\n",
    "\n",
    "    img_height, img_width, channels = image.shape\n",
    "    tile_height, tile_width = blockshape\n",
    "\n",
    "    if img_height % tile_height != 0 or img_width % tile_width != 0:\n",
    "        print(\"warning: Block size is not fit for the image!\")\n",
    "\n",
    "    tiled_array = image.reshape(\n",
    "        img_height//tile_height, tile_height, img_width//tile_width, tile_width, channels)\n",
    "    tiled_array = tiled_array.swapaxes(1, 2)\n",
    "\n",
    "    if moveAxis:\n",
    "        tiled_array = tiled_array.reshape(-1,\n",
    "                                          *(tile_height, tile_width, channels))\n",
    "        tiled_array = np.moveaxis(tiled_array, source=len(\n",
    "            tiled_array.shape)-1, destination=1)\n",
    "\n",
    "    return tiled_array\n",
    "\n",
    "\n",
    "def combineBlocks(tiled_array: np.ndarray, imageshape: tuple, blockshape: tuple, movedAxis: bool = True) -> np.ndarray:\n",
    "\n",
    "    if len(imageshape) == 2:\n",
    "        mode = \"grey\"\n",
    "        imageshape = *imageshape, 1\n",
    "    else:\n",
    "        mode = \"color\"\n",
    "\n",
    "    img_height, img_width, channels = imageshape\n",
    "    tile_height, tile_width = blockshape\n",
    "\n",
    "    if movedAxis:\n",
    "        image = tiled_array.copy()\n",
    "        image = image.reshape(img_height//tile_height, tile_height,\n",
    "                              img_width//tile_width, tile_width, channels)\n",
    "        swapaxisShape = list(image.shape)\n",
    "        swapaxisShape[1], swapaxisShape[2] = swapaxisShape[2], swapaxisShape[1]\n",
    "        image = image.reshape(swapaxisShape)\n",
    "        image = image.swapaxes(1, 2)\n",
    "    else:\n",
    "        image = tiled_array\n",
    "        # IDK have completed this else case. Btw we aren't using this case lol :)\n",
    "\n",
    "    return image.reshape(imageshape)\n"
   ]
  },
  {
   "cell_type": "code",
   "execution_count": 3,
   "metadata": {},
   "outputs": [
    {
     "data": {
      "text/plain": [
       "array([[  1,   2,   3,   4,   5,   6,   7,   8,   9,  10,  11,  12,  13,\n",
       "         14,  15,  16],\n",
       "       [ 17,  18,  19,  20,  21,  22,  23,  24,  25,  26,  27,  28,  29,\n",
       "         30,  31,  32],\n",
       "       [ 33,  34,  35,  36,  37,  38,  39,  40,  41,  42,  43,  44,  45,\n",
       "         46,  47,  48],\n",
       "       [ 49,  50,  51,  52,  53,  54,  55,  56,  57,  58,  59,  60,  61,\n",
       "         62,  63,  64],\n",
       "       [ 65,  66,  67,  68,  69,  70,  71,  72,  73,  74,  75,  76,  77,\n",
       "         78,  79,  80],\n",
       "       [ 81,  82,  83,  84,  85,  86,  87,  88,  89,  90,  91,  92,  93,\n",
       "         94,  95,  96],\n",
       "       [ 97,  98,  99, 100, 101, 102, 103, 104, 105, 106, 107, 108, 109,\n",
       "        110, 111, 112],\n",
       "       [113, 114, 115, 116, 117, 118, 119, 120, 121, 122, 123, 124, 125,\n",
       "        126, 127, 128],\n",
       "       [129, 130, 131, 132, 133, 134, 135, 136, 137, 138, 139, 140, 141,\n",
       "        142, 143, 144],\n",
       "       [145, 146, 147, 148, 149, 150, 151, 152, 153, 154, 155, 156, 157,\n",
       "        158, 159, 160],\n",
       "       [161, 162, 163, 164, 165, 166, 167, 168, 169, 170, 171, 172, 173,\n",
       "        174, 175, 176],\n",
       "       [177, 178, 179, 180, 181, 182, 183, 184, 185, 186, 187, 188, 189,\n",
       "        190, 191, 192],\n",
       "       [193, 194, 195, 196, 197, 198, 199, 200, 201, 202, 203, 204, 205,\n",
       "        206, 207, 208],\n",
       "       [209, 210, 211, 212, 213, 214, 215, 216, 217, 218, 219, 220, 221,\n",
       "        222, 223, 224],\n",
       "       [225, 226, 227, 228, 229, 230, 231, 232, 233, 234, 235, 236, 237,\n",
       "        238, 239, 240],\n",
       "       [241, 242, 243, 244, 245, 246, 247, 248, 249, 250, 251, 252, 253,\n",
       "        254, 255, 256]])"
      ]
     },
     "execution_count": 3,
     "metadata": {},
     "output_type": "execute_result"
    }
   ],
   "source": [
    "image = np.arange(1,(16*16)+1).reshape(16,16)\n",
    "image"
   ]
  },
  {
   "cell_type": "code",
   "execution_count": 5,
   "metadata": {},
   "outputs": [
    {
     "data": {
      "text/plain": [
       "((16, 1, 4, 4),\n",
       " (64, 4, 16, 4),\n",
       " array([[[[  1,   2,   3,   4],\n",
       "          [ 17,  18,  19,  20],\n",
       "          [ 33,  34,  35,  36],\n",
       "          [ 49,  50,  51,  52]]],\n",
       " \n",
       " \n",
       "        [[[  5,   6,   7,   8],\n",
       "          [ 21,  22,  23,  24],\n",
       "          [ 37,  38,  39,  40],\n",
       "          [ 53,  54,  55,  56]]],\n",
       " \n",
       " \n",
       "        [[[  9,  10,  11,  12],\n",
       "          [ 25,  26,  27,  28],\n",
       "          [ 41,  42,  43,  44],\n",
       "          [ 57,  58,  59,  60]]],\n",
       " \n",
       " \n",
       "        [[[ 13,  14,  15,  16],\n",
       "          [ 29,  30,  31,  32],\n",
       "          [ 45,  46,  47,  48],\n",
       "          [ 61,  62,  63,  64]]],\n",
       " \n",
       " \n",
       "        [[[ 65,  66,  67,  68],\n",
       "          [ 81,  82,  83,  84],\n",
       "          [ 97,  98,  99, 100],\n",
       "          [113, 114, 115, 116]]],\n",
       " \n",
       " \n",
       "        [[[ 69,  70,  71,  72],\n",
       "          [ 85,  86,  87,  88],\n",
       "          [101, 102, 103, 104],\n",
       "          [117, 118, 119, 120]]],\n",
       " \n",
       " \n",
       "        [[[ 73,  74,  75,  76],\n",
       "          [ 89,  90,  91,  92],\n",
       "          [105, 106, 107, 108],\n",
       "          [121, 122, 123, 124]]],\n",
       " \n",
       " \n",
       "        [[[ 77,  78,  79,  80],\n",
       "          [ 93,  94,  95,  96],\n",
       "          [109, 110, 111, 112],\n",
       "          [125, 126, 127, 128]]],\n",
       " \n",
       " \n",
       "        [[[129, 130, 131, 132],\n",
       "          [145, 146, 147, 148],\n",
       "          [161, 162, 163, 164],\n",
       "          [177, 178, 179, 180]]],\n",
       " \n",
       " \n",
       "        [[[133, 134, 135, 136],\n",
       "          [149, 150, 151, 152],\n",
       "          [165, 166, 167, 168],\n",
       "          [181, 182, 183, 184]]],\n",
       " \n",
       " \n",
       "        [[[137, 138, 139, 140],\n",
       "          [153, 154, 155, 156],\n",
       "          [169, 170, 171, 172],\n",
       "          [185, 186, 187, 188]]],\n",
       " \n",
       " \n",
       "        [[[141, 142, 143, 144],\n",
       "          [157, 158, 159, 160],\n",
       "          [173, 174, 175, 176],\n",
       "          [189, 190, 191, 192]]],\n",
       " \n",
       " \n",
       "        [[[193, 194, 195, 196],\n",
       "          [209, 210, 211, 212],\n",
       "          [225, 226, 227, 228],\n",
       "          [241, 242, 243, 244]]],\n",
       " \n",
       " \n",
       "        [[[197, 198, 199, 200],\n",
       "          [213, 214, 215, 216],\n",
       "          [229, 230, 231, 232],\n",
       "          [245, 246, 247, 248]]],\n",
       " \n",
       " \n",
       "        [[[201, 202, 203, 204],\n",
       "          [217, 218, 219, 220],\n",
       "          [233, 234, 235, 236],\n",
       "          [249, 250, 251, 252]]],\n",
       " \n",
       " \n",
       "        [[[205, 206, 207, 208],\n",
       "          [221, 222, 223, 224],\n",
       "          [237, 238, 239, 240],\n",
       "          [253, 254, 255, 256]]]]))"
      ]
     },
     "execution_count": 5,
     "metadata": {},
     "output_type": "execute_result"
    }
   ],
   "source": [
    "hehe = getblocks(image, (4, 4))\n",
    "hehe.shape, hehe.strides, hehe\n"
   ]
  },
  {
   "cell_type": "code",
   "execution_count": 7,
   "metadata": {},
   "outputs": [
    {
     "data": {
      "text/plain": [
       "((16, 1, 4, 4),\n",
       " (64, 64, 16, 4),\n",
       " array([[[[  1,   2,   3,   4],\n",
       "          [ 17,  18,  19,  20],\n",
       "          [ 33,  34,  35,  36],\n",
       "          [ 49,  50,  51,  52]]],\n",
       " \n",
       " \n",
       "        [[[  5,   6,   7,   8],\n",
       "          [ 21,  22,  23,  24],\n",
       "          [ 37,  38,  39,  40],\n",
       "          [ 53,  54,  55,  56]]],\n",
       " \n",
       " \n",
       "        [[[  9,  10,  11,  12],\n",
       "          [ 25,  26,  27,  28],\n",
       "          [ 41,  42,  43,  44],\n",
       "          [ 57,  58,  59,  60]]],\n",
       " \n",
       " \n",
       "        [[[ 13,  14,  15,  16],\n",
       "          [ 29,  30,  31,  32],\n",
       "          [ 45,  46,  47,  48],\n",
       "          [ 61,  62,  63,  64]]],\n",
       " \n",
       " \n",
       "        [[[ 65,  66,  67,  68],\n",
       "          [ 81,  82,  83,  84],\n",
       "          [ 97,  98,  99, 100],\n",
       "          [113, 114, 115, 116]]],\n",
       " \n",
       " \n",
       "        [[[ 69,  70,  71,  72],\n",
       "          [ 85,  86,  87,  88],\n",
       "          [101, 102, 103, 104],\n",
       "          [117, 118, 119, 120]]],\n",
       " \n",
       " \n",
       "        [[[ 73,  74,  75,  76],\n",
       "          [ 89,  90,  91,  92],\n",
       "          [105, 106, 107, 108],\n",
       "          [121, 122, 123, 124]]],\n",
       " \n",
       " \n",
       "        [[[ 77,  78,  79,  80],\n",
       "          [ 93,  94,  95,  96],\n",
       "          [109, 110, 111, 112],\n",
       "          [125, 126, 127, 128]]],\n",
       " \n",
       " \n",
       "        [[[129, 130, 131, 132],\n",
       "          [145, 146, 147, 148],\n",
       "          [161, 162, 163, 164],\n",
       "          [177, 178, 179, 180]]],\n",
       " \n",
       " \n",
       "        [[[133, 134, 135, 136],\n",
       "          [149, 150, 151, 152],\n",
       "          [165, 166, 167, 168],\n",
       "          [181, 182, 183, 184]]],\n",
       " \n",
       " \n",
       "        [[[137, 138, 139, 140],\n",
       "          [153, 154, 155, 156],\n",
       "          [169, 170, 171, 172],\n",
       "          [185, 186, 187, 188]]],\n",
       " \n",
       " \n",
       "        [[[141, 142, 143, 144],\n",
       "          [157, 158, 159, 160],\n",
       "          [173, 174, 175, 176],\n",
       "          [189, 190, 191, 192]]],\n",
       " \n",
       " \n",
       "        [[[193, 194, 195, 196],\n",
       "          [209, 210, 211, 212],\n",
       "          [225, 226, 227, 228],\n",
       "          [241, 242, 243, 244]]],\n",
       " \n",
       " \n",
       "        [[[197, 198, 199, 200],\n",
       "          [213, 214, 215, 216],\n",
       "          [229, 230, 231, 232],\n",
       "          [245, 246, 247, 248]]],\n",
       " \n",
       " \n",
       "        [[[201, 202, 203, 204],\n",
       "          [217, 218, 219, 220],\n",
       "          [233, 234, 235, 236],\n",
       "          [249, 250, 251, 252]]],\n",
       " \n",
       " \n",
       "        [[[205, 206, 207, 208],\n",
       "          [221, 222, 223, 224],\n",
       "          [237, 238, 239, 240],\n",
       "          [253, 254, 255, 256]]]]))"
      ]
     },
     "execution_count": 7,
     "metadata": {},
     "output_type": "execute_result"
    }
   ],
   "source": [
    "sixtenb=hehe.copy()\n",
    "sixtenb.shape,sixtenb.strides, sixtenb"
   ]
  },
  {
   "cell_type": "code",
   "execution_count": 14,
   "metadata": {},
   "outputs": [
    {
     "data": {
      "text/plain": [
       "((2, 2, 2, 2, 1),\n",
       " (32, 8, 16, 4, 4),\n",
       " array([[[[[ 1],\n",
       "           [ 2]],\n",
       " \n",
       "          [[17],\n",
       "           [18]]],\n",
       " \n",
       " \n",
       "         [[[ 3],\n",
       "           [ 4]],\n",
       " \n",
       "          [[19],\n",
       "           [20]]]],\n",
       " \n",
       " \n",
       " \n",
       "        [[[[33],\n",
       "           [34]],\n",
       " \n",
       "          [[49],\n",
       "           [50]]],\n",
       " \n",
       " \n",
       "         [[[35],\n",
       "           [36]],\n",
       " \n",
       "          [[51],\n",
       "           [52]]]]]))"
      ]
     },
     "execution_count": 14,
     "metadata": {},
     "output_type": "execute_result"
    }
   ],
   "source": [
    "lul = getblocks(sixtenb[0][0], (2, 2), False)\n",
    "lul.shape, lul.strides, lul\n"
   ]
  },
  {
   "cell_type": "code",
   "execution_count": null,
   "metadata": {},
   "outputs": [],
   "source": []
  },
  {
   "cell_type": "code",
   "execution_count": 10,
   "metadata": {},
   "outputs": [
    {
     "ename": "ValueError",
     "evalue": "could not broadcast input array from shape (4,1,2,2) into shape (1,4,4)",
     "output_type": "error",
     "traceback": [
      "\u001b[1;31m---------------------------------------------------------------------------\u001b[0m",
      "\u001b[1;31mValueError\u001b[0m                                Traceback (most recent call last)",
      "\u001b[1;32m~\\AppData\\Local\\Temp/ipykernel_2800/3477699742.py\u001b[0m in \u001b[0;36m<module>\u001b[1;34m\u001b[0m\n\u001b[0;32m      1\u001b[0m \u001b[1;32mfor\u001b[0m \u001b[0mi\u001b[0m \u001b[1;32min\u001b[0m \u001b[0mrange\u001b[0m\u001b[1;33m(\u001b[0m\u001b[1;36m16\u001b[0m\u001b[1;33m)\u001b[0m\u001b[1;33m:\u001b[0m\u001b[1;33m\u001b[0m\u001b[1;33m\u001b[0m\u001b[0m\n\u001b[1;32m----> 2\u001b[1;33m     \u001b[0msixtenb\u001b[0m\u001b[1;33m[\u001b[0m\u001b[0mi\u001b[0m\u001b[1;33m]\u001b[0m\u001b[1;33m[\u001b[0m\u001b[1;33m:\u001b[0m\u001b[1;33m]\u001b[0m \u001b[1;33m=\u001b[0m \u001b[0mgetblocks\u001b[0m\u001b[1;33m(\u001b[0m\u001b[0msixtenb\u001b[0m\u001b[1;33m[\u001b[0m\u001b[0mi\u001b[0m\u001b[1;33m]\u001b[0m\u001b[1;33m[\u001b[0m\u001b[1;36m0\u001b[0m\u001b[1;33m]\u001b[0m\u001b[1;33m,\u001b[0m \u001b[1;33m(\u001b[0m\u001b[1;36m2\u001b[0m\u001b[1;33m,\u001b[0m \u001b[1;36m2\u001b[0m\u001b[1;33m)\u001b[0m\u001b[1;33m)\u001b[0m\u001b[1;33m\u001b[0m\u001b[1;33m\u001b[0m\u001b[0m\n\u001b[0m\u001b[0;32m      3\u001b[0m \u001b[0msixtenb\u001b[0m\u001b[1;33m.\u001b[0m\u001b[0mshape\u001b[0m\u001b[1;33m,\u001b[0m\u001b[0msixtenb\u001b[0m\u001b[1;33m.\u001b[0m\u001b[0mstrides\u001b[0m\u001b[1;33m,\u001b[0m \u001b[0msixtenb\u001b[0m\u001b[1;33m\u001b[0m\u001b[1;33m\u001b[0m\u001b[0m\n",
      "\u001b[1;31mValueError\u001b[0m: could not broadcast input array from shape (4,1,2,2) into shape (1,4,4)"
     ]
    }
   ],
   "source": [
    "for i in range(16):\n",
    "    sixtenb[i][:] = getblocks(sixtenb[i][0], (2, 2))\n",
    "sixtenb.shape,sixtenb.strides, sixtenb"
   ]
  },
  {
   "cell_type": "code",
   "execution_count": 32,
   "metadata": {},
   "outputs": [
    {
     "ename": "IndexError",
     "evalue": "index 6554 is out of bounds for axis 0 with size 4096",
     "output_type": "error",
     "traceback": [
      "\u001b[1;31m---------------------------------------------------------------------------\u001b[0m",
      "\u001b[1;31mIndexError\u001b[0m                                Traceback (most recent call last)",
      "\u001b[1;32m~\\AppData\\Local\\Temp/ipykernel_13640/2034362249.py\u001b[0m in \u001b[0;36m<module>\u001b[1;34m\u001b[0m\n\u001b[1;32m----> 1\u001b[1;33m \u001b[0mhehe\u001b[0m\u001b[1;33m[\u001b[0m\u001b[1;36m0\u001b[0m\u001b[1;33m]\u001b[0m\u001b[1;33m,\u001b[0m \u001b[0mhehe\u001b[0m\u001b[1;33m[\u001b[0m\u001b[1;36m100\u001b[0m\u001b[1;33m]\u001b[0m\u001b[1;33m,\u001b[0m \u001b[0mhehe\u001b[0m\u001b[1;33m[\u001b[0m\u001b[1;36m6554\u001b[0m\u001b[1;33m]\u001b[0m\u001b[1;33m\u001b[0m\u001b[1;33m\u001b[0m\u001b[0m\n\u001b[0m",
      "\u001b[1;31mIndexError\u001b[0m: index 6554 is out of bounds for axis 0 with size 4096"
     ]
    }
   ],
   "source": [
    "hehe[0], hehe[100], hehe[6554]"
   ]
  },
  {
   "cell_type": "code",
   "execution_count": 33,
   "metadata": {},
   "outputs": [
    {
     "data": {
      "text/plain": [
       "((512, 512, 1),\n",
       " (2048, 4, 4),\n",
       " array([[[     1],\n",
       "         [     2],\n",
       "         [     3],\n",
       "         ...,\n",
       "         [   510],\n",
       "         [   511],\n",
       "         [   512]],\n",
       " \n",
       "        [[   513],\n",
       "         [   514],\n",
       "         [   515],\n",
       "         ...,\n",
       "         [  1022],\n",
       "         [  1023],\n",
       "         [  1024]],\n",
       " \n",
       "        [[  1025],\n",
       "         [  1026],\n",
       "         [  1027],\n",
       "         ...,\n",
       "         [  1534],\n",
       "         [  1535],\n",
       "         [  1536]],\n",
       " \n",
       "        ...,\n",
       " \n",
       "        [[260609],\n",
       "         [260610],\n",
       "         [260611],\n",
       "         ...,\n",
       "         [261118],\n",
       "         [261119],\n",
       "         [261120]],\n",
       " \n",
       "        [[261121],\n",
       "         [261122],\n",
       "         [261123],\n",
       "         ...,\n",
       "         [261630],\n",
       "         [261631],\n",
       "         [261632]],\n",
       " \n",
       "        [[261633],\n",
       "         [261634],\n",
       "         [261635],\n",
       "         ...,\n",
       "         [262142],\n",
       "         [262143],\n",
       "         [262144]]]))"
      ]
     },
     "execution_count": 33,
     "metadata": {},
     "output_type": "execute_result"
    }
   ],
   "source": [
    "ret = combineBlocks(hehe, (512, 512), (16, 4))\n",
    "ret.shape, ret.strides, ret"
   ]
  },
  {
   "cell_type": "code",
   "execution_count": 34,
   "metadata": {},
   "outputs": [
    {
     "data": {
      "text/plain": [
       "True"
      ]
     },
     "execution_count": 34,
     "metadata": {},
     "output_type": "execute_result"
    }
   ],
   "source": [
    "(ret.reshape(-1) == image.reshape(-1)).all()\n"
   ]
  },
  {
   "cell_type": "code",
   "execution_count": 35,
   "metadata": {},
   "outputs": [],
   "source": [
    "for i in range(512):\n",
    "    for j in range(512):\n",
    "        if ret[i][j][0] != image[i][j]:\n",
    "            print(i, j, ret[i][j][0], image[i][j])\n"
   ]
  }
 ],
 "metadata": {
  "interpreter": {
   "hash": "63fd5069d213b44bf678585dea6b12cceca9941eaf7f819626cde1f2670de90d"
  },
  "kernelspec": {
   "display_name": "Python 3.9.6 64-bit",
   "language": "python",
   "name": "python3"
  },
  "language_info": {
   "codemirror_mode": {
    "name": "ipython",
    "version": 3
   },
   "file_extension": ".py",
   "mimetype": "text/x-python",
   "name": "python",
   "nbconvert_exporter": "python",
   "pygments_lexer": "ipython3",
   "version": "3.9.6"
  },
  "orig_nbformat": 4
 },
 "nbformat": 4,
 "nbformat_minor": 2
}
