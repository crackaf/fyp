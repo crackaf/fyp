{
 "cells": [
  {
   "cell_type": "code",
   "execution_count": 1,
   "metadata": {},
   "outputs": [],
   "source": [
    "from PIL import Image\n",
    "import numpy as np"
   ]
  },
  {
   "cell_type": "code",
   "execution_count": 2,
   "metadata": {},
   "outputs": [],
   "source": [
    "def getblocks(image: np.ndarray, blockshape: tuple, moveAxis: bool = True, info: bool = False, addChannel: bool = True) -> np.ndarray:\n",
    "    '''\n",
    "    takes the array of image in grey= 2D and in RGB = 3D\n",
    "    takes the numpy array and converts it the the blocks in the fastest way\n",
    "    '''\n",
    "    if(info):\n",
    "        print(\"Image Shape:\", image.shape)\n",
    "        print(\"Block Shape:\", blockshape)\n",
    "\n",
    "    oldshape = list(image.shape)\n",
    "    if addChannel and len(image.shape) == 2:\n",
    "        mode = \"grey\"\n",
    "        image = image.reshape((*image.shape, 1))\n",
    "    else:\n",
    "        mode = \"color\"\n",
    "\n",
    "    if addChannel:\n",
    "        img_height, img_width, channels = image.shape\n",
    "    else:\n",
    "        img_height, img_width = image.shape\n",
    "\n",
    "    tile_height, tile_width = blockshape\n",
    "\n",
    "    if addChannel:\n",
    "        shp = img_height//tile_height, tile_height, img_width//tile_width, tile_width, channels\n",
    "    else:\n",
    "        shp = img_height//tile_height, tile_height, img_width//tile_width, tile_width\n",
    "\n",
    "    def printinfo():\n",
    "        print(\"Old Shape:\", oldshape)\n",
    "        print(\"Image Shape:\", image.shape)\n",
    "        print(\"Block Shape:\", blockshape)\n",
    "        print(\"New Shape Initial:\", shp)\n",
    "        print(\"img_height % tile_height != 0 :\", img_height % tile_height != 0)\n",
    "        print(\"img_width % tile_width != 0 :\", img_width % tile_width != 0)\n",
    "\n",
    "    if img_height % tile_height != 0 or img_width % tile_width != 0:\n",
    "        print(\"warning: Block size is not fit for the image!\")\n",
    "        printinfo()\n",
    "\n",
    "    if(info):\n",
    "        printinfo()\n",
    "\n",
    "    tiled_array = image.reshape(shp)\n",
    "    tiled_array = tiled_array.swapaxes(1, 2)\n",
    "\n",
    "    if moveAxis:\n",
    "        if(addChannel):\n",
    "            tiled_array = tiled_array.reshape(-1,\n",
    "                                              *(tile_height, tile_width, channels))\n",
    "            tiled_array = np.moveaxis(tiled_array, source=len(\n",
    "                tiled_array.shape)-1, destination=1)\n",
    "        else:\n",
    "            tiled_array = tiled_array.reshape(-1, *(tile_height, tile_width))\n",
    "\n",
    "    return tiled_array\n"
   ]
  },
  {
   "cell_type": "code",
   "execution_count": 3,
   "metadata": {},
   "outputs": [],
   "source": [
    "def combineBlocks(tiled_array: np.ndarray, imageshape: tuple, blockshape: tuple, movedAxis: bool = True, channel: bool = True) -> np.ndarray:\n",
    "\n",
    "    if channel:\n",
    "        if len(imageshape) == 2:\n",
    "            mode = \"grey\"\n",
    "            imageshape = *imageshape, 1\n",
    "        else:\n",
    "            mode = \"color\"\n",
    "\n",
    "    if channel:\n",
    "        img_height, img_width, channels = imageshape\n",
    "    else:\n",
    "        img_height, img_width = imageshape\n",
    "\n",
    "    tile_height, tile_width = blockshape\n",
    "\n",
    "    if movedAxis:\n",
    "        image = tiled_array.copy()\n",
    "        if(channel):\n",
    "            image = image.reshape(img_height//tile_height, tile_height,\n",
    "                                  img_width//tile_width, tile_width, channels)\n",
    "            swapaxisShape = list(image.shape)\n",
    "            swapaxisShape[1], swapaxisShape[2] = swapaxisShape[2], swapaxisShape[1]\n",
    "            image = image.reshape(swapaxisShape)\n",
    "            image = image.swapaxes(1, 2)\n",
    "        else:\n",
    "            f = image.reshape(img_height//tile_height, tile_height,\n",
    "                              img_width//tile_width, tile_width)\n",
    "            swapaxisShape = list(f.shape)\n",
    "            swapaxisShape[1], swapaxisShape[2] = swapaxisShape[2], swapaxisShape[1]\n",
    "            tmp = f.reshape(swapaxisShape)\n",
    "            image = tmp.swapaxes(1, 2)\n",
    "    else:\n",
    "        image = tiled_array\n",
    "        # IDK have completed this else case. Btw we aren't using this case lol :)\n",
    "\n",
    "    return image.reshape(imageshape)\n"
   ]
  },
  {
   "cell_type": "code",
   "execution_count": 4,
   "metadata": {},
   "outputs": [
    {
     "data": {
      "text/plain": [
       "array([[     1,      2,      3, ...,    510,    511,    512],\n",
       "       [   513,    514,    515, ...,   1022,   1023,   1024],\n",
       "       [  1025,   1026,   1027, ...,   1534,   1535,   1536],\n",
       "       ...,\n",
       "       [260609, 260610, 260611, ..., 261118, 261119, 261120],\n",
       "       [261121, 261122, 261123, ..., 261630, 261631, 261632],\n",
       "       [261633, 261634, 261635, ..., 262142, 262143, 262144]])"
      ]
     },
     "execution_count": 4,
     "metadata": {},
     "output_type": "execute_result"
    }
   ],
   "source": [
    "image = np.arange(1,(512*512)+1).reshape(512,512)\n",
    "image"
   ]
  },
  {
   "cell_type": "code",
   "execution_count": 5,
   "metadata": {},
   "outputs": [],
   "source": [
    "# img=Image.open(\"lena_gray.gif\").convert(\"L\")\n",
    "# image=np.array(img)"
   ]
  },
  {
   "cell_type": "code",
   "execution_count": 6,
   "metadata": {},
   "outputs": [
    {
     "data": {
      "text/plain": [
       "array([[     1,      2,      3, ...,    510,    511,    512],\n",
       "       [   513,    514,    515, ...,   1022,   1023,   1024],\n",
       "       [  1025,   1026,   1027, ...,   1534,   1535,   1536],\n",
       "       ...,\n",
       "       [260609, 260610, 260611, ..., 261118, 261119, 261120],\n",
       "       [261121, 261122, 261123, ..., 261630, 261631, 261632],\n",
       "       [261633, 261634, 261635, ..., 262142, 262143, 262144]])"
      ]
     },
     "execution_count": 6,
     "metadata": {},
     "output_type": "execute_result"
    }
   ],
   "source": [
    "image"
   ]
  },
  {
   "cell_type": "code",
   "execution_count": 7,
   "metadata": {},
   "outputs": [
    {
     "data": {
      "text/plain": [
       "((512, 512), (2048, 4))"
      ]
     },
     "execution_count": 7,
     "metadata": {},
     "output_type": "execute_result"
    }
   ],
   "source": [
    "image.shape,image.strides"
   ]
  },
  {
   "cell_type": "code",
   "execution_count": 8,
   "metadata": {},
   "outputs": [],
   "source": [
    "blocksize=(16,16)"
   ]
  },
  {
   "cell_type": "code",
   "execution_count": 9,
   "metadata": {},
   "outputs": [],
   "source": [
    "# image=image.reshape(*image.shape, 1)"
   ]
  },
  {
   "cell_type": "code",
   "execution_count": 10,
   "metadata": {},
   "outputs": [
    {
     "data": {
      "text/plain": [
       "((1024, 16, 16),\n",
       " (1024, 64, 4),\n",
       " array([[[     1,      2,      3, ...,     14,     15,     16],\n",
       "         [   513,    514,    515, ...,    526,    527,    528],\n",
       "         [  1025,   1026,   1027, ...,   1038,   1039,   1040],\n",
       "         ...,\n",
       "         [  6657,   6658,   6659, ...,   6670,   6671,   6672],\n",
       "         [  7169,   7170,   7171, ...,   7182,   7183,   7184],\n",
       "         [  7681,   7682,   7683, ...,   7694,   7695,   7696]],\n",
       " \n",
       "        [[    17,     18,     19, ...,     30,     31,     32],\n",
       "         [   529,    530,    531, ...,    542,    543,    544],\n",
       "         [  1041,   1042,   1043, ...,   1054,   1055,   1056],\n",
       "         ...,\n",
       "         [  6673,   6674,   6675, ...,   6686,   6687,   6688],\n",
       "         [  7185,   7186,   7187, ...,   7198,   7199,   7200],\n",
       "         [  7697,   7698,   7699, ...,   7710,   7711,   7712]],\n",
       " \n",
       "        [[    33,     34,     35, ...,     46,     47,     48],\n",
       "         [   545,    546,    547, ...,    558,    559,    560],\n",
       "         [  1057,   1058,   1059, ...,   1070,   1071,   1072],\n",
       "         ...,\n",
       "         [  6689,   6690,   6691, ...,   6702,   6703,   6704],\n",
       "         [  7201,   7202,   7203, ...,   7214,   7215,   7216],\n",
       "         [  7713,   7714,   7715, ...,   7726,   7727,   7728]],\n",
       " \n",
       "        ...,\n",
       " \n",
       "        [[254417, 254418, 254419, ..., 254430, 254431, 254432],\n",
       "         [254929, 254930, 254931, ..., 254942, 254943, 254944],\n",
       "         [255441, 255442, 255443, ..., 255454, 255455, 255456],\n",
       "         ...,\n",
       "         [261073, 261074, 261075, ..., 261086, 261087, 261088],\n",
       "         [261585, 261586, 261587, ..., 261598, 261599, 261600],\n",
       "         [262097, 262098, 262099, ..., 262110, 262111, 262112]],\n",
       " \n",
       "        [[254433, 254434, 254435, ..., 254446, 254447, 254448],\n",
       "         [254945, 254946, 254947, ..., 254958, 254959, 254960],\n",
       "         [255457, 255458, 255459, ..., 255470, 255471, 255472],\n",
       "         ...,\n",
       "         [261089, 261090, 261091, ..., 261102, 261103, 261104],\n",
       "         [261601, 261602, 261603, ..., 261614, 261615, 261616],\n",
       "         [262113, 262114, 262115, ..., 262126, 262127, 262128]],\n",
       " \n",
       "        [[254449, 254450, 254451, ..., 254462, 254463, 254464],\n",
       "         [254961, 254962, 254963, ..., 254974, 254975, 254976],\n",
       "         [255473, 255474, 255475, ..., 255486, 255487, 255488],\n",
       "         ...,\n",
       "         [261105, 261106, 261107, ..., 261118, 261119, 261120],\n",
       "         [261617, 261618, 261619, ..., 261630, 261631, 261632],\n",
       "         [262129, 262130, 262131, ..., 262142, 262143, 262144]]]))"
      ]
     },
     "execution_count": 10,
     "metadata": {},
     "output_type": "execute_result"
    }
   ],
   "source": [
    "f=getblocks(image, blockshape=blocksize,addChannel=False)\n",
    "f.shape, f.strides, f"
   ]
  },
  {
   "cell_type": "code",
   "execution_count": 11,
   "metadata": {},
   "outputs": [
    {
     "data": {
      "text/plain": [
       "array([[     1,      2,      3, ...,    510,    511,    512],\n",
       "       [   513,    514,    515, ...,   1022,   1023,   1024],\n",
       "       [  1025,   1026,   1027, ...,   1534,   1535,   1536],\n",
       "       ...,\n",
       "       [260609, 260610, 260611, ..., 261118, 261119, 261120],\n",
       "       [261121, 261122, 261123, ..., 261630, 261631, 261632],\n",
       "       [261633, 261634, 261635, ..., 262142, 262143, 262144]])"
      ]
     },
     "execution_count": 11,
     "metadata": {},
     "output_type": "execute_result"
    }
   ],
   "source": [
    "combineBlocks(f, (512, 512), blockshape=blocksize, channel=False)\n"
   ]
  },
  {
   "cell_type": "code",
   "execution_count": 80,
   "metadata": {},
   "outputs": [],
   "source": [
    "img_height, img_width = image.shape\n",
    "tile_height, tile_width = blocksize\n"
   ]
  },
  {
   "cell_type": "code",
   "execution_count": 81,
   "metadata": {},
   "outputs": [
    {
     "data": {
      "text/plain": [
       "(4, 2, 4, 2)"
      ]
     },
     "execution_count": 81,
     "metadata": {},
     "output_type": "execute_result"
    }
   ],
   "source": [
    "haha=img_height//tile_height, tile_height, img_width//tile_width, tile_width\n",
    "haha"
   ]
  },
  {
   "cell_type": "code",
   "execution_count": 82,
   "metadata": {},
   "outputs": [
    {
     "data": {
      "text/plain": [
       "(array([[[[ 1,  2],\n",
       "          [ 3,  4],\n",
       "          [ 5,  6],\n",
       "          [ 7,  8]],\n",
       " \n",
       "         [[ 9, 10],\n",
       "          [11, 12],\n",
       "          [13, 14],\n",
       "          [15, 16]]],\n",
       " \n",
       " \n",
       "        [[[17, 18],\n",
       "          [19, 20],\n",
       "          [21, 22],\n",
       "          [23, 24]],\n",
       " \n",
       "         [[25, 26],\n",
       "          [27, 28],\n",
       "          [29, 30],\n",
       "          [31, 32]]],\n",
       " \n",
       " \n",
       "        [[[33, 34],\n",
       "          [35, 36],\n",
       "          [37, 38],\n",
       "          [39, 40]],\n",
       " \n",
       "         [[41, 42],\n",
       "          [43, 44],\n",
       "          [45, 46],\n",
       "          [47, 48]]],\n",
       " \n",
       " \n",
       "        [[[49, 50],\n",
       "          [51, 52],\n",
       "          [53, 54],\n",
       "          [55, 56]],\n",
       " \n",
       "         [[57, 58],\n",
       "          [59, 60],\n",
       "          [61, 62],\n",
       "          [63, 64]]]]),\n",
       " (4, 2, 4, 2),\n",
       " (64, 32, 8, 4))"
      ]
     },
     "execution_count": 82,
     "metadata": {},
     "output_type": "execute_result"
    }
   ],
   "source": [
    "a=image.reshape(haha)\n",
    "a, a.shape, a.strides"
   ]
  },
  {
   "cell_type": "code",
   "execution_count": 83,
   "metadata": {},
   "outputs": [
    {
     "data": {
      "text/plain": [
       "(array([[[[ 1,  2],\n",
       "          [ 9, 10]],\n",
       " \n",
       "         [[ 3,  4],\n",
       "          [11, 12]],\n",
       " \n",
       "         [[ 5,  6],\n",
       "          [13, 14]],\n",
       " \n",
       "         [[ 7,  8],\n",
       "          [15, 16]]],\n",
       " \n",
       " \n",
       "        [[[17, 18],\n",
       "          [25, 26]],\n",
       " \n",
       "         [[19, 20],\n",
       "          [27, 28]],\n",
       " \n",
       "         [[21, 22],\n",
       "          [29, 30]],\n",
       " \n",
       "         [[23, 24],\n",
       "          [31, 32]]],\n",
       " \n",
       " \n",
       "        [[[33, 34],\n",
       "          [41, 42]],\n",
       " \n",
       "         [[35, 36],\n",
       "          [43, 44]],\n",
       " \n",
       "         [[37, 38],\n",
       "          [45, 46]],\n",
       " \n",
       "         [[39, 40],\n",
       "          [47, 48]]],\n",
       " \n",
       " \n",
       "        [[[49, 50],\n",
       "          [57, 58]],\n",
       " \n",
       "         [[51, 52],\n",
       "          [59, 60]],\n",
       " \n",
       "         [[53, 54],\n",
       "          [61, 62]],\n",
       " \n",
       "         [[55, 56],\n",
       "          [63, 64]]]]),\n",
       " (4, 4, 2, 2),\n",
       " (64, 8, 32, 4))"
      ]
     },
     "execution_count": 83,
     "metadata": {},
     "output_type": "execute_result"
    }
   ],
   "source": [
    "b=a.swapaxes(1,2)\n",
    "b, b.shape, b.strides"
   ]
  },
  {
   "cell_type": "code",
   "execution_count": 84,
   "metadata": {},
   "outputs": [
    {
     "data": {
      "text/plain": [
       "(array([[[ 1,  2],\n",
       "         [ 9, 10]],\n",
       " \n",
       "        [[ 3,  4],\n",
       "         [11, 12]],\n",
       " \n",
       "        [[ 5,  6],\n",
       "         [13, 14]],\n",
       " \n",
       "        [[ 7,  8],\n",
       "         [15, 16]],\n",
       " \n",
       "        [[17, 18],\n",
       "         [25, 26]],\n",
       " \n",
       "        [[19, 20],\n",
       "         [27, 28]],\n",
       " \n",
       "        [[21, 22],\n",
       "         [29, 30]],\n",
       " \n",
       "        [[23, 24],\n",
       "         [31, 32]],\n",
       " \n",
       "        [[33, 34],\n",
       "         [41, 42]],\n",
       " \n",
       "        [[35, 36],\n",
       "         [43, 44]],\n",
       " \n",
       "        [[37, 38],\n",
       "         [45, 46]],\n",
       " \n",
       "        [[39, 40],\n",
       "         [47, 48]],\n",
       " \n",
       "        [[49, 50],\n",
       "         [57, 58]],\n",
       " \n",
       "        [[51, 52],\n",
       "         [59, 60]],\n",
       " \n",
       "        [[53, 54],\n",
       "         [61, 62]],\n",
       " \n",
       "        [[55, 56],\n",
       "         [63, 64]]]),\n",
       " (16, 2, 2),\n",
       " (16, 8, 4))"
      ]
     },
     "execution_count": 84,
     "metadata": {},
     "output_type": "execute_result"
    }
   ],
   "source": [
    "c=b.reshape(-1, *blocksize)\n",
    "c, c.shape, c.strides\n"
   ]
  },
  {
   "cell_type": "markdown",
   "metadata": {},
   "source": [
    "reversing"
   ]
  },
  {
   "cell_type": "code",
   "execution_count": 85,
   "metadata": {},
   "outputs": [
    {
     "data": {
      "text/plain": [
       "((16, 2, 2),\n",
       " (16, 8, 4),\n",
       " array([[[ 1,  2],\n",
       "         [ 9, 10]],\n",
       " \n",
       "        [[ 3,  4],\n",
       "         [11, 12]],\n",
       " \n",
       "        [[ 5,  6],\n",
       "         [13, 14]],\n",
       " \n",
       "        [[ 7,  8],\n",
       "         [15, 16]],\n",
       " \n",
       "        [[17, 18],\n",
       "         [25, 26]],\n",
       " \n",
       "        [[19, 20],\n",
       "         [27, 28]],\n",
       " \n",
       "        [[21, 22],\n",
       "         [29, 30]],\n",
       " \n",
       "        [[23, 24],\n",
       "         [31, 32]],\n",
       " \n",
       "        [[33, 34],\n",
       "         [41, 42]],\n",
       " \n",
       "        [[35, 36],\n",
       "         [43, 44]],\n",
       " \n",
       "        [[37, 38],\n",
       "         [45, 46]],\n",
       " \n",
       "        [[39, 40],\n",
       "         [47, 48]],\n",
       " \n",
       "        [[49, 50],\n",
       "         [57, 58]],\n",
       " \n",
       "        [[51, 52],\n",
       "         [59, 60]],\n",
       " \n",
       "        [[53, 54],\n",
       "         [61, 62]],\n",
       " \n",
       "        [[55, 56],\n",
       "         [63, 64]]]))"
      ]
     },
     "execution_count": 85,
     "metadata": {},
     "output_type": "execute_result"
    }
   ],
   "source": [
    "e=c.copy()\n",
    "e.shape,e.strides,e\n",
    "# (4096, 2, 2, 1),\n",
    "#  (16, 8, 4, 4),"
   ]
  },
  {
   "cell_type": "code",
   "execution_count": 86,
   "metadata": {},
   "outputs": [],
   "source": [
    "# # e=np.moveaxis(d, source=1, destination=len(c.shape)-1)\n",
    "# e = d.copy()\n",
    "# e.shape, e.strides, e\n"
   ]
  },
  {
   "cell_type": "code",
   "execution_count": 87,
   "metadata": {},
   "outputs": [
    {
     "data": {
      "text/plain": [
       "True"
      ]
     },
     "execution_count": 87,
     "metadata": {},
     "output_type": "execute_result"
    }
   ],
   "source": [
    "(e==c).all()"
   ]
  },
  {
   "cell_type": "code",
   "execution_count": 88,
   "metadata": {},
   "outputs": [
    {
     "data": {
      "text/plain": [
       "True"
      ]
     },
     "execution_count": 88,
     "metadata": {},
     "output_type": "execute_result"
    }
   ],
   "source": [
    "(e.reshape(-1)==b.reshape(-1)).all()"
   ]
  },
  {
   "cell_type": "code",
   "execution_count": 89,
   "metadata": {},
   "outputs": [
    {
     "data": {
      "text/plain": [
       "((4, 2, 4, 2),\n",
       " (64, 32, 8, 4),\n",
       " array([[[[ 1,  2],\n",
       "          [ 9, 10],\n",
       "          [ 3,  4],\n",
       "          [11, 12]],\n",
       " \n",
       "         [[ 5,  6],\n",
       "          [13, 14],\n",
       "          [ 7,  8],\n",
       "          [15, 16]]],\n",
       " \n",
       " \n",
       "        [[[17, 18],\n",
       "          [25, 26],\n",
       "          [19, 20],\n",
       "          [27, 28]],\n",
       " \n",
       "         [[21, 22],\n",
       "          [29, 30],\n",
       "          [23, 24],\n",
       "          [31, 32]]],\n",
       " \n",
       " \n",
       "        [[[33, 34],\n",
       "          [41, 42],\n",
       "          [35, 36],\n",
       "          [43, 44]],\n",
       " \n",
       "         [[37, 38],\n",
       "          [45, 46],\n",
       "          [39, 40],\n",
       "          [47, 48]]],\n",
       " \n",
       " \n",
       "        [[[49, 50],\n",
       "          [57, 58],\n",
       "          [51, 52],\n",
       "          [59, 60]],\n",
       " \n",
       "         [[53, 54],\n",
       "          [61, 62],\n",
       "          [55, 56],\n",
       "          [63, 64]]]]))"
      ]
     },
     "execution_count": 89,
     "metadata": {},
     "output_type": "execute_result"
    }
   ],
   "source": [
    "f=e.reshape(haha)\n",
    "f.shape, f.strides,f\n"
   ]
  },
  {
   "cell_type": "code",
   "execution_count": 90,
   "metadata": {},
   "outputs": [
    {
     "data": {
      "text/plain": [
       "True"
      ]
     },
     "execution_count": 90,
     "metadata": {},
     "output_type": "execute_result"
    }
   ],
   "source": [
    "(f.reshape(-1)==b.reshape(-1)).all()"
   ]
  },
  {
   "cell_type": "code",
   "execution_count": 91,
   "metadata": {},
   "outputs": [
    {
     "data": {
      "text/plain": [
       "False"
      ]
     },
     "execution_count": 91,
     "metadata": {},
     "output_type": "execute_result"
    }
   ],
   "source": [
    "(f.reshape(-1)==a.reshape(-1)).all()"
   ]
  },
  {
   "cell_type": "code",
   "execution_count": 92,
   "metadata": {},
   "outputs": [
    {
     "data": {
      "text/plain": [
       "((4, 2, 4, 2), (64, 32, 8, 4))"
      ]
     },
     "execution_count": 92,
     "metadata": {},
     "output_type": "execute_result"
    }
   ],
   "source": [
    "f.shape, f.strides"
   ]
  },
  {
   "cell_type": "code",
   "execution_count": 93,
   "metadata": {},
   "outputs": [],
   "source": [
    "# h=f.swapaxes(1,2)\n",
    "# h.shape, h.strides, h"
   ]
  },
  {
   "cell_type": "code",
   "execution_count": 94,
   "metadata": {},
   "outputs": [],
   "source": [
    "# i=h.swapaxes(1,2)\n",
    "# i.shape, i.strides, i"
   ]
  },
  {
   "cell_type": "code",
   "execution_count": 95,
   "metadata": {},
   "outputs": [],
   "source": [
    "# j=i.swapaxes(1,2)\n",
    "# j.shape, j.strides, j"
   ]
  },
  {
   "cell_type": "code",
   "execution_count": 96,
   "metadata": {},
   "outputs": [
    {
     "data": {
      "text/plain": [
       "[4, 4, 2, 2]"
      ]
     },
     "execution_count": 96,
     "metadata": {},
     "output_type": "execute_result"
    }
   ],
   "source": [
    "swapaxisShape = list(f.shape)\n",
    "swapaxisShape[1], swapaxisShape[2] = swapaxisShape[2], swapaxisShape[1]\n",
    "swapaxisShape"
   ]
  },
  {
   "cell_type": "code",
   "execution_count": 97,
   "metadata": {},
   "outputs": [
    {
     "data": {
      "text/plain": [
       "((4, 4, 2, 2),\n",
       " (64, 16, 8, 4),\n",
       " array([[[[ 1,  2],\n",
       "          [ 9, 10]],\n",
       " \n",
       "         [[ 3,  4],\n",
       "          [11, 12]],\n",
       " \n",
       "         [[ 5,  6],\n",
       "          [13, 14]],\n",
       " \n",
       "         [[ 7,  8],\n",
       "          [15, 16]]],\n",
       " \n",
       " \n",
       "        [[[17, 18],\n",
       "          [25, 26]],\n",
       " \n",
       "         [[19, 20],\n",
       "          [27, 28]],\n",
       " \n",
       "         [[21, 22],\n",
       "          [29, 30]],\n",
       " \n",
       "         [[23, 24],\n",
       "          [31, 32]]],\n",
       " \n",
       " \n",
       "        [[[33, 34],\n",
       "          [41, 42]],\n",
       " \n",
       "         [[35, 36],\n",
       "          [43, 44]],\n",
       " \n",
       "         [[37, 38],\n",
       "          [45, 46]],\n",
       " \n",
       "         [[39, 40],\n",
       "          [47, 48]]],\n",
       " \n",
       " \n",
       "        [[[49, 50],\n",
       "          [57, 58]],\n",
       " \n",
       "         [[51, 52],\n",
       "          [59, 60]],\n",
       " \n",
       "         [[53, 54],\n",
       "          [61, 62]],\n",
       " \n",
       "         [[55, 56],\n",
       "          [63, 64]]]]))"
      ]
     },
     "execution_count": 97,
     "metadata": {},
     "output_type": "execute_result"
    }
   ],
   "source": [
    "tmp=f.reshape(swapaxisShape)\n",
    "tmp.shape, tmp.strides, tmp"
   ]
  },
  {
   "cell_type": "code",
   "execution_count": 98,
   "metadata": {},
   "outputs": [
    {
     "data": {
      "text/plain": [
       "((64, 32, 8, 4), (4, 2, 4, 2))"
      ]
     },
     "execution_count": 98,
     "metadata": {},
     "output_type": "execute_result"
    }
   ],
   "source": [
    "f.strides, f.shape"
   ]
  },
  {
   "cell_type": "code",
   "execution_count": 99,
   "metadata": {},
   "outputs": [],
   "source": [
    "# tmp.copy().strides, tmp.shape"
   ]
  },
  {
   "cell_type": "code",
   "execution_count": 100,
   "metadata": {},
   "outputs": [],
   "source": [
    "# tmp2=f.swapaxes(1,2)\n",
    "# # tmp2.shape, tmp2.strides, tmp2"
   ]
  },
  {
   "cell_type": "code",
   "execution_count": 101,
   "metadata": {},
   "outputs": [],
   "source": [
    "ret=tmp.swapaxes(1,2) ## done"
   ]
  },
  {
   "cell_type": "code",
   "execution_count": 102,
   "metadata": {},
   "outputs": [
    {
     "data": {
      "text/plain": [
       "array([[[[ 1,  2],\n",
       "         [ 3,  4],\n",
       "         [ 5,  6],\n",
       "         [ 7,  8]],\n",
       "\n",
       "        [[ 9, 10],\n",
       "         [11, 12],\n",
       "         [13, 14],\n",
       "         [15, 16]]],\n",
       "\n",
       "\n",
       "       [[[17, 18],\n",
       "         [19, 20],\n",
       "         [21, 22],\n",
       "         [23, 24]],\n",
       "\n",
       "        [[25, 26],\n",
       "         [27, 28],\n",
       "         [29, 30],\n",
       "         [31, 32]]],\n",
       "\n",
       "\n",
       "       [[[33, 34],\n",
       "         [35, 36],\n",
       "         [37, 38],\n",
       "         [39, 40]],\n",
       "\n",
       "        [[41, 42],\n",
       "         [43, 44],\n",
       "         [45, 46],\n",
       "         [47, 48]]],\n",
       "\n",
       "\n",
       "       [[[49, 50],\n",
       "         [51, 52],\n",
       "         [53, 54],\n",
       "         [55, 56]],\n",
       "\n",
       "        [[57, 58],\n",
       "         [59, 60],\n",
       "         [61, 62],\n",
       "         [63, 64]]]])"
      ]
     },
     "execution_count": 102,
     "metadata": {},
     "output_type": "execute_result"
    }
   ],
   "source": [
    "ret"
   ]
  },
  {
   "cell_type": "code",
   "execution_count": 103,
   "metadata": {},
   "outputs": [
    {
     "data": {
      "text/plain": [
       "True"
      ]
     },
     "execution_count": 103,
     "metadata": {},
     "output_type": "execute_result"
    }
   ],
   "source": [
    "(ret==a).all()"
   ]
  },
  {
   "cell_type": "code",
   "execution_count": 104,
   "metadata": {},
   "outputs": [
    {
     "data": {
      "text/plain": [
       "((4, 2, 4, 2), (64, 8, 16, 4))"
      ]
     },
     "execution_count": 104,
     "metadata": {},
     "output_type": "execute_result"
    }
   ],
   "source": [
    "ret.shape, ret.strides"
   ]
  },
  {
   "cell_type": "code",
   "execution_count": 105,
   "metadata": {},
   "outputs": [
    {
     "ename": "ValueError",
     "evalue": "cannot reshape array of size 64 into shape (512,512)",
     "output_type": "error",
     "traceback": [
      "\u001b[1;31m---------------------------------------------------------------------------\u001b[0m",
      "\u001b[1;31mValueError\u001b[0m                                Traceback (most recent call last)",
      "\u001b[1;32m~\\AppData\\Local\\Temp/ipykernel_13488/1601436131.py\u001b[0m in \u001b[0;36m<module>\u001b[1;34m\u001b[0m\n\u001b[1;32m----> 1\u001b[1;33m \u001b[0mret\u001b[0m\u001b[1;33m=\u001b[0m\u001b[0mret\u001b[0m\u001b[1;33m.\u001b[0m\u001b[0mreshape\u001b[0m\u001b[1;33m(\u001b[0m\u001b[1;33m(\u001b[0m\u001b[1;36m512\u001b[0m\u001b[1;33m,\u001b[0m\u001b[1;36m512\u001b[0m\u001b[1;33m)\u001b[0m\u001b[1;33m)\u001b[0m\u001b[1;33m\u001b[0m\u001b[1;33m\u001b[0m\u001b[0m\n\u001b[0m\u001b[0;32m      2\u001b[0m \u001b[0mret\u001b[0m\u001b[1;33m\u001b[0m\u001b[1;33m\u001b[0m\u001b[0m\n",
      "\u001b[1;31mValueError\u001b[0m: cannot reshape array of size 64 into shape (512,512)"
     ]
    }
   ],
   "source": [
    "ret=ret.reshape((512,512))\n",
    "ret"
   ]
  },
  {
   "cell_type": "code",
   "execution_count": null,
   "metadata": {},
   "outputs": [],
   "source": [
    "g=f.swapaxes(1,2)\n",
    "g.shape, g.strides, g"
   ]
  },
  {
   "cell_type": "code",
   "execution_count": null,
   "metadata": {},
   "outputs": [],
   "source": [
    "(g.reshape(-1)==b.reshape(-1)).all()"
   ]
  },
  {
   "cell_type": "code",
   "execution_count": null,
   "metadata": {},
   "outputs": [],
   "source": [
    "image.reshape(-1).shape, image.reshape(-1).strides"
   ]
  },
  {
   "cell_type": "code",
   "execution_count": null,
   "metadata": {},
   "outputs": [],
   "source": [
    "g.reshape(-1).shape, g.reshape(-1).strides"
   ]
  },
  {
   "cell_type": "code",
   "execution_count": null,
   "metadata": {},
   "outputs": [],
   "source": [
    "h=g.reshape(-1).reshape(haha)\n",
    "h, h.shape, h.strides\n"
   ]
  },
  {
   "cell_type": "code",
   "execution_count": null,
   "metadata": {},
   "outputs": [],
   "source": [
    "(h.reshape(-1)==image.reshape(-1)).all()"
   ]
  },
  {
   "cell_type": "code",
   "execution_count": null,
   "metadata": {},
   "outputs": [],
   "source": [
    "np.set_printoptions(threshold=np.inf)\n",
    "g.reshape(-1)==image.reshape(-1)"
   ]
  },
  {
   "cell_type": "code",
   "execution_count": null,
   "metadata": {},
   "outputs": [],
   "source": [
    "h=b.swapaxes(1,2)\n",
    "h.reshape(-1)"
   ]
  },
  {
   "cell_type": "code",
   "execution_count": null,
   "metadata": {},
   "outputs": [],
   "source": []
  }
 ],
 "metadata": {
  "interpreter": {
   "hash": "63fd5069d213b44bf678585dea6b12cceca9941eaf7f819626cde1f2670de90d"
  },
  "kernelspec": {
   "display_name": "Python 3.9.6 64-bit",
   "language": "python",
   "name": "python3"
  },
  "language_info": {
   "codemirror_mode": {
    "name": "ipython",
    "version": 3
   },
   "file_extension": ".py",
   "mimetype": "text/x-python",
   "name": "python",
   "nbconvert_exporter": "python",
   "pygments_lexer": "ipython3",
   "version": "3.9.6"
  },
  "orig_nbformat": 4
 },
 "nbformat": 4,
 "nbformat_minor": 2
}
