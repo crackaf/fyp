{
 "cells": [
  {
   "cell_type": "code",
   "execution_count": null,
   "metadata": {},
   "outputs": [],
   "source": [
    "from PIL import Image\n",
    "import numpy as np\n"
   ]
  },
  {
   "cell_type": "code",
   "execution_count": null,
   "metadata": {},
   "outputs": [],
   "source": [
    "def getblocks(image: np.ndarray, blockshape: tuple, moveAxis: bool = True, info: bool = False, addChannel: bool = True) -> np.ndarray:\n",
    "    '''\n",
    "    takes the array of image in grey= 2D and in RGB = 3D\n",
    "    takes the numpy array and converts it the the blocks in the fastest way\n",
    "    '''\n",
    "    if(info):\n",
    "        print(\"Image Shape:\", image.shape)\n",
    "        print(\"Block Shape:\", blockshape)\n",
    "\n",
    "    oldshape = list(image.shape)\n",
    "    if addChannel and len(image.shape) == 2:\n",
    "        mode = \"grey\"\n",
    "        image = image.reshape((*image.shape, 1))\n",
    "    else:\n",
    "        mode = \"color\"\n",
    "\n",
    "    if addChannel:\n",
    "        img_height, img_width, channels = image.shape\n",
    "    else:\n",
    "        img_height, img_width = image.shape\n",
    "\n",
    "    tile_height, tile_width = blockshape\n",
    "\n",
    "    if addChannel:\n",
    "        shp = img_height//tile_height, tile_height, img_width//tile_width, tile_width, channels\n",
    "    else:\n",
    "        shp = img_height//tile_height, tile_height, img_width//tile_width, tile_width\n",
    "\n",
    "    def printinfo():\n",
    "        print(\"Old Shape:\", oldshape)\n",
    "        print(\"Image Shape:\", image.shape)\n",
    "        print(\"Block Shape:\", blockshape)\n",
    "        print(\"New Shape Initial:\", shp)\n",
    "        print(\"img_height % tile_height != 0 :\", img_height % tile_height != 0)\n",
    "        print(\"img_width % tile_width != 0 :\", img_width % tile_width != 0)\n",
    "\n",
    "    if img_height % tile_height != 0 or img_width % tile_width != 0:\n",
    "        print(\"warning: Block size is not fit for the image!\")\n",
    "        printinfo()\n",
    "\n",
    "    if(info):\n",
    "        printinfo()\n",
    "\n",
    "    tiled_array = image.reshape(shp)\n",
    "    tiled_array = tiled_array.swapaxes(1, 2)\n",
    "\n",
    "    if moveAxis:\n",
    "        if(addChannel):\n",
    "            tiled_array = tiled_array.reshape(-1,\n",
    "                                              *(tile_height, tile_width, channels))\n",
    "            tiled_array = np.moveaxis(tiled_array, source=len(\n",
    "                tiled_array.shape)-1, destination=1)\n",
    "        else:\n",
    "            tiled_array = tiled_array.reshape(-1, *(tile_height, tile_width))\n",
    "\n",
    "    return tiled_array\n"
   ]
  },
  {
   "cell_type": "code",
   "execution_count": null,
   "metadata": {},
   "outputs": [],
   "source": [
    "def combineBlocks(tiled_array: np.ndarray, imageshape: tuple, blockshape: tuple, movedAxis: bool = True, channel: bool = True) -> np.ndarray:\n",
    "\n",
    "    if channel:\n",
    "        if len(imageshape) == 2:\n",
    "            mode = \"grey\"\n",
    "            imageshape = *imageshape, 1\n",
    "        else:\n",
    "            mode = \"color\"\n",
    "\n",
    "    if channel:\n",
    "        img_height, img_width, channels = imageshape\n",
    "    else:\n",
    "        img_height, img_width = imageshape\n",
    "\n",
    "    tile_height, tile_width = blockshape\n",
    "\n",
    "    if movedAxis:\n",
    "        image = tiled_array.copy()\n",
    "        if(channel):\n",
    "            image = image.reshape(img_height//tile_height, tile_height,\n",
    "                                  img_width//tile_width, tile_width, channels)\n",
    "            swapaxisShape = list(image.shape)\n",
    "            swapaxisShape[1], swapaxisShape[2] = swapaxisShape[2], swapaxisShape[1]\n",
    "            image = image.reshape(swapaxisShape)\n",
    "            image = image.swapaxes(1, 2)\n",
    "        else:\n",
    "            f = image.reshape(img_height//tile_height, tile_height,\n",
    "                              img_width//tile_width, tile_width)\n",
    "            swapaxisShape = list(f.shape)\n",
    "            swapaxisShape[1], swapaxisShape[2] = swapaxisShape[2], swapaxisShape[1]\n",
    "            tmp = f.reshape(swapaxisShape)\n",
    "            image = tmp.swapaxes(1, 2)\n",
    "    else:\n",
    "        image = tiled_array\n",
    "        # I haven't completed this else case. Btw we aren't using this case lol :)\n",
    "\n",
    "    return image.reshape(imageshape)\n"
   ]
  },
  {
   "cell_type": "code",
   "execution_count": null,
   "metadata": {},
   "outputs": [],
   "source": [
    "def set_bit(value:int, index:int, x:int):\n",
    "    # \"\"\"Set the index:th bit of v to 1 if x is truthy, else to 0, and return the new value.\"\"\"\n",
    "    # mask = 1 << index   # Compute mask, an integer with just bit 'index' set.\n",
    "    # # Clear the bit indicated by the mask (if x is False)\n",
    "    # value &= ~mask\n",
    "    # if x:\n",
    "    #     # If x was True, set the bit indicated by the mask.\n",
    "    #     value |= mask\n",
    "    # return value            # Return the result, we're done.\n",
    "    def set_bit2(value, bit):\n",
    "        return value | (1 << bit)\n",
    "\n",
    "    def clear_bit(value, bit):\n",
    "        return value & ~(1 << bit)\n",
    "\n",
    "    if x:\n",
    "        return set_bit2(value, index)\n",
    "    else:\n",
    "        return clear_bit(value, index)\n",
    "\n",
    "\n",
    "def get_bit(value, index):\n",
    "    localVal=int(value)\n",
    "    if localVal & (1 << index):\n",
    "        return 1\n",
    "    else:\n",
    "        return 0\n"
   ]
  },
  {
   "cell_type": "code",
   "execution_count": null,
   "metadata": {},
   "outputs": [],
   "source": [
    "import hashlib\n"
   ]
  },
  {
   "cell_type": "code",
   "execution_count": null,
   "metadata": {},
   "outputs": [],
   "source": [
    "HASH_SIZE = 16\n"
   ]
  },
  {
   "cell_type": "code",
   "execution_count": null,
   "metadata": {},
   "outputs": [],
   "source": [
    "def set_lsb_zero(num: np.ndarray):\n",
    "    '''\n",
    "    Clearing the first two LSB of ndarray\n",
    "    '''\n",
    "    return set_bit(set_bit(num, 0, 0), 1, 0)\n",
    "\n",
    "\n",
    "'''\n",
    "Data is one 16x16 block converted into four 8x8 blocks\n",
    "'''\n",
    "\n",
    "\n",
    "def hash_block(data: np.ndarray, key: str = None, digest_size=HASH_SIZE, extras=[]):\n",
    "\n",
    "    local = data.copy().astype(np.int8)  # copying to avoid overighting lsb\n",
    "    local = set_lsb_zero(local)  # setting last 8x8 blocks lsb zero\n",
    "    if key is None:\n",
    "        h = hashlib.blake2b(digest_size=digest_size)\n",
    "    else:\n",
    "        h = hashlib.blake2b(key=key.encode())\n",
    "    h.update(local.data)\n",
    "    for extra in extras:\n",
    "        h.update(extra.encode())\n",
    "    return h\n"
   ]
  },
  {
   "cell_type": "code",
   "execution_count": null,
   "metadata": {},
   "outputs": [],
   "source": [
    "def hexToDec(hexStr):\n",
    "    return np.fromiter((int(x, 16) for x in hexStr), dtype=np.uint8)\n",
    "\n",
    "\n",
    "def binToNp(binStr):\n",
    "    return np.frombuffer(binStr, dtype=np.uint8)\n"
   ]
  },
  {
   "cell_type": "code",
   "execution_count": null,
   "metadata": {},
   "outputs": [],
   "source": [
    "image = np.arange(1, (5*5)+1).reshape(5, 5)\n",
    "image\n"
   ]
  },
  {
   "cell_type": "code",
   "execution_count": null,
   "metadata": {},
   "outputs": [],
   "source": [
    "# get_bit(image[:,0],0)\n",
    "np.fromiter((get_bit(num, 0) for num in \n",
    "             image.flat), dtype=image.dtype)"
   ]
  },
  {
   "cell_type": "code",
   "execution_count": null,
   "metadata": {},
   "outputs": [],
   "source": [
    "set_bit(image[:,0],0,1)"
   ]
  },
  {
   "cell_type": "code",
   "execution_count": null,
   "metadata": {},
   "outputs": [],
   "source": [
    "hashes = np.zeros((*image.shape, HASH_SIZE*8), dtype=object)\n",
    "hashes.shape, hashes\n"
   ]
  },
  {
   "cell_type": "code",
   "execution_count": null,
   "metadata": {},
   "outputs": [],
   "source": [
    "onHashNumbers = []\n",
    "onExtractNums = []\n"
   ]
  },
  {
   "cell_type": "code",
   "execution_count": null,
   "metadata": {},
   "outputs": [],
   "source": [
    "for i in range(image.shape[0]):\n",
    "    for j in range(image.shape[1]):\n",
    "        hashes[i][j] = np.unpackbits(binToNp(hash_block(\n",
    "            image[i, j]).digest()))\n",
    "        onHashNumbers.append(set_bit(set_bit(image[i][j].copy(), 0, 0), 1, 0))\n",
    "\n",
    "\n",
    "hashes.shape, hashes[0][0], hashes\n"
   ]
  },
  {
   "cell_type": "code",
   "execution_count": null,
   "metadata": {},
   "outputs": [],
   "source": [
    "# reshaping it into 2bits in last for better placement\n",
    "hashbits = hashes.reshape(\n",
    "    hashes.shape[0], hashes.shape[1] * hashes.shape[2]//2, 2)\n",
    "hashbits.shape\n"
   ]
  },
  {
   "cell_type": "code",
   "execution_count": null,
   "metadata": {},
   "outputs": [],
   "source": [
    "set_bit(2,0,0)"
   ]
  },
  {
   "cell_type": "code",
   "execution_count": null,
   "metadata": {},
   "outputs": [],
   "source": [
    "for i in range(image.shape[0]):\n",
    "    for j in range(image.shape[1]):\n",
    "        number = image[i,:].flat[j]\n",
    "        image[i, :].flat[j] = set_bit(\n",
    "            set_bit(number, 0, hashbits[i][j][0]), 1, hashbits[i][j][1])\n"
   ]
  },
  {
   "cell_type": "code",
   "execution_count": null,
   "metadata": {},
   "outputs": [],
   "source": [
    "extractedHashes = np.zerWos(hashbits.shape, dtype=object)\n",
    "extractedHashes.shape, extractedHashes\n"
   ]
  },
  {
   "cell_type": "code",
   "execution_count": null,
   "metadata": {},
   "outputs": [],
   "source": [
    "for i in range(image.shape[0]):\n",
    "    for j in range(image.shape[1]):\n",
    "        number = image[i][j]\n",
    "        extractedHashes[i][j] = get_bit(number, 0)\n",
    "        extractedHashes[i][j] = get_bit(number, 1)\n",
    "        onExtractNums.append(set_bit(set_bit(image[i][j].copy(), 0, 0), 1, 0))\n"
   ]
  },
  {
   "cell_type": "code",
   "execution_count": null,
   "metadata": {},
   "outputs": [],
   "source": [
    "extractedHashes.shape, hashbits.shape\n"
   ]
  },
  {
   "cell_type": "code",
   "execution_count": null,
   "metadata": {},
   "outputs": [],
   "source": [
    "extractedHashes == hashbits\n"
   ]
  },
  {
   "cell_type": "code",
   "execution_count": null,
   "metadata": {},
   "outputs": [],
   "source": [
    "(extractedHashes == hashbits).all()"
   ]
  },
  {
   "cell_type": "code",
   "execution_count": null,
   "metadata": {},
   "outputs": [],
   "source": [
    "onExtractNums\n"
   ]
  },
  {
   "cell_type": "code",
   "execution_count": null,
   "metadata": {},
   "outputs": [],
   "source": [
    "onHashNumbers\n"
   ]
  },
  {
   "cell_type": "code",
   "execution_count": null,
   "metadata": {},
   "outputs": [],
   "source": []
  }
 ],
 "metadata": {
  "interpreter": {
   "hash": "916dbcbb3f70747c44a77c7bcd40155683ae19c65e1c03b4aa3499c5328201f1"
  },
  "kernelspec": {
   "display_name": "Python 3.8.10 64-bit",
   "language": "python",
   "name": "python3"
  },
  "language_info": {
   "codemirror_mode": {
    "name": "ipython",
    "version": 3
   },
   "file_extension": ".py",
   "mimetype": "text/x-python",
   "name": "python",
   "nbconvert_exporter": "python",
   "pygments_lexer": "ipython3",
   "version": "3.8.10"
  },
  "orig_nbformat": 4
 },
 "nbformat": 4,
 "nbformat_minor": 2
}
