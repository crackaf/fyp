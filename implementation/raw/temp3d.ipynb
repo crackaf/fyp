{
 "cells": [
  {
   "cell_type": "code",
   "execution_count": 206,
   "metadata": {},
   "outputs": [],
   "source": [
    "from PIL import Image\n",
    "import numpy as np"
   ]
  },
  {
   "cell_type": "code",
   "execution_count": 207,
   "metadata": {},
   "outputs": [],
   "source": [
    "def getblocks(image: np.ndarray, blockshape: tuple, moveAxis: bool = True, info: bool = False, addChannel: bool = True) -> np.ndarray:\n",
    "    '''\n",
    "    takes the array of image in grey= 2D and in RGB = 3D\n",
    "    takes the numpy array and converts it the the blocks in the fastest way\n",
    "    '''\n",
    "    if(info):\n",
    "        print(\"Image Shape:\", image.shape)\n",
    "        print(\"Block Shape:\", blockshape)\n",
    "\n",
    "    oldshape = list(image.shape)\n",
    "    if addChannel and len(image.shape) == 2:\n",
    "        mode = \"grey\"\n",
    "        image = image.reshape((*image.shape, 1))\n",
    "    else:\n",
    "        mode = \"color\"\n",
    "\n",
    "    if addChannel:\n",
    "        img_height, img_width, channels = image.shape\n",
    "    else:\n",
    "        img_height, img_width = image.shape\n",
    "\n",
    "    tile_height, tile_width = blockshape\n",
    "\n",
    "    if addChannel:\n",
    "        shp = img_height//tile_height, tile_height, img_width//tile_width, tile_width, channels\n",
    "    else:\n",
    "        shp = img_height//tile_height, tile_height, img_width//tile_width, tile_width\n",
    "\n",
    "    def printinfo():\n",
    "        print(\"Old Shape:\", oldshape)\n",
    "        print(\"Image Shape:\", image.shape)\n",
    "        print(\"Block Shape:\", blockshape)\n",
    "        print(\"New Shape Initial:\", shp)\n",
    "        print(\"img_height % tile_height != 0 :\", img_height % tile_height != 0)\n",
    "        print(\"img_width % tile_width != 0 :\", img_width % tile_width != 0)\n",
    "\n",
    "    if img_height % tile_height != 0 or img_width % tile_width != 0:\n",
    "        print(\"warning: Block size is not fit for the image!\")\n",
    "        printinfo()\n",
    "\n",
    "    if(info):\n",
    "        printinfo()\n",
    "\n",
    "    tiled_array = image.reshape(shp)\n",
    "    tiled_array = tiled_array.swapaxes(1, 2)\n",
    "\n",
    "    if moveAxis:\n",
    "        if(addChannel):\n",
    "            tiled_array = tiled_array.reshape(-1,\n",
    "                                              *(tile_height, tile_width, channels))\n",
    "            tiled_array = np.moveaxis(tiled_array, source=len(\n",
    "                tiled_array.shape)-1, destination=1)\n",
    "        else:\n",
    "            tiled_array = tiled_array.reshape(-1, *(tile_height, tile_width))\n",
    "\n",
    "    return tiled_array\n"
   ]
  },
  {
   "cell_type": "code",
   "execution_count": 208,
   "metadata": {},
   "outputs": [],
   "source": [
    "def combineBlocks(tiled_array: np.ndarray, imageshape: tuple, blockshape: tuple, movedAxis: bool = True, channel: bool = True) -> np.ndarray:\n",
    "\n",
    "    if channel:\n",
    "        if len(imageshape) == 2:\n",
    "            mode = \"grey\"\n",
    "            imageshape = *imageshape, 1\n",
    "        else:\n",
    "            mode = \"color\"\n",
    "\n",
    "    if channel:\n",
    "        img_height, img_width, channels = imageshape\n",
    "    else:\n",
    "        img_height, img_width = imageshape\n",
    "\n",
    "    tile_height, tile_width = blockshape\n",
    "\n",
    "    if movedAxis:\n",
    "        image = tiled_array.copy()\n",
    "        if(channel):\n",
    "            image=np.moveaxis(image, source=1, destination=-1)\n",
    "            image = image.reshape(img_height//tile_height, tile_height,\n",
    "                                  img_width//tile_width, tile_width, channels)\n",
    "            swapaxisShape = list(image.shape)\n",
    "            swapaxisShape[1], swapaxisShape[2] = swapaxisShape[2], swapaxisShape[1]\n",
    "            image = image.reshape(swapaxisShape)\n",
    "            image = image.swapaxes(1, 2)\n",
    "        else:\n",
    "            f = image.reshape(img_height//tile_height, tile_height,\n",
    "                              img_width//tile_width, tile_width)\n",
    "            swapaxisShape = list(f.shape)\n",
    "            swapaxisShape[1], swapaxisShape[2] = swapaxisShape[2], swapaxisShape[1]\n",
    "            tmp = f.reshape(swapaxisShape)\n",
    "            image = tmp.swapaxes(1, 2)\n",
    "    else:\n",
    "        image = tiled_array\n",
    "        # I haven't completed this else case. Btw we aren't using this case lol :)\n",
    "\n",
    "    return image.reshape(imageshape)\n"
   ]
  },
  {
   "cell_type": "code",
   "execution_count": 209,
   "metadata": {},
   "outputs": [
    {
     "data": {
      "text/plain": [
       "((512, 1024, 3),\n",
       " (24576, 24, 8),\n",
       " array([[[      1,       2,       3],\n",
       "         [      4,       5,       6],\n",
       "         [      7,       8,       9],\n",
       "         ...,\n",
       "         [   3064,    3065,    3066],\n",
       "         [   3067,    3068,    3069],\n",
       "         [   3070,    3071,    3072]],\n",
       " \n",
       "        [[   3073,    3074,    3075],\n",
       "         [   3076,    3077,    3078],\n",
       "         [   3079,    3080,    3081],\n",
       "         ...,\n",
       "         [   6136,    6137,    6138],\n",
       "         [   6139,    6140,    6141],\n",
       "         [   6142,    6143,    6144]],\n",
       " \n",
       "        [[   6145,    6146,    6147],\n",
       "         [   6148,    6149,    6150],\n",
       "         [   6151,    6152,    6153],\n",
       "         ...,\n",
       "         [   9208,    9209,    9210],\n",
       "         [   9211,    9212,    9213],\n",
       "         [   9214,    9215,    9216]],\n",
       " \n",
       "        ...,\n",
       " \n",
       "        [[1563649, 1563650, 1563651],\n",
       "         [1563652, 1563653, 1563654],\n",
       "         [1563655, 1563656, 1563657],\n",
       "         ...,\n",
       "         [1566712, 1566713, 1566714],\n",
       "         [1566715, 1566716, 1566717],\n",
       "         [1566718, 1566719, 1566720]],\n",
       " \n",
       "        [[1566721, 1566722, 1566723],\n",
       "         [1566724, 1566725, 1566726],\n",
       "         [1566727, 1566728, 1566729],\n",
       "         ...,\n",
       "         [1569784, 1569785, 1569786],\n",
       "         [1569787, 1569788, 1569789],\n",
       "         [1569790, 1569791, 1569792]],\n",
       " \n",
       "        [[1569793, 1569794, 1569795],\n",
       "         [1569796, 1569797, 1569798],\n",
       "         [1569799, 1569800, 1569801],\n",
       "         ...,\n",
       "         [1572856, 1572857, 1572858],\n",
       "         [1572859, 1572860, 1572861],\n",
       "         [1572862, 1572863, 1572864]]]))"
      ]
     },
     "execution_count": 209,
     "metadata": {},
     "output_type": "execute_result"
    }
   ],
   "source": [
    "image = np.arange(1,(512*1024*3)+1).reshape(512,1024,3)\n",
    "image.shape,image.strides,image"
   ]
  },
  {
   "cell_type": "code",
   "execution_count": 210,
   "metadata": {},
   "outputs": [],
   "source": [
    "blocksize=(16,16)"
   ]
  },
  {
   "cell_type": "code",
   "execution_count": 211,
   "metadata": {},
   "outputs": [
    {
     "data": {
      "text/plain": [
       "((2048, 3, 16, 16),\n",
       " (6144, 8, 384, 24),\n",
       " array([[[[      1,       4,       7, ...,      40,      43,      46],\n",
       "          [   3073,    3076,    3079, ...,    3112,    3115,    3118],\n",
       "          [   6145,    6148,    6151, ...,    6184,    6187,    6190],\n",
       "          ...,\n",
       "          [  39937,   39940,   39943, ...,   39976,   39979,   39982],\n",
       "          [  43009,   43012,   43015, ...,   43048,   43051,   43054],\n",
       "          [  46081,   46084,   46087, ...,   46120,   46123,   46126]],\n",
       " \n",
       "         [[      2,       5,       8, ...,      41,      44,      47],\n",
       "          [   3074,    3077,    3080, ...,    3113,    3116,    3119],\n",
       "          [   6146,    6149,    6152, ...,    6185,    6188,    6191],\n",
       "          ...,\n",
       "          [  39938,   39941,   39944, ...,   39977,   39980,   39983],\n",
       "          [  43010,   43013,   43016, ...,   43049,   43052,   43055],\n",
       "          [  46082,   46085,   46088, ...,   46121,   46124,   46127]],\n",
       " \n",
       "         [[      3,       6,       9, ...,      42,      45,      48],\n",
       "          [   3075,    3078,    3081, ...,    3114,    3117,    3120],\n",
       "          [   6147,    6150,    6153, ...,    6186,    6189,    6192],\n",
       "          ...,\n",
       "          [  39939,   39942,   39945, ...,   39978,   39981,   39984],\n",
       "          [  43011,   43014,   43017, ...,   43050,   43053,   43056],\n",
       "          [  46083,   46086,   46089, ...,   46122,   46125,   46128]]],\n",
       " \n",
       " \n",
       "        [[[     49,      52,      55, ...,      88,      91,      94],\n",
       "          [   3121,    3124,    3127, ...,    3160,    3163,    3166],\n",
       "          [   6193,    6196,    6199, ...,    6232,    6235,    6238],\n",
       "          ...,\n",
       "          [  39985,   39988,   39991, ...,   40024,   40027,   40030],\n",
       "          [  43057,   43060,   43063, ...,   43096,   43099,   43102],\n",
       "          [  46129,   46132,   46135, ...,   46168,   46171,   46174]],\n",
       " \n",
       "         [[     50,      53,      56, ...,      89,      92,      95],\n",
       "          [   3122,    3125,    3128, ...,    3161,    3164,    3167],\n",
       "          [   6194,    6197,    6200, ...,    6233,    6236,    6239],\n",
       "          ...,\n",
       "          [  39986,   39989,   39992, ...,   40025,   40028,   40031],\n",
       "          [  43058,   43061,   43064, ...,   43097,   43100,   43103],\n",
       "          [  46130,   46133,   46136, ...,   46169,   46172,   46175]],\n",
       " \n",
       "         [[     51,      54,      57, ...,      90,      93,      96],\n",
       "          [   3123,    3126,    3129, ...,    3162,    3165,    3168],\n",
       "          [   6195,    6198,    6201, ...,    6234,    6237,    6240],\n",
       "          ...,\n",
       "          [  39987,   39990,   39993, ...,   40026,   40029,   40032],\n",
       "          [  43059,   43062,   43065, ...,   43098,   43101,   43104],\n",
       "          [  46131,   46134,   46137, ...,   46170,   46173,   46176]]],\n",
       " \n",
       " \n",
       "        [[[     97,     100,     103, ...,     136,     139,     142],\n",
       "          [   3169,    3172,    3175, ...,    3208,    3211,    3214],\n",
       "          [   6241,    6244,    6247, ...,    6280,    6283,    6286],\n",
       "          ...,\n",
       "          [  40033,   40036,   40039, ...,   40072,   40075,   40078],\n",
       "          [  43105,   43108,   43111, ...,   43144,   43147,   43150],\n",
       "          [  46177,   46180,   46183, ...,   46216,   46219,   46222]],\n",
       " \n",
       "         [[     98,     101,     104, ...,     137,     140,     143],\n",
       "          [   3170,    3173,    3176, ...,    3209,    3212,    3215],\n",
       "          [   6242,    6245,    6248, ...,    6281,    6284,    6287],\n",
       "          ...,\n",
       "          [  40034,   40037,   40040, ...,   40073,   40076,   40079],\n",
       "          [  43106,   43109,   43112, ...,   43145,   43148,   43151],\n",
       "          [  46178,   46181,   46184, ...,   46217,   46220,   46223]],\n",
       " \n",
       "         [[     99,     102,     105, ...,     138,     141,     144],\n",
       "          [   3171,    3174,    3177, ...,    3210,    3213,    3216],\n",
       "          [   6243,    6246,    6249, ...,    6282,    6285,    6288],\n",
       "          ...,\n",
       "          [  40035,   40038,   40041, ...,   40074,   40077,   40080],\n",
       "          [  43107,   43110,   43113, ...,   43146,   43149,   43152],\n",
       "          [  46179,   46182,   46185, ...,   46218,   46221,   46224]]],\n",
       " \n",
       " \n",
       "        ...,\n",
       " \n",
       " \n",
       "        [[[1526641, 1526644, 1526647, ..., 1526680, 1526683, 1526686],\n",
       "          [1529713, 1529716, 1529719, ..., 1529752, 1529755, 1529758],\n",
       "          [1532785, 1532788, 1532791, ..., 1532824, 1532827, 1532830],\n",
       "          ...,\n",
       "          [1566577, 1566580, 1566583, ..., 1566616, 1566619, 1566622],\n",
       "          [1569649, 1569652, 1569655, ..., 1569688, 1569691, 1569694],\n",
       "          [1572721, 1572724, 1572727, ..., 1572760, 1572763, 1572766]],\n",
       " \n",
       "         [[1526642, 1526645, 1526648, ..., 1526681, 1526684, 1526687],\n",
       "          [1529714, 1529717, 1529720, ..., 1529753, 1529756, 1529759],\n",
       "          [1532786, 1532789, 1532792, ..., 1532825, 1532828, 1532831],\n",
       "          ...,\n",
       "          [1566578, 1566581, 1566584, ..., 1566617, 1566620, 1566623],\n",
       "          [1569650, 1569653, 1569656, ..., 1569689, 1569692, 1569695],\n",
       "          [1572722, 1572725, 1572728, ..., 1572761, 1572764, 1572767]],\n",
       " \n",
       "         [[1526643, 1526646, 1526649, ..., 1526682, 1526685, 1526688],\n",
       "          [1529715, 1529718, 1529721, ..., 1529754, 1529757, 1529760],\n",
       "          [1532787, 1532790, 1532793, ..., 1532826, 1532829, 1532832],\n",
       "          ...,\n",
       "          [1566579, 1566582, 1566585, ..., 1566618, 1566621, 1566624],\n",
       "          [1569651, 1569654, 1569657, ..., 1569690, 1569693, 1569696],\n",
       "          [1572723, 1572726, 1572729, ..., 1572762, 1572765, 1572768]]],\n",
       " \n",
       " \n",
       "        [[[1526689, 1526692, 1526695, ..., 1526728, 1526731, 1526734],\n",
       "          [1529761, 1529764, 1529767, ..., 1529800, 1529803, 1529806],\n",
       "          [1532833, 1532836, 1532839, ..., 1532872, 1532875, 1532878],\n",
       "          ...,\n",
       "          [1566625, 1566628, 1566631, ..., 1566664, 1566667, 1566670],\n",
       "          [1569697, 1569700, 1569703, ..., 1569736, 1569739, 1569742],\n",
       "          [1572769, 1572772, 1572775, ..., 1572808, 1572811, 1572814]],\n",
       " \n",
       "         [[1526690, 1526693, 1526696, ..., 1526729, 1526732, 1526735],\n",
       "          [1529762, 1529765, 1529768, ..., 1529801, 1529804, 1529807],\n",
       "          [1532834, 1532837, 1532840, ..., 1532873, 1532876, 1532879],\n",
       "          ...,\n",
       "          [1566626, 1566629, 1566632, ..., 1566665, 1566668, 1566671],\n",
       "          [1569698, 1569701, 1569704, ..., 1569737, 1569740, 1569743],\n",
       "          [1572770, 1572773, 1572776, ..., 1572809, 1572812, 1572815]],\n",
       " \n",
       "         [[1526691, 1526694, 1526697, ..., 1526730, 1526733, 1526736],\n",
       "          [1529763, 1529766, 1529769, ..., 1529802, 1529805, 1529808],\n",
       "          [1532835, 1532838, 1532841, ..., 1532874, 1532877, 1532880],\n",
       "          ...,\n",
       "          [1566627, 1566630, 1566633, ..., 1566666, 1566669, 1566672],\n",
       "          [1569699, 1569702, 1569705, ..., 1569738, 1569741, 1569744],\n",
       "          [1572771, 1572774, 1572777, ..., 1572810, 1572813, 1572816]]],\n",
       " \n",
       " \n",
       "        [[[1526737, 1526740, 1526743, ..., 1526776, 1526779, 1526782],\n",
       "          [1529809, 1529812, 1529815, ..., 1529848, 1529851, 1529854],\n",
       "          [1532881, 1532884, 1532887, ..., 1532920, 1532923, 1532926],\n",
       "          ...,\n",
       "          [1566673, 1566676, 1566679, ..., 1566712, 1566715, 1566718],\n",
       "          [1569745, 1569748, 1569751, ..., 1569784, 1569787, 1569790],\n",
       "          [1572817, 1572820, 1572823, ..., 1572856, 1572859, 1572862]],\n",
       " \n",
       "         [[1526738, 1526741, 1526744, ..., 1526777, 1526780, 1526783],\n",
       "          [1529810, 1529813, 1529816, ..., 1529849, 1529852, 1529855],\n",
       "          [1532882, 1532885, 1532888, ..., 1532921, 1532924, 1532927],\n",
       "          ...,\n",
       "          [1566674, 1566677, 1566680, ..., 1566713, 1566716, 1566719],\n",
       "          [1569746, 1569749, 1569752, ..., 1569785, 1569788, 1569791],\n",
       "          [1572818, 1572821, 1572824, ..., 1572857, 1572860, 1572863]],\n",
       " \n",
       "         [[1526739, 1526742, 1526745, ..., 1526778, 1526781, 1526784],\n",
       "          [1529811, 1529814, 1529817, ..., 1529850, 1529853, 1529856],\n",
       "          [1532883, 1532886, 1532889, ..., 1532922, 1532925, 1532928],\n",
       "          ...,\n",
       "          [1566675, 1566678, 1566681, ..., 1566714, 1566717, 1566720],\n",
       "          [1569747, 1569750, 1569753, ..., 1569786, 1569789, 1569792],\n",
       "          [1572819, 1572822, 1572825, ..., 1572858, 1572861, 1572864]]]]))"
      ]
     },
     "execution_count": 211,
     "metadata": {},
     "output_type": "execute_result"
    }
   ],
   "source": [
    "a=getblocks(image, blockshape=blocksize)\n",
    "a.shape, a.strides, a"
   ]
  },
  {
   "cell_type": "code",
   "execution_count": 212,
   "metadata": {},
   "outputs": [],
   "source": [
    "res=combineBlocks(a, image.shape, blocksize)"
   ]
  },
  {
   "cell_type": "code",
   "execution_count": 213,
   "metadata": {},
   "outputs": [
    {
     "data": {
      "text/plain": [
       "True"
      ]
     },
     "execution_count": 213,
     "metadata": {},
     "output_type": "execute_result"
    }
   ],
   "source": [
    "(res.flat==image.flat).all()"
   ]
  },
  {
   "cell_type": "code",
   "execution_count": null,
   "metadata": {},
   "outputs": [],
   "source": [
    "img_height, img_width, channels = image.shape"
   ]
  },
  {
   "cell_type": "code",
   "execution_count": null,
   "metadata": {},
   "outputs": [],
   "source": [
    "tile_height, tile_width = blocksize"
   ]
  },
  {
   "cell_type": "markdown",
   "metadata": {},
   "source": [
    "dividing"
   ]
  },
  {
   "cell_type": "code",
   "execution_count": null,
   "metadata": {},
   "outputs": [],
   "source": [
    "img_height, img_width, channels = image.shape"
   ]
  },
  {
   "cell_type": "code",
   "execution_count": null,
   "metadata": {},
   "outputs": [],
   "source": [
    "shp = img_height//tile_height, tile_height, img_width//tile_width, tile_width, channels\n",
    "shp"
   ]
  },
  {
   "cell_type": "code",
   "execution_count": null,
   "metadata": {},
   "outputs": [],
   "source": [
    "if img_height % tile_height != 0 or img_width % tile_width != 0:\n",
    "  print(\"warning: Block size is not fit for the image!\")"
   ]
  },
  {
   "cell_type": "code",
   "execution_count": null,
   "metadata": {},
   "outputs": [],
   "source": [
    "u=image.reshape(shp)\n",
    "u.shape, u.strides, u"
   ]
  },
  {
   "cell_type": "code",
   "execution_count": null,
   "metadata": {},
   "outputs": [],
   "source": [
    "v=u.swapaxes(1,2)\n",
    "v.shape, v.strides, v"
   ]
  },
  {
   "cell_type": "code",
   "execution_count": null,
   "metadata": {},
   "outputs": [],
   "source": [
    "x=v.reshape(-1, *(tile_height, tile_width, channels))\n",
    "x.shape, x.strides, x"
   ]
  },
  {
   "cell_type": "code",
   "execution_count": null,
   "metadata": {},
   "outputs": [],
   "source": [
    "y=np.moveaxis(x, source=len(x.shape)-1, destination=1)\n",
    "y.shape, y.strides, y"
   ]
  },
  {
   "cell_type": "markdown",
   "metadata": {},
   "source": [
    "combining"
   ]
  },
  {
   "cell_type": "code",
   "execution_count": null,
   "metadata": {},
   "outputs": [],
   "source": [
    "b=y.copy()\n",
    "b.shape, b.strides, b"
   ]
  },
  {
   "cell_type": "code",
   "execution_count": null,
   "metadata": {},
   "outputs": [],
   "source": [
    "b1=np.moveaxis(b, source=1, destination=-1)\n",
    "b1.shape, b1.strides, b1"
   ]
  },
  {
   "cell_type": "code",
   "execution_count": null,
   "metadata": {},
   "outputs": [],
   "source": [
    "c = b1.reshape(img_height//tile_height, tile_height,\n",
    "                                  img_width//tile_width, tile_width, channels)\n",
    "c.shape, c.strides, c"
   ]
  },
  {
   "cell_type": "code",
   "execution_count": null,
   "metadata": {},
   "outputs": [],
   "source": [
    "swapaxisShape = list(c.shape)\n",
    "swapaxisShape"
   ]
  },
  {
   "cell_type": "code",
   "execution_count": null,
   "metadata": {},
   "outputs": [],
   "source": [
    "swapaxisShape[1], swapaxisShape[2] = swapaxisShape[2], swapaxisShape[1]\n",
    "swapaxisShape"
   ]
  },
  {
   "cell_type": "code",
   "execution_count": null,
   "metadata": {},
   "outputs": [],
   "source": [
    "d = c.reshape(swapaxisShape)\n",
    "d.shape, d.strides, d"
   ]
  },
  {
   "cell_type": "code",
   "execution_count": null,
   "metadata": {},
   "outputs": [],
   "source": [
    "e=d.swapaxes(1,2)\n",
    "e.shape, e.strides, e"
   ]
  },
  {
   "cell_type": "code",
   "execution_count": null,
   "metadata": {},
   "outputs": [],
   "source": [
    "f=e.reshape( image.shape)"
   ]
  },
  {
   "cell_type": "code",
   "execution_count": null,
   "metadata": {},
   "outputs": [],
   "source": [
    "(f.flat==image.flat).all()"
   ]
  }
 ],
 "metadata": {
  "interpreter": {
   "hash": "e7370f93d1d0cde622a1f8e1c04877d8463912d04d973331ad4851f04de6915a"
  },
  "kernelspec": {
   "display_name": "Python 3.10.4 64-bit",
   "language": "python",
   "name": "python3"
  },
  "language_info": {
   "codemirror_mode": {
    "name": "ipython",
    "version": 3
   },
   "file_extension": ".py",
   "mimetype": "text/x-python",
   "name": "python",
   "nbconvert_exporter": "python",
   "pygments_lexer": "ipython3",
   "version": "3.10.4"
  },
  "orig_nbformat": 4
 },
 "nbformat": 4,
 "nbformat_minor": 2
}
