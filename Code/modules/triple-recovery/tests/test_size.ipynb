{
 "cells": [
  {
   "cell_type": "markdown",
   "metadata": {},
   "source": [
    "RESULT of this experiment\n",
    "USE AREA intepolation for shrinking and use LANCZOs4/CUBIC interpolation for expanding"
   ]
  },
  {
   "cell_type": "markdown",
   "metadata": {},
   "source": [
    "I want to check the conversion of small size vs the averages of 4x4. Which has better psnr to the orignal image. Also I want to the the increase of image size by 4 times. Which gives better result."
   ]
  },
  {
   "cell_type": "code",
   "execution_count": null,
   "metadata": {},
   "outputs": [],
   "source": [
    "from matplotlib import pyplot as plt\n",
    "from PIL import Image\n",
    "import numpy as np\n",
    "import pandas as pd\n",
    "import time\n",
    "import cv2\n",
    "from os import walk"
   ]
  },
  {
   "cell_type": "code",
   "execution_count": null,
   "metadata": {},
   "outputs": [],
   "source": [
    "openmode=cv2.IMREAD_COLOR\n",
    "dir_path='./samples/'\n",
    "output_path='./test_size_results/'"
   ]
  },
  {
   "cell_type": "code",
   "execution_count": null,
   "metadata": {},
   "outputs": [],
   "source": [
    "files = []\n",
    "for (dir_path, dir_names, file_names) in walk(dir_path):\n",
    "    files.extend([dir_path+\"/\"+f for f in file_names])\n",
    "files"
   ]
  },
  {
   "cell_type": "code",
   "execution_count": null,
   "metadata": {},
   "outputs": [],
   "source": [
    "len(files)"
   ]
  },
  {
   "cell_type": "markdown",
   "metadata": {},
   "source": [
    "making dataframe"
   ]
  },
  {
   "cell_type": "code",
   "execution_count": null,
   "metadata": {},
   "outputs": [],
   "source": [
    "CV2INTERS=[cv2.INTER_AREA,\n",
    "# cv2.INTER_BITS,\n",
    "# cv2.INTER_BITS2,\n",
    "# cv2.INTER_CUBIC,\n",
    "# cv2.INTER_LANCZOS4,\n",
    "# cv2.INTER_LINEAR,\n",
    "# cv2.INTER_LINEAR_EXACT,\n",
    "# cv2.INTER_NEAREST\n",
    "]\n",
    "CV2INTERL=[\n",
    "  # cv2.INTER_AREA,\n",
    "# cv2.INTER_BITS,\n",
    "# cv2.INTER_BITS2,\n",
    "cv2.INTER_CUBIC,\n",
    "cv2.INTER_LANCZOS4,\n",
    "# cv2.INTER_LINEAR,\n",
    "# cv2.INTER_LINEAR_EXACT,\n",
    "# cv2.INTER_NEAREST\n",
    "]\n",
    "CV2INTER_STRS=['AREA',\n",
    "              # 'BITS', 'BITS2', \n",
    "              # 'CUBIC', 'LANCZOS4',\n",
    "              # 'LINEAR', 'LINEAR_EXACT', 'NEAREST'\n",
    "              ]\n",
    "CV2INTER_STRL=[\n",
    "  # 'AREA',\n",
    "              # 'BITS', 'BITS2', \n",
    "              'CUBIC', 'LANCZOS4',\n",
    "              # 'LINEAR', 'LINEAR_EXACT', 'NEAREST'\n",
    "              ]"
   ]
  },
  {
   "cell_type": "code",
   "execution_count": null,
   "metadata": {},
   "outputs": [],
   "source": [
    "columns=['file','size','small_method','small_t','small_size','large_method','large_t', 'psnr']"
   ]
  },
  {
   "cell_type": "code",
   "execution_count": null,
   "metadata": {},
   "outputs": [],
   "source": [
    "df=pd.DataFrame(columns=columns)"
   ]
  },
  {
   "cell_type": "code",
   "execution_count": null,
   "metadata": {},
   "outputs": [],
   "source": [
    "zoomx=8\n",
    "shrink=1/zoomx\n",
    "enlarge=zoomx"
   ]
  },
  {
   "cell_type": "markdown",
   "metadata": {},
   "source": [
    "testing on one image"
   ]
  },
  {
   "cell_type": "code",
   "execution_count": null,
   "metadata": {},
   "outputs": [],
   "source": [
    "imarr=cv2.imread('./samples//large/miku.jpg', openmode)\n",
    "Image.fromarray(imarr[:,:,::-1])"
   ]
  },
  {
   "cell_type": "code",
   "execution_count": null,
   "metadata": {},
   "outputs": [],
   "source": [
    "imarrsmall=cv2.resize(imarr, None, fx=shrink, fy=shrink, interpolation=cv2.INTER_AREA)\n"
   ]
  },
  {
   "cell_type": "code",
   "execution_count": null,
   "metadata": {},
   "outputs": [],
   "source": [
    "Image.fromarray(imarrsmall[:,:,::-1])"
   ]
  },
  {
   "cell_type": "code",
   "execution_count": null,
   "metadata": {},
   "outputs": [],
   "source": [
    "startx = 100\n",
    "starty = 100\n",
    "width = 100\n",
    "height = 100\n",
    "\n",
    "for i in range(width):\n",
    "    for j in range(height):\n",
    "        imarrsmall[startx+i][starty+j] = 100"
   ]
  },
  {
   "cell_type": "code",
   "execution_count": null,
   "metadata": {},
   "outputs": [],
   "source": [
    "Image.fromarray(imarrsmall[:,:,::-1])"
   ]
  },
  {
   "cell_type": "code",
   "execution_count": null,
   "metadata": {},
   "outputs": [],
   "source": [
    "imarrlarge=cv2.resize(imarrsmall, None, fx=enlarge, fy=enlarge, interpolation=cv2.INTER_CUBIC)\n"
   ]
  },
  {
   "cell_type": "code",
   "execution_count": null,
   "metadata": {},
   "outputs": [],
   "source": [
    "Image.fromarray(imarrlarge[:,:,::-1])"
   ]
  },
  {
   "cell_type": "code",
   "execution_count": null,
   "metadata": {},
   "outputs": [],
   "source": [
    "for f in files:\n",
    "  imarr=cv2.imread(f, openmode)\n",
    "  if imarr is None or imarr.shape[0]%4!=0 or  imarr.shape[1]%4!=0 :\n",
    "    print(\"Skipping:\",f)\n",
    "    continue\n",
    "  for idxs, sm in enumerate(CV2INTERS):\n",
    "    small_t=time.time()\n",
    "    imarrsmall=cv2.resize(imarr, None, fx=shrink, fy=shrink, interpolation=sm)\n",
    "    small_t=time.time()-small_t\n",
    "    for idxl, lm in enumerate(CV2INTERL):\n",
    "      large_t=time.time()\n",
    "      imarrlarge=cv2.resize(imarrsmall, None, fx=enlarge, fy=enlarge, interpolation=lm)\n",
    "      large_t=time.time()-large_t\n",
    "      # add to the data frame\n",
    "      df.loc[len(df)]=[f,imarr.shape,CV2INTER_STRS[idxs],small_t ,imarrsmall.shape,CV2INTER_STRL[idxl],large_t,cv2.PSNR(imarr,imarrlarge)]\n",
    "    # save after every small method\n",
    "    df.to_csv(output_path+'test_size_rgb_specific.csv', index=False)\n",
    "      "
   ]
  },
  {
   "cell_type": "markdown",
   "metadata": {},
   "source": [
    "ab har kisi ka maximum and 2nd maximum nika lain gy"
   ]
  },
  {
   "cell_type": "code",
   "execution_count": null,
   "metadata": {},
   "outputs": [],
   "source": [
    "dfmax=pd.DataFrame(columns=columns)"
   ]
  },
  {
   "cell_type": "code",
   "execution_count": null,
   "metadata": {},
   "outputs": [],
   "source": [
    "df"
   ]
  },
  {
   "cell_type": "code",
   "execution_count": null,
   "metadata": {},
   "outputs": [],
   "source": [
    "# take out the maximum and 2nd maximum psnr methods for each files\n",
    "for f in files:\n",
    "  print(f)\n",
    "  temp=df[df['file']==f]\n",
    "  if len(temp)==0:\n",
    "    continue\n",
    "  klargest=temp['psnr'].nlargest(2)\n",
    "  dfmax=pd.concat([dfmax,temp[temp['psnr']==klargest.iloc[0]]])\n",
    "  # pd.concat([dfmax,temp[temp['psnr']==klargest.iloc[1]]])\n",
    "  "
   ]
  },
  {
   "cell_type": "code",
   "execution_count": null,
   "metadata": {},
   "outputs": [],
   "source": [
    "dfmax"
   ]
  },
  {
   "cell_type": "code",
   "execution_count": null,
   "metadata": {},
   "outputs": [],
   "source": [
    "len(dfmax)"
   ]
  },
  {
   "cell_type": "code",
   "execution_count": null,
   "metadata": {},
   "outputs": [],
   "source": [
    "dfmax.groupby(['small_method','large_method']).count()\n"
   ]
  },
  {
   "cell_type": "code",
   "execution_count": null,
   "metadata": {},
   "outputs": [],
   "source": [
    "dfmax.to_csv(output_path+'test_size_rgb_specific_max.csv', index=False)"
   ]
  },
  {
   "cell_type": "code",
   "execution_count": null,
   "metadata": {},
   "outputs": [],
   "source": [
    "dfmax=pd.DataFrame(columns=columns)"
   ]
  },
  {
   "cell_type": "code",
   "execution_count": null,
   "metadata": {},
   "outputs": [],
   "source": [
    "# take out the maximum and 2nd maximum psnr methods for each files\n",
    "for f in files:\n",
    "  # print(f)\n",
    "  temp=df[df['file']==f]\n",
    "  if len(temp)==0:\n",
    "    continue\n",
    "  klargest=temp['psnr'].nlargest(2)\n",
    "  dfmax=pd.concat([dfmax,temp[temp['psnr']==klargest.iloc[1]]])\n",
    "  # pd.concat([dfmax,temp[temp['psnr']==klargest.iloc[1]]])\n",
    "  "
   ]
  },
  {
   "cell_type": "code",
   "execution_count": null,
   "metadata": {},
   "outputs": [],
   "source": [
    "len(dfmax)"
   ]
  },
  {
   "cell_type": "code",
   "execution_count": null,
   "metadata": {},
   "outputs": [],
   "source": [
    "dfmax.groupby(['small_method','large_method']).count()\n"
   ]
  },
  {
   "cell_type": "code",
   "execution_count": null,
   "metadata": {},
   "outputs": [],
   "source": [
    "dfmax.to_csv(output_path+'test_size_rgb_specific_2ndmax.csv', index=False)"
   ]
  },
  {
   "cell_type": "code",
   "execution_count": null,
   "metadata": {},
   "outputs": [],
   "source": [
    "dfmax=pd.DataFrame(columns=columns)"
   ]
  },
  {
   "cell_type": "code",
   "execution_count": null,
   "metadata": {},
   "outputs": [],
   "source": [
    "# take out the maximum and 2nd maximum psnr methods for each files\n",
    "for f in files:\n",
    "  print(f)\n",
    "  temp=df[df['file']==f]\n",
    "  if len(temp)==0:\n",
    "    continue\n",
    "  klargest=temp['psnr'].nlargest(2)\n",
    "  dfmax=pd.concat([dfmax,temp[temp['psnr']==klargest.iloc[0]]])\n",
    "  dfmax=pd.concat([dfmax,temp[temp['psnr']==klargest.iloc[1]]])\n",
    "  "
   ]
  },
  {
   "cell_type": "code",
   "execution_count": null,
   "metadata": {},
   "outputs": [],
   "source": [
    "len(dfmax)"
   ]
  },
  {
   "cell_type": "code",
   "execution_count": null,
   "metadata": {},
   "outputs": [],
   "source": [
    "dfmax.groupby(['small_method','large_method']).count()"
   ]
  },
  {
   "cell_type": "code",
   "execution_count": null,
   "metadata": {},
   "outputs": [],
   "source": [
    "# dfmax.groupby(['small_method','large_method']).count().to_csv(output_path+'test_size_rgb_count.csv', index=False)"
   ]
  }
 ],
 "metadata": {
  "kernelspec": {
   "display_name": "Python 3.10.4 64-bit",
   "language": "python",
   "name": "python3"
  },
  "language_info": {
   "codemirror_mode": {
    "name": "ipython",
    "version": 3
   },
   "file_extension": ".py",
   "mimetype": "text/x-python",
   "name": "python",
   "nbconvert_exporter": "python",
   "pygments_lexer": "ipython3",
   "version": "3.10.4"
  },
  "orig_nbformat": 4,
  "vscode": {
   "interpreter": {
    "hash": "916dbcbb3f70747c44a77c7bcd40155683ae19c65e1c03b4aa3499c5328201f1"
   }
  }
 },
 "nbformat": 4,
 "nbformat_minor": 2
}
