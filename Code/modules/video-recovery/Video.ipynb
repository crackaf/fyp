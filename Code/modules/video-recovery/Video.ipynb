{
 "cells": [
  {
   "cell_type": "markdown",
   "metadata": {},
   "source": [
    "# Loading Libraries"
   ]
  },
  {
   "cell_type": "code",
   "execution_count": null,
   "metadata": {},
   "outputs": [],
   "source": [
    "import cv2\n",
    "from VideoEmbedding import videoEmbedding\n",
    "# from VideoEmbedding import videoEmbedding\n",
    "from VideoAuthentication import videoAuthentication\n",
    "from VideoRecovery import videoRecovery\n",
    "from tampervideo import videoTampering\n",
    "import multiprocessing as mp\n"
   ]
  },
  {
   "cell_type": "code",
   "execution_count": null,
   "metadata": {},
   "outputs": [],
   "source": [
    "if __name__ == \"__main__\":\n",
    "    print(1)\n"
   ]
  },
  {
   "cell_type": "markdown",
   "metadata": {},
   "source": [
    "# Video Watermark Embedding"
   ]
  },
  {
   "cell_type": "code",
   "execution_count": null,
   "metadata": {},
   "outputs": [],
   "source": [
    "    videoE=videoEmbedding()\n",
    "    outputfile=\"videoEmbeded.mp4\"\n",
    "    videoE.VideoWatermarkEmbedding(path=\"yy.mp4\",output_path=outputfile)\n"
   ]
  },
  {
   "cell_type": "code",
   "execution_count": null,
   "metadata": {},
   "outputs": [],
   "source": [
    "    vidcap = cv2.VideoCapture(outputfile)\n",
    "    success, image = vidcap.read()\n",
    "    height, width, layers = image.shape\n",
    "    fps = vidcap.get(cv2.CAP_PROP_FPS)"
   ]
  },
  {
   "cell_type": "markdown",
   "metadata": {},
   "source": [
    "# Video Tampering"
   ]
  },
  {
   "cell_type": "code",
   "execution_count": null,
   "metadata": {},
   "outputs": [],
   "source": [
    "    tampered=videoTampering(videoE.EmbedebFrames)"
   ]
  },
  {
   "cell_type": "code",
   "execution_count": null,
   "metadata": {},
   "outputs": [],
   "source": [
    "    fourcc = cv2.VideoWriter_fourcc(*\"mp4v\")\n",
    "    video = cv2.VideoWriter(\"videoTampered.mp4\", fourcc, fps, (width, height))\n"
   ]
  },
  {
   "cell_type": "code",
   "execution_count": null,
   "metadata": {},
   "outputs": [],
   "source": [
    "    for i in range(len(tampered)):\n",
    "        video.write(tampered[i])\n",
    "    video.release()"
   ]
  },
  {
   "cell_type": "markdown",
   "metadata": {},
   "source": [
    "# Video Authentication"
   ]
  },
  {
   "cell_type": "code",
   "execution_count": null,
   "metadata": {},
   "outputs": [],
   "source": [
    "    videoA=videoAuthentication()\n",
    "    videoA.ArrayOfFrames=tampered\n",
    "    videoA.SimpleAuthentication()"
   ]
  },
  {
   "cell_type": "markdown",
   "metadata": {},
   "source": [
    "# Video Recovery"
   ]
  },
  {
   "cell_type": "code",
   "execution_count": null,
   "metadata": {},
   "outputs": [],
   "source": [
    "    videoR=videoRecovery()\n",
    "    videoR.ArrayOfFrames=tampered\n",
    "    videoR.SimpleRecovery()\n"
   ]
  },
  {
   "cell_type": "code",
   "execution_count": null,
   "metadata": {},
   "outputs": [],
   "source": [
    "    fourcc = cv2.VideoWriter_fourcc(*'mp4v')\n",
    "    video = cv2.VideoWriter(\n",
    "        'videoRecovered.mp4', fourcc, fps, (width, height))\n",
    "    for i in range(len(videoR.RecoveredFrames)):\n",
    "        video.write(videoR.RecoveredFrames[i])\n",
    "    video.release()\n"
   ]
  }
 ],
 "metadata": {
  "kernelspec": {
   "display_name": "Python 3.9.7 ('base')",
   "language": "python",
   "name": "python3"
  },
  "language_info": {
   "codemirror_mode": {
    "name": "ipython",
    "version": 3
   },
   "file_extension": ".py",
   "mimetype": "text/x-python",
   "name": "python",
   "nbconvert_exporter": "python",
   "pygments_lexer": "ipython3",
   "version": "3.9.7"
  },
  "orig_nbformat": 4,
  "vscode": {
   "interpreter": {
    "hash": "ec74635e97574623211a48d5448930489a7a0c5c774b3e7b92e1c11a91fa2c2a"
   }
  }
 },
 "nbformat": 4,
 "nbformat_minor": 2
}
