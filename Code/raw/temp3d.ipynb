{
 "cells": [
  {
   "cell_type": "code",
   "execution_count": null,
   "metadata": {},
   "outputs": [],
   "source": [
    "from PIL import Image\n",
    "import numpy as np"
   ]
  },
  {
   "cell_type": "code",
   "execution_count": null,
   "metadata": {},
   "outputs": [],
   "source": [
    "def getblocks(image: np.ndarray, blockshape: tuple, moveAxis: bool = True, info: bool = False, addChannel: bool = True) -> np.ndarray:\n",
    "    '''\n",
    "    takes the array of image in grey= 2D and in RGB = 3D\n",
    "    takes the numpy array and converts it the the blocks in the fastest way\n",
    "    '''\n",
    "    if(info):\n",
    "        print(\"Image Shape:\", image.shape)\n",
    "        print(\"Block Shape:\", blockshape)\n",
    "\n",
    "    oldshape = list(image.shape)\n",
    "    if addChannel and len(image.shape) == 2:\n",
    "        mode = \"grey\"\n",
    "        image = image.reshape((*image.shape, 1))\n",
    "    else:\n",
    "        mode = \"color\"\n",
    "\n",
    "    if addChannel:\n",
    "        img_height, img_width, channels = image.shape\n",
    "    else:\n",
    "        img_height, img_width = image.shape\n",
    "\n",
    "    tile_height, tile_width = blockshape\n",
    "\n",
    "    if addChannel:\n",
    "        shp = img_height//tile_height, tile_height, img_width//tile_width, tile_width, channels\n",
    "    else:\n",
    "        shp = img_height//tile_height, tile_height, img_width//tile_width, tile_width\n",
    "\n",
    "    def printinfo():\n",
    "        print(\"Old Shape:\", oldshape)\n",
    "        print(\"Image Shape:\", image.shape)\n",
    "        print(\"Block Shape:\", blockshape)\n",
    "        print(\"New Shape Initial:\", shp)\n",
    "        print(\"img_height % tile_height != 0 :\", img_height % tile_height != 0)\n",
    "        print(\"img_width % tile_width != 0 :\", img_width % tile_width != 0)\n",
    "\n",
    "    if img_height % tile_height != 0 or img_width % tile_width != 0:\n",
    "        print(\"warning: Block size is not fit for the image!\")\n",
    "        printinfo()\n",
    "\n",
    "    if(info):\n",
    "        printinfo()\n",
    "\n",
    "    tiled_array = image.reshape(shp)\n",
    "    tiled_array = tiled_array.swapaxes(1, 2)\n",
    "\n",
    "    if moveAxis:\n",
    "        if(addChannel):\n",
    "            tiled_array = tiled_array.reshape(-1,\n",
    "                                              *(tile_height, tile_width, channels))\n",
    "            tiled_array = np.moveaxis(tiled_array, source=len(\n",
    "                tiled_array.shape)-1, destination=1)\n",
    "        else:\n",
    "            tiled_array = tiled_array.reshape(-1, *(tile_height, tile_width))\n",
    "\n",
    "    return tiled_array\n"
   ]
  },
  {
   "cell_type": "code",
   "execution_count": null,
   "metadata": {},
   "outputs": [],
   "source": [
    "def combineBlocks(tiled_array: np.ndarray, imageshape: tuple, blockshape: tuple, movedAxis: bool = True, channel: bool = True) -> np.ndarray:\n",
    "\n",
    "    if channel:\n",
    "        if len(imageshape) == 2:\n",
    "            mode = \"grey\"\n",
    "            imageshape = *imageshape, 1\n",
    "        else:\n",
    "            mode = \"color\"\n",
    "\n",
    "    if channel:\n",
    "        img_height, img_width, channels = imageshape\n",
    "    else:\n",
    "        img_height, img_width = imageshape\n",
    "\n",
    "    tile_height, tile_width = blockshape\n",
    "\n",
    "    if movedAxis:\n",
    "        image = tiled_array.copy()\n",
    "        if(channel):\n",
    "            image=np.moveaxis(image, source=1, destination=-1)\n",
    "            image = image.reshape(img_height//tile_height, tile_height,\n",
    "                                  img_width//tile_width, tile_width, channels)\n",
    "            swapaxisShape = list(image.shape)\n",
    "            swapaxisShape[1], swapaxisShape[2] = swapaxisShape[2], swapaxisShape[1]\n",
    "            image = image.reshape(swapaxisShape)\n",
    "            image = image.swapaxes(1, 2)\n",
    "        else:\n",
    "            f = image.reshape(img_height//tile_height, tile_height,\n",
    "                              img_width//tile_width, tile_width)\n",
    "            swapaxisShape = list(f.shape)\n",
    "            swapaxisShape[1], swapaxisShape[2] = swapaxisShape[2], swapaxisShape[1]\n",
    "            tmp = f.reshape(swapaxisShape)\n",
    "            image = tmp.swapaxes(1, 2)\n",
    "    else:\n",
    "        image = tiled_array\n",
    "        # I haven't completed this else case. Btw we aren't using this case lol :)\n",
    "\n",
    "    return image.reshape(imageshape)\n"
   ]
  },
  {
   "cell_type": "code",
   "execution_count": null,
   "metadata": {},
   "outputs": [],
   "source": [
    "image = np.arange(1,(512*1024*3)+1).reshape(512,1024,3)\n",
    "image.shape,image.strides,image"
   ]
  },
  {
   "cell_type": "code",
   "execution_count": null,
   "metadata": {},
   "outputs": [],
   "source": [
    "blocksize=(16,16)"
   ]
  },
  {
   "cell_type": "code",
   "execution_count": null,
   "metadata": {},
   "outputs": [],
   "source": [
    "a=getblocks(image, blockshape=blocksize)\n",
    "a.shape, a.strides, a"
   ]
  },
  {
   "cell_type": "code",
   "execution_count": null,
   "metadata": {},
   "outputs": [],
   "source": [
    "res=combineBlocks(a, image.shape, blocksize)"
   ]
  },
  {
   "cell_type": "code",
   "execution_count": null,
   "metadata": {},
   "outputs": [],
   "source": [
    "(res.flat==image.flat).all()"
   ]
  },
  {
   "cell_type": "code",
   "execution_count": null,
   "metadata": {},
   "outputs": [],
   "source": [
    "img_height, img_width, channels = image.shape"
   ]
  },
  {
   "cell_type": "code",
   "execution_count": null,
   "metadata": {},
   "outputs": [],
   "source": [
    "tile_height, tile_width = blocksize"
   ]
  },
  {
   "cell_type": "markdown",
   "metadata": {},
   "source": [
    "dividing"
   ]
  },
  {
   "cell_type": "code",
   "execution_count": null,
   "metadata": {},
   "outputs": [],
   "source": [
    "img_height, img_width, channels = image.shape"
   ]
  },
  {
   "cell_type": "code",
   "execution_count": null,
   "metadata": {},
   "outputs": [],
   "source": [
    "shp = img_height//tile_height, tile_height, img_width//tile_width, tile_width, channels\n",
    "shp"
   ]
  },
  {
   "cell_type": "code",
   "execution_count": null,
   "metadata": {},
   "outputs": [],
   "source": [
    "if img_height % tile_height != 0 or img_width % tile_width != 0:\n",
    "  print(\"warning: Block size is not fit for the image!\")"
   ]
  },
  {
   "cell_type": "code",
   "execution_count": null,
   "metadata": {},
   "outputs": [],
   "source": [
    "u=image.reshape(shp)\n",
    "u.shape, u.strides, u"
   ]
  },
  {
   "cell_type": "code",
   "execution_count": null,
   "metadata": {},
   "outputs": [],
   "source": [
    "v=u.swapaxes(1,2)\n",
    "v.shape, v.strides, v"
   ]
  },
  {
   "cell_type": "code",
   "execution_count": null,
   "metadata": {},
   "outputs": [],
   "source": [
    "x=v.reshape(-1, *(tile_height, tile_width, channels))\n",
    "x.shape, x.strides, x"
   ]
  },
  {
   "cell_type": "code",
   "execution_count": null,
   "metadata": {},
   "outputs": [],
   "source": [
    "y=np.moveaxis(x, source=len(x.shape)-1, destination=1)\n",
    "y.shape, y.strides, y"
   ]
  },
  {
   "cell_type": "markdown",
   "metadata": {},
   "source": [
    "combining"
   ]
  },
  {
   "cell_type": "code",
   "execution_count": null,
   "metadata": {},
   "outputs": [],
   "source": [
    "b=y.copy()\n",
    "b.shape, b.strides, b"
   ]
  },
  {
   "cell_type": "code",
   "execution_count": null,
   "metadata": {},
   "outputs": [],
   "source": [
    "b1=np.moveaxis(b, source=1, destination=-1)\n",
    "b1.shape, b1.strides, b1"
   ]
  },
  {
   "cell_type": "code",
   "execution_count": null,
   "metadata": {},
   "outputs": [],
   "source": [
    "c = b1.reshape(img_height//tile_height, tile_height,\n",
    "                                  img_width//tile_width, tile_width, channels)\n",
    "c.shape, c.strides, c"
   ]
  },
  {
   "cell_type": "code",
   "execution_count": null,
   "metadata": {},
   "outputs": [],
   "source": [
    "swapaxisShape = list(c.shape)\n",
    "swapaxisShape"
   ]
  },
  {
   "cell_type": "code",
   "execution_count": null,
   "metadata": {},
   "outputs": [],
   "source": [
    "swapaxisShape[1], swapaxisShape[2] = swapaxisShape[2], swapaxisShape[1]\n",
    "swapaxisShape"
   ]
  },
  {
   "cell_type": "code",
   "execution_count": null,
   "metadata": {},
   "outputs": [],
   "source": [
    "d = c.reshape(swapaxisShape)\n",
    "d.shape, d.strides, d"
   ]
  },
  {
   "cell_type": "code",
   "execution_count": null,
   "metadata": {},
   "outputs": [],
   "source": [
    "e=d.swapaxes(1,2)\n",
    "e.shape, e.strides, e"
   ]
  },
  {
   "cell_type": "code",
   "execution_count": null,
   "metadata": {},
   "outputs": [],
   "source": [
    "f=e.reshape( image.shape)"
   ]
  },
  {
   "cell_type": "code",
   "execution_count": null,
   "metadata": {},
   "outputs": [],
   "source": [
    "(f.flat==image.flat).all()"
   ]
  }
 ],
 "metadata": {
  "interpreter": {
   "hash": "e7370f93d1d0cde622a1f8e1c04877d8463912d04d973331ad4851f04de6915a"
  },
  "kernelspec": {
   "display_name": "Python 3.10.4 64-bit",
   "language": "python",
   "name": "python3"
  },
  "language_info": {
   "codemirror_mode": {
    "name": "ipython",
    "version": 3
   },
   "file_extension": ".py",
   "mimetype": "text/x-python",
   "name": "python",
   "nbconvert_exporter": "python",
   "pygments_lexer": "ipython3",
   "version": "3.10.4"
  },
  "orig_nbformat": 4
 },
 "nbformat": 4,
 "nbformat_minor": 2
}
