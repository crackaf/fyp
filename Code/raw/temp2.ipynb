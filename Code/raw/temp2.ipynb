{
 "cells": [
  {
   "cell_type": "code",
   "execution_count": null,
   "metadata": {},
   "outputs": [],
   "source": [
    "from PIL import Image\n",
    "import numpy as np"
   ]
  },
  {
   "cell_type": "code",
   "execution_count": null,
   "metadata": {},
   "outputs": [],
   "source": [
    "def getblocks(image: np.ndarray, blockshape: tuple, moveAxis: bool = True) -> np.ndarray:\n",
    "    '''\n",
    "    takes the array of image in grey= 2D and in RGB = 3D\n",
    "    takes the numpy array and converts it the the blocks in the fastest way\n",
    "    '''\n",
    "    if len(image.shape) == 2:\n",
    "        mode = \"grey\"\n",
    "        image = image.reshape(*image.shape, 1)\n",
    "    else:\n",
    "        mode = \"color\"\n",
    "\n",
    "    img_height, img_width, channels = image.shape\n",
    "    tile_height, tile_width = blockshape\n",
    "\n",
    "    if img_height % tile_height != 0 or img_width % tile_width != 0:\n",
    "        print(\"warning: Block size is not fit for the image!\")\n",
    "\n",
    "    tiled_array = image.reshape(\n",
    "        img_height//tile_height, tile_height, img_width//tile_width, tile_width, channels)\n",
    "    tiled_array = tiled_array.swapaxes(1, 2)\n",
    "\n",
    "    if moveAxis:\n",
    "        tiled_array = tiled_array.reshape(-1,\n",
    "                                          *(tile_height, tile_width, channels))\n",
    "        tiled_array = np.moveaxis(tiled_array, source=len(\n",
    "            tiled_array.shape)-1, destination=1)\n",
    "\n",
    "    return tiled_array\n",
    "\n",
    "\n",
    "def combineBlocks(tiled_array: np.ndarray, imageshape: tuple, blockshape: tuple, movedAxis: bool = True) -> np.ndarray:\n",
    "\n",
    "    if len(imageshape) == 2:\n",
    "        mode = \"grey\"\n",
    "        imageshape = *imageshape, 1\n",
    "    else:\n",
    "        mode = \"color\"\n",
    "\n",
    "    img_height, img_width, channels = imageshape\n",
    "    tile_height, tile_width = blockshape\n",
    "\n",
    "    if movedAxis:\n",
    "        image = tiled_array.copy()\n",
    "        image = image.reshape(img_height//tile_height, tile_height,\n",
    "                              img_width//tile_width, tile_width, channels)\n",
    "        swapaxisShape = list(image.shape)\n",
    "        swapaxisShape[1], swapaxisShape[2] = swapaxisShape[2], swapaxisShape[1]\n",
    "        image = image.reshape(swapaxisShape)\n",
    "        image = image.swapaxes(1, 2)\n",
    "    else:\n",
    "        image = tiled_array\n",
    "        # IDK have completed this else case. Btw we aren't using this case lol :)\n",
    "\n",
    "    return image.reshape(imageshape)\n"
   ]
  },
  {
   "cell_type": "code",
   "execution_count": null,
   "metadata": {},
   "outputs": [],
   "source": [
    "image = np.arange(1,(16*16)+1).reshape(16,16)\n",
    "image"
   ]
  },
  {
   "cell_type": "code",
   "execution_count": null,
   "metadata": {},
   "outputs": [],
   "source": [
    "hehe = getblocks(image, (4, 4))\n",
    "hehe.shape, hehe.strides, hehe\n"
   ]
  },
  {
   "cell_type": "code",
   "execution_count": null,
   "metadata": {},
   "outputs": [],
   "source": [
    "sixtenb=hehe.copy()\n",
    "sixtenb.shape,sixtenb.strides, sixtenb"
   ]
  },
  {
   "cell_type": "code",
   "execution_count": null,
   "metadata": {},
   "outputs": [],
   "source": [
    "lul = getblocks(sixtenb[0][0], (2, 2), False)\n",
    "lul.shape, lul.strides, lul\n"
   ]
  },
  {
   "cell_type": "code",
   "execution_count": null,
   "metadata": {},
   "outputs": [],
   "source": []
  },
  {
   "cell_type": "code",
   "execution_count": null,
   "metadata": {},
   "outputs": [],
   "source": [
    "for i in range(16):\n",
    "    sixtenb[i][:] = getblocks(sixtenb[i][0], (2, 2))\n",
    "sixtenb.shape,sixtenb.strides, sixtenb"
   ]
  },
  {
   "cell_type": "code",
   "execution_count": null,
   "metadata": {},
   "outputs": [],
   "source": [
    "hehe[0], hehe[100], hehe[6554]"
   ]
  },
  {
   "cell_type": "code",
   "execution_count": null,
   "metadata": {},
   "outputs": [],
   "source": [
    "ret = combineBlocks(hehe, (512, 512), (16, 4))\n",
    "ret.shape, ret.strides, ret"
   ]
  },
  {
   "cell_type": "code",
   "execution_count": null,
   "metadata": {},
   "outputs": [],
   "source": [
    "(ret.reshape(-1) == image.reshape(-1)).all()\n"
   ]
  },
  {
   "cell_type": "code",
   "execution_count": null,
   "metadata": {},
   "outputs": [],
   "source": [
    "for i in range(512):\n",
    "    for j in range(512):\n",
    "        if ret[i][j][0] != image[i][j]:\n",
    "            print(i, j, ret[i][j][0], image[i][j])\n"
   ]
  }
 ],
 "metadata": {
  "interpreter": {
   "hash": "63fd5069d213b44bf678585dea6b12cceca9941eaf7f819626cde1f2670de90d"
  },
  "kernelspec": {
   "display_name": "Python 3.9.6 64-bit",
   "language": "python",
   "name": "python3"
  },
  "language_info": {
   "codemirror_mode": {
    "name": "ipython",
    "version": 3
   },
   "file_extension": ".py",
   "mimetype": "text/x-python",
   "name": "python",
   "nbconvert_exporter": "python",
   "pygments_lexer": "ipython3",
   "version": "3.9.6"
  },
  "orig_nbformat": 4
 },
 "nbformat": 4,
 "nbformat_minor": 2
}
