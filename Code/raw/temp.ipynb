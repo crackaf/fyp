{
 "cells": [
  {
   "cell_type": "code",
   "execution_count": null,
   "metadata": {},
   "outputs": [],
   "source": [
    "# from image import Image\n",
    "import cv2\n",
    "import numpy as np\n",
    "from PIL import Image\n",
    "# lal = Image.imread(\n",
    "#     \"/media/crackaf/44edb061-17db-4bf8-89a9-ad14bbb373b5/code/github/fyp/implementation/raw/lena.gif\")\n",
    "# # lal.show_imarr()\n",
    "\n",
    "imarr = cv2.imread(\n",
    "    \"/media/crackaf/44edb061-17db-4bf8-89a9-ad14bbb373b5/code/github/fyp/implementation/raw/lala.png\", 1)\n",
    "print(imarr.shape)\n",
    "imarr2 = np.array(Image.open(\n",
    "    \"/media/crackaf/44edb061-17db-4bf8-89a9-ad14bbb373b5/code/github/fyp/implementation/raw/lala.png\", \"r\"))\n",
    "print(imarr2.shape)\n",
    "print((imarr2 == imarr).sum())\n"
   ]
  },
  {
   "cell_type": "code",
   "execution_count": null,
   "metadata": {},
   "outputs": [],
   "source": [
    "from PIL import Image\n",
    "import numpy as np"
   ]
  },
  {
   "cell_type": "code",
   "execution_count": null,
   "metadata": {},
   "outputs": [],
   "source": [
    "def getblocks(image: np.ndarray, blockshape: tuple, moveAxis: bool = True, info: bool = False, addChannel: bool = True) -> np.ndarray:\n",
    "    '''\n",
    "    takes the array of image in grey= 2D and in RGB = 3D\n",
    "    takes the numpy array and converts it the the blocks in the fastest way\n",
    "    '''\n",
    "    if(info):\n",
    "        print(\"Image Shape:\", image.shape)\n",
    "        print(\"Block Shape:\", blockshape)\n",
    "\n",
    "    oldshape = list(image.shape)\n",
    "    if addChannel and len(image.shape) == 2:\n",
    "        mode = \"grey\"\n",
    "        image = image.reshape((*image.shape, 1))\n",
    "    else:\n",
    "        mode = \"color\"\n",
    "\n",
    "    if addChannel:\n",
    "        img_height, img_width, channels = image.shape\n",
    "    else:\n",
    "        img_height, img_width = image.shape\n",
    "\n",
    "    tile_height, tile_width = blockshape\n",
    "\n",
    "    if addChannel:\n",
    "        shp = img_height//tile_height, tile_height, img_width//tile_width, tile_width, channels\n",
    "    else:\n",
    "        shp = img_height//tile_height, tile_height, img_width//tile_width, tile_width\n",
    "\n",
    "    def printinfo():\n",
    "        print(\"Old Shape:\", oldshape)\n",
    "        print(\"Image Shape:\", image.shape)\n",
    "        print(\"Block Shape:\", blockshape)\n",
    "        print(\"New Shape Initial:\", shp)\n",
    "        print(\"img_height % tile_height != 0 :\", img_height % tile_height != 0)\n",
    "        print(\"img_width % tile_width != 0 :\", img_width % tile_width != 0)\n",
    "\n",
    "    if img_height % tile_height != 0 or img_width % tile_width != 0:\n",
    "        print(\"warning: Block size is not fit for the image!\")\n",
    "        printinfo()\n",
    "\n",
    "    if(info):\n",
    "        printinfo()\n",
    "\n",
    "    tiled_array = image.reshape(shp)\n",
    "    tiled_array = tiled_array.swapaxes(1, 2)\n",
    "\n",
    "    if moveAxis:\n",
    "        if(addChannel):\n",
    "            tiled_array = tiled_array.reshape(-1,\n",
    "                                              *(tile_height, tile_width, channels))\n",
    "            tiled_array = np.moveaxis(tiled_array, source=len(\n",
    "                tiled_array.shape)-1, destination=1)\n",
    "        else:\n",
    "            tiled_array = tiled_array.reshape(-1, *(tile_height, tile_width))\n",
    "\n",
    "    return tiled_array\n"
   ]
  },
  {
   "cell_type": "code",
   "execution_count": null,
   "metadata": {},
   "outputs": [],
   "source": [
    "def combineBlocks(tiled_array: np.ndarray, imageshape: tuple, blockshape: tuple, movedAxis: bool = True, channel: bool = True) -> np.ndarray:\n",
    "\n",
    "    if channel:\n",
    "        if len(imageshape) == 2:\n",
    "            mode = \"grey\"\n",
    "            imageshape = *imageshape, 1\n",
    "        else:\n",
    "            mode = \"color\"\n",
    "\n",
    "    if channel:\n",
    "        img_height, img_width, channels = imageshape\n",
    "    else:\n",
    "        img_height, img_width = imageshape\n",
    "\n",
    "    tile_height, tile_width = blockshape\n",
    "\n",
    "    if movedAxis:\n",
    "        image = tiled_array.copy()\n",
    "        if(channel):\n",
    "            image=np.moveaxis(image, source=1, destination=-1)\n",
    "            image = image.reshape(img_height//tile_height, tile_height,\n",
    "                                  img_width//tile_width, tile_width, channels)\n",
    "            swapaxisShape = list(image.shape)\n",
    "            swapaxisShape[1], swapaxisShape[2] = swapaxisShape[2], swapaxisShape[1]\n",
    "            image = image.reshape(swapaxisShape)\n",
    "            image = image.swapaxes(1, 2)\n",
    "        else:\n",
    "            f = image.reshape(img_height//tile_height, tile_height,\n",
    "                              img_width//tile_width, tile_width)\n",
    "            swapaxisShape = list(f.shape)\n",
    "            swapaxisShape[1], swapaxisShape[2] = swapaxisShape[2], swapaxisShape[1]\n",
    "            tmp = f.reshape(swapaxisShape)\n",
    "            image = tmp.swapaxes(1, 2)\n",
    "    else:\n",
    "        image = tiled_array\n",
    "        # I haven't completed this else case. Btw we aren't using this case lol :)\n",
    "\n",
    "    return image.reshape(imageshape)\n"
   ]
  },
  {
   "cell_type": "code",
   "execution_count": null,
   "metadata": {},
   "outputs": [],
   "source": [
    "k=Image.open(f\"fyp_image.JPG\").convert(\"RGB\")\n",
    "np.array(k).shape"
   ]
  },
  {
   "cell_type": "code",
   "execution_count": null,
   "metadata": {},
   "outputs": [],
   "source": [
    "image = np.arange(1,(4*4*3)+1).reshape(4,4,3)\n",
    "image"
   ]
  },
  {
   "cell_type": "code",
   "execution_count": null,
   "metadata": {},
   "outputs": [],
   "source": [
    "# img=Image.open(\"lena_gray.gif\").convert(\"L\")\n",
    "# image=np.array(img)"
   ]
  },
  {
   "cell_type": "code",
   "execution_count": null,
   "metadata": {},
   "outputs": [],
   "source": [
    "image"
   ]
  },
  {
   "cell_type": "code",
   "execution_count": null,
   "metadata": {},
   "outputs": [],
   "source": [
    "image.shape,image.strides"
   ]
  },
  {
   "cell_type": "code",
   "execution_count": null,
   "metadata": {},
   "outputs": [],
   "source": [
    "blocksize=(2,2)"
   ]
  },
  {
   "cell_type": "code",
   "execution_count": null,
   "metadata": {},
   "outputs": [],
   "source": [
    "# image=image.reshape(*image.shape, 1)"
   ]
  },
  {
   "cell_type": "code",
   "execution_count": null,
   "metadata": {},
   "outputs": [],
   "source": [
    "f=getblocks(image, blockshape=blocksize)\n",
    "f.shape, f.strides, f"
   ]
  },
  {
   "cell_type": "code",
   "execution_count": null,
   "metadata": {},
   "outputs": [],
   "source": [
    "t=combineBlocks(f, (4, 4, 3), blockshape=blocksize)\n",
    "t.shape , t.strides, t"
   ]
  },
  {
   "cell_type": "code",
   "execution_count": null,
   "metadata": {},
   "outputs": [],
   "source": [
    "t.reshape(4,4,3)"
   ]
  },
  {
   "cell_type": "code",
   "execution_count": null,
   "metadata": {},
   "outputs": [],
   "source": [
    "img_height, img_width = image.shape\n",
    "tile_height, tile_width = blocksize\n"
   ]
  },
  {
   "cell_type": "code",
   "execution_count": null,
   "metadata": {},
   "outputs": [],
   "source": [
    "haha=img_height//tile_height, tile_height, img_width//tile_width, tile_width\n",
    "haha"
   ]
  },
  {
   "cell_type": "code",
   "execution_count": null,
   "metadata": {},
   "outputs": [],
   "source": [
    "a=image.reshape(haha)\n",
    "a, a.shape, a.strides"
   ]
  },
  {
   "cell_type": "code",
   "execution_count": null,
   "metadata": {},
   "outputs": [],
   "source": [
    "b=a.swapaxes(1,2)\n",
    "b, b.shape, b.strides"
   ]
  },
  {
   "cell_type": "code",
   "execution_count": null,
   "metadata": {},
   "outputs": [],
   "source": [
    "c=b.reshape(-1, *blocksize)\n",
    "c, c.shape, c.strides\n"
   ]
  },
  {
   "cell_type": "markdown",
   "metadata": {},
   "source": [
    "reversing"
   ]
  },
  {
   "cell_type": "code",
   "execution_count": null,
   "metadata": {},
   "outputs": [],
   "source": [
    "e=c.copy()\n",
    "e.shape,e.strides,e\n",
    "# (4096, 2, 2, 1),\n",
    "#  (16, 8, 4, 4),"
   ]
  },
  {
   "cell_type": "code",
   "execution_count": null,
   "metadata": {},
   "outputs": [],
   "source": [
    "# # e=np.moveaxis(d, source=1, destination=len(c.shape)-1)\n",
    "# e = d.copy()\n",
    "# e.shape, e.strides, e\n"
   ]
  },
  {
   "cell_type": "code",
   "execution_count": null,
   "metadata": {},
   "outputs": [],
   "source": [
    "(e==c).all()"
   ]
  },
  {
   "cell_type": "code",
   "execution_count": null,
   "metadata": {},
   "outputs": [],
   "source": [
    "(e.reshape(-1)==b.reshape(-1)).all()"
   ]
  },
  {
   "cell_type": "code",
   "execution_count": null,
   "metadata": {},
   "outputs": [],
   "source": [
    "f=e.reshape(haha)\n",
    "f.shape, f.strides,f\n"
   ]
  },
  {
   "cell_type": "code",
   "execution_count": null,
   "metadata": {},
   "outputs": [],
   "source": [
    "(f.reshape(-1)==b.reshape(-1)).all()"
   ]
  },
  {
   "cell_type": "code",
   "execution_count": null,
   "metadata": {},
   "outputs": [],
   "source": [
    "(f.reshape(-1)==a.reshape(-1)).all()"
   ]
  },
  {
   "cell_type": "code",
   "execution_count": null,
   "metadata": {},
   "outputs": [],
   "source": [
    "f.shape, f.strides"
   ]
  },
  {
   "cell_type": "code",
   "execution_count": null,
   "metadata": {},
   "outputs": [],
   "source": [
    "# h=f.swapaxes(1,2)\n",
    "# h.shape, h.strides, h"
   ]
  },
  {
   "cell_type": "code",
   "execution_count": null,
   "metadata": {},
   "outputs": [],
   "source": [
    "# i=h.swapaxes(1,2)\n",
    "# i.shape, i.strides, i"
   ]
  },
  {
   "cell_type": "code",
   "execution_count": null,
   "metadata": {},
   "outputs": [],
   "source": [
    "# j=i.swapaxes(1,2)\n",
    "# j.shape, j.strides, j"
   ]
  },
  {
   "cell_type": "code",
   "execution_count": null,
   "metadata": {},
   "outputs": [],
   "source": [
    "swapaxisShape = list(f.shape)\n",
    "swapaxisShape[1], swapaxisShape[2] = swapaxisShape[2], swapaxisShape[1]\n",
    "swapaxisShape"
   ]
  },
  {
   "cell_type": "code",
   "execution_count": null,
   "metadata": {},
   "outputs": [],
   "source": [
    "tmp=f.reshape(swapaxisShape)\n",
    "tmp.shape, tmp.strides, tmp"
   ]
  },
  {
   "cell_type": "code",
   "execution_count": null,
   "metadata": {},
   "outputs": [],
   "source": [
    "f.strides, f.shape"
   ]
  },
  {
   "cell_type": "code",
   "execution_count": null,
   "metadata": {},
   "outputs": [],
   "source": [
    "# tmp.copy().strides, tmp.shape"
   ]
  },
  {
   "cell_type": "code",
   "execution_count": null,
   "metadata": {},
   "outputs": [],
   "source": [
    "# tmp2=f.swapaxes(1,2)\n",
    "# # tmp2.shape, tmp2.strides, tmp2"
   ]
  },
  {
   "cell_type": "code",
   "execution_count": null,
   "metadata": {},
   "outputs": [],
   "source": [
    "ret=tmp.swapaxes(1,2) ## done"
   ]
  },
  {
   "cell_type": "code",
   "execution_count": null,
   "metadata": {},
   "outputs": [],
   "source": [
    "ret"
   ]
  },
  {
   "cell_type": "code",
   "execution_count": null,
   "metadata": {},
   "outputs": [],
   "source": [
    "(ret==a).all()"
   ]
  },
  {
   "cell_type": "code",
   "execution_count": null,
   "metadata": {},
   "outputs": [],
   "source": [
    "ret.shape, ret.strides"
   ]
  },
  {
   "cell_type": "code",
   "execution_count": null,
   "metadata": {},
   "outputs": [],
   "source": [
    "ret=ret.reshape((512,512))\n",
    "ret"
   ]
  },
  {
   "cell_type": "code",
   "execution_count": null,
   "metadata": {},
   "outputs": [],
   "source": [
    "g=f.swapaxes(1,2)\n",
    "g.shape, g.strides, g"
   ]
  },
  {
   "cell_type": "code",
   "execution_count": null,
   "metadata": {},
   "outputs": [],
   "source": [
    "(g.reshape(-1)==b.reshape(-1)).all()"
   ]
  },
  {
   "cell_type": "code",
   "execution_count": null,
   "metadata": {},
   "outputs": [],
   "source": [
    "image.reshape(-1).shape, image.reshape(-1).strides"
   ]
  },
  {
   "cell_type": "code",
   "execution_count": null,
   "metadata": {},
   "outputs": [],
   "source": [
    "g.reshape(-1).shape, g.reshape(-1).strides"
   ]
  },
  {
   "cell_type": "code",
   "execution_count": null,
   "metadata": {},
   "outputs": [],
   "source": [
    "h=g.reshape(-1).reshape(haha)\n",
    "h, h.shape, h.strides\n"
   ]
  },
  {
   "cell_type": "code",
   "execution_count": null,
   "metadata": {},
   "outputs": [],
   "source": [
    "(h.reshape(-1)==image.reshape(-1)).all()"
   ]
  },
  {
   "cell_type": "code",
   "execution_count": null,
   "metadata": {},
   "outputs": [],
   "source": [
    "np.set_printoptions(threshold=np.inf)\n",
    "g.reshape(-1)==image.reshape(-1)"
   ]
  },
  {
   "cell_type": "code",
   "execution_count": null,
   "metadata": {},
   "outputs": [],
   "source": [
    "h=b.swapaxes(1,2)\n",
    "h.reshape(-1)"
   ]
  },
  {
   "cell_type": "code",
   "execution_count": null,
   "metadata": {},
   "outputs": [],
   "source": []
  }
 ],
 "metadata": {
  "interpreter": {
   "hash": "e7370f93d1d0cde622a1f8e1c04877d8463912d04d973331ad4851f04de6915a"
  },
  "kernelspec": {
   "display_name": "Python 3.10.4 64-bit",
   "language": "python",
   "name": "python3"
  },
  "language_info": {
   "codemirror_mode": {
    "name": "ipython",
    "version": 3
   },
   "file_extension": ".py",
   "mimetype": "text/x-python",
   "name": "python",
   "nbconvert_exporter": "python",
   "pygments_lexer": "ipython3",
   "version": "3.10.4"
  },
  "orig_nbformat": 4
 },
 "nbformat": 4,
 "nbformat_minor": 2
}
