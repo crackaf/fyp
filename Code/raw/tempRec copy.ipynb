{
 "cells": [
  {
   "cell_type": "code",
   "execution_count": null,
   "metadata": {},
   "outputs": [],
   "source": [
    "import time\n",
    "import numpy as np\n",
    "from PIL import Image"
   ]
  },
  {
   "cell_type": "code",
   "execution_count": null,
   "metadata": {},
   "outputs": [],
   "source": [
    "imarr=np.array(Image.open('lena.gif').convert('L'))"
   ]
  },
  {
   "cell_type": "code",
   "execution_count": null,
   "metadata": {},
   "outputs": [],
   "source": [
    "lookup = np.array([\n",
    "            [0, 7, 13, 10],\n",
    "            [1, 6, 12, 11],\n",
    "            [4, 2, 9, 15],\n",
    "            [5, 3, 8, 14]], dtype=np.uint8)"
   ]
  },
  {
   "cell_type": "code",
   "execution_count": null,
   "metadata": {},
   "outputs": [],
   "source": [
    "from embedding import watermark_embedding\n",
    "embedded=watermark_embedding(imarr, lookup).imarr\n",
    "embedded.shape"
   ]
  },
  {
   "cell_type": "code",
   "execution_count": null,
   "metadata": {},
   "outputs": [],
   "source": [
    "Image.fromarray(embedded)"
   ]
  },
  {
   "cell_type": "code",
   "execution_count": null,
   "metadata": {},
   "outputs": [],
   "source": [
    "from utils import psnr\n",
    "psnr(imarr, embedded)"
   ]
  },
  {
   "cell_type": "code",
   "execution_count": null,
   "metadata": {},
   "outputs": [],
   "source": [
    "# save\n",
    "Image.fromarray(embedded).save('lena_embedded.png')"
   ]
  },
  {
   "cell_type": "code",
   "execution_count": null,
   "metadata": {},
   "outputs": [],
   "source": [
    "# raise Exception(\"stop\")"
   ]
  },
  {
   "cell_type": "markdown",
   "metadata": {},
   "source": [
    "temper img"
   ]
  },
  {
   "cell_type": "code",
   "execution_count": null,
   "metadata": {},
   "outputs": [],
   "source": [
    "startx = 200\n",
    "starty = 200\n",
    "width = 50\n",
    "height = 50\n",
    "\n",
    "for i in range(width):\n",
    "    for j in range(height):\n",
    "        embedded[startx+i][starty+j] = 0"
   ]
  },
  {
   "cell_type": "code",
   "execution_count": null,
   "metadata": {},
   "outputs": [],
   "source": [
    "startx = 100\n",
    "starty = 100\n",
    "width = 50\n",
    "height = 50\n",
    "\n",
    "for i in range(width):\n",
    "    for j in range(height):\n",
    "        embedded[startx+i][starty+j] = 0"
   ]
  },
  {
   "cell_type": "code",
   "execution_count": null,
   "metadata": {},
   "outputs": [],
   "source": [
    "imarr=embedded.copy()"
   ]
  },
  {
   "cell_type": "markdown",
   "metadata": {},
   "source": [
    "Recovrey"
   ]
  },
  {
   "cell_type": "code",
   "execution_count": null,
   "metadata": {},
   "outputs": [],
   "source": [
    "# imarr=np.array(Image.open('lena_embedded_edited.png').convert('L'))"
   ]
  },
  {
   "cell_type": "code",
   "execution_count": null,
   "metadata": {},
   "outputs": [],
   "source": [
    "Image.fromarray(imarr)"
   ]
  },
  {
   "cell_type": "code",
   "execution_count": null,
   "metadata": {},
   "outputs": [],
   "source": [
    "from authentication import watermark_authentication\n",
    "tempred=watermark_authentication(imarr).tempred\n",
    "tempred.shape,tempred"
   ]
  },
  {
   "cell_type": "code",
   "execution_count": null,
   "metadata": {},
   "outputs": [],
   "source": [
    "from recoverybits import extract\n",
    "recovery_bits=extract.extract(embedded)\n",
    "recovery_bits.shape"
   ]
  },
  {
   "cell_type": "code",
   "execution_count": null,
   "metadata": {},
   "outputs": [],
   "source": [
    "# raise Error"
   ]
  },
  {
   "cell_type": "code",
   "execution_count": null,
   "metadata": {},
   "outputs": [],
   "source": [
    "recovery_bits"
   ]
  },
  {
   "cell_type": "code",
   "execution_count": null,
   "metadata": {},
   "outputs": [],
   "source": [
    "lookup"
   ]
  },
  {
   "cell_type": "code",
   "execution_count": null,
   "metadata": {},
   "outputs": [],
   "source": [
    "partner=0\n",
    "id=0\n",
    "np.any(tempred[lookup[partner,id]])"
   ]
  },
  {
   "cell_type": "code",
   "execution_count": null,
   "metadata": {},
   "outputs": [],
   "source": [
    "partner_block = -1\n",
    "for i in range(lookup[partner].shape[0]):\n",
    "    # if this id isn't tempred, we can stop\n",
    "    if i != id and not np.any(tempred[lookup[partner,i]]):\n",
    "        partner_block = partner,i\n",
    "        break"
   ]
  },
  {
   "cell_type": "code",
   "execution_count": null,
   "metadata": {},
   "outputs": [],
   "source": [
    "partner_block, (partner,id)"
   ]
  },
  {
   "cell_type": "code",
   "execution_count": null,
   "metadata": {},
   "outputs": [],
   "source": [
    "idx = id\n",
    "if partner_block[1] < id:\n",
    "  idx -= 1\n",
    "idx"
   ]
  },
  {
   "cell_type": "code",
   "execution_count": null,
   "metadata": {},
   "outputs": [],
   "source": [
    "\n",
    "\n",
    "# now we have partner_block, so we can recover it\n",
    "# get the recovery bits of this partner block\n",
    "recovery_bits_partner = recovery_bits[lookup[partner_block],\n",
    "                                  idx*recovery_bits.shape[1]//3:idx+recovery_bits.shape[1]//3]\n",
    "\n",
    "# now we have recovrey bits the exact partner block\n",
    "# but these are in binary, so we need to convert them to uint\n",
    "recovery_decimals = np.packbits(recovery_bits_partner)"
   ]
  },
  {
   "cell_type": "code",
   "execution_count": null,
   "metadata": {},
   "outputs": [],
   "source": [
    "recovery_bits.shape"
   ]
  },
  {
   "cell_type": "code",
   "execution_count": null,
   "metadata": {},
   "outputs": [],
   "source": [
    "recovery_bits_partner.shape"
   ]
  },
  {
   "cell_type": "code",
   "execution_count": null,
   "metadata": {},
   "outputs": [],
   "source": [
    "recovery_decimals.shape"
   ]
  },
  {
   "cell_type": "code",
   "execution_count": null,
   "metadata": {},
   "outputs": [],
   "source": [
    "Image.fromarray(recovery_decimals.reshape(32,32))"
   ]
  },
  {
   "cell_type": "code",
   "execution_count": null,
   "metadata": {},
   "outputs": [],
   "source": [
    "recovery_decimals=recovery_decimals.reshape(16,-1)\n",
    "recovery_decimals.shape"
   ]
  },
  {
   "cell_type": "code",
   "execution_count": null,
   "metadata": {},
   "outputs": [],
   "source": [
    "Image.fromarray(recovery_decimals)"
   ]
  },
  {
   "cell_type": "code",
   "execution_count": null,
   "metadata": {},
   "outputs": [],
   "source": [
    "Image.fromarray(recovery_decimals.reshape(32,32))"
   ]
  },
  {
   "cell_type": "code",
   "execution_count": null,
   "metadata": {},
   "outputs": [],
   "source": [
    "import math"
   ]
  },
  {
   "cell_type": "code",
   "execution_count": null,
   "metadata": {},
   "outputs": [],
   "source": [
    "newshape=recovery_decimals.shape[0]*recovery_decimals.shape[1]*4*4\n",
    "newshape, math.sqrt(newshape)"
   ]
  },
  {
   "cell_type": "code",
   "execution_count": null,
   "metadata": {},
   "outputs": [],
   "source": [
    "from blocks import get_blocks, combine_blocks\n"
   ]
  },
  {
   "cell_type": "code",
   "execution_count": null,
   "metadata": {},
   "outputs": [],
   "source": [
    "# making 16 main blocks\n",
    "# size of single main block S= M/sqrt(16) X T=N/sqrt(16)\n",
    "# e.g for lena the 512x512 the partner blocks size would be 16 blocks each with size (512x512)/(4x4) = 128x128\n",
    "mainblock_shape = (int(imarr.shape[0]/4), int(imarr.shape[1]/4))\n",
    "mainblocks = get_blocks(imarr.copy(), mainblock_shape)\n",
    "\n",
    "# here the main blocks are like this index.\n",
    "# 1st index is the block number.\n",
    "# 2nd index is the channel (RGB) or 0 in Grey.\n",
    "# 3rd and 4th are for indexing the block.\n",
    "\n",
    "# Making 16x16 for Step 8\n",
    "# Dividing the main blocks to 16x16 blocks\n",
    "# Total blocks = SxT/16x16 = 128x128/16x16 = 64 Blocks\n",
    "\n",
    "b16x16_shape = (16, 16)\n",
    "# reshaping because we needed that shape\n",
    "b16x16 = mainblocks.reshape(\n",
    "  *mainblocks.shape[:-2],\n",
    "  int((mainblock_shape[0]*mainblock_shape[1]) /\n",
    "      (b16x16_shape[0]*b16x16_shape[1])),\n",
    "  b16x16_shape[0], b16x16_shape[1]).copy()\n",
    "\n",
    "for i in range(mainblocks.shape[0]):\n",
    "  b16x16[i][0] = get_blocks(mainblocks[i][0], b16x16_shape,\n",
    "                            addChannel=False)"
   ]
  },
  {
   "cell_type": "code",
   "execution_count": null,
   "metadata": {},
   "outputs": [],
   "source": [
    "Image.fromarray(b16x16[0][0][0])"
   ]
  },
  {
   "cell_type": "code",
   "execution_count": null,
   "metadata": {},
   "outputs": [],
   "source": [
    "b16x16.shape"
   ]
  },
  {
   "cell_type": "code",
   "execution_count": null,
   "metadata": {},
   "outputs": [],
   "source": [
    "b16x16[0][0][0].shape"
   ]
  },
  {
   "cell_type": "code",
   "execution_count": null,
   "metadata": {},
   "outputs": [],
   "source": [
    "b4x4.shape"
   ]
  },
  {
   "cell_type": "code",
   "execution_count": null,
   "metadata": {},
   "outputs": [],
   "source": [
    "r4x4=get_blocks(recovery_decimals.reshape(32,32), (4,4))"
   ]
  },
  {
   "cell_type": "code",
   "execution_count": null,
   "metadata": {},
   "outputs": [],
   "source": [
    "recovery_decimals.shape"
   ]
  },
  {
   "cell_type": "code",
   "execution_count": null,
   "metadata": {},
   "outputs": [],
   "source": [
    "import scipy.ndimage"
   ]
  },
  {
   "cell_type": "code",
   "execution_count": null,
   "metadata": {},
   "outputs": [],
   "source": [
    "b16x16.shape"
   ]
  },
  {
   "cell_type": "code",
   "execution_count": null,
   "metadata": {},
   "outputs": [],
   "source": [
    "tempred.shape"
   ]
  },
  {
   "cell_type": "code",
   "execution_count": null,
   "metadata": {},
   "outputs": [],
   "source": [
    "int(imarr.shape[0]/(4*4))"
   ]
  },
  {
   "cell_type": "code",
   "execution_count": null,
   "metadata": {},
   "outputs": [],
   "source": [
    "Image.fromarray(recovery_decimals)"
   ]
  },
  {
   "cell_type": "code",
   "execution_count": null,
   "metadata": {},
   "outputs": [],
   "source": [
    "x=scipy.ndimage.zoom(recovery_decimals.reshape(32,32), 4, order=0)\n",
    "x.shape"
   ]
  },
  {
   "cell_type": "code",
   "execution_count": null,
   "metadata": {},
   "outputs": [],
   "source": [
    "r4x4=get_blocks(x, (16,16), addChannel=False)\n",
    "r4x4.shape"
   ]
  },
  {
   "cell_type": "code",
   "execution_count": null,
   "metadata": {},
   "outputs": [],
   "source": [
    "Image.fromarray(r4x4[0])"
   ]
  },
  {
   "cell_type": "code",
   "execution_count": null,
   "metadata": {},
   "outputs": [],
   "source": [
    "r4x4.shape"
   ]
  },
  {
   "cell_type": "code",
   "execution_count": null,
   "metadata": {},
   "outputs": [],
   "source": [
    "r4x4"
   ]
  },
  {
   "cell_type": "code",
   "execution_count": null,
   "metadata": {},
   "outputs": [],
   "source": [
    "Image.fromarray"
   ]
  },
  {
   "cell_type": "code",
   "execution_count": null,
   "metadata": {},
   "outputs": [],
   "source": [
    "start_t = time.time()\n",
    "\n",
    "recoveredarr = imarr.copy()\n",
    "\n",
    "for partner in lookup:  # A,B,C,D\n",
    "    for id in partner:  # A1,A2,A3.....D4 etc\n",
    "        # check if this is tempred\n",
    "        if np.any(tempred[id]):\n",
    "            # this mainblock is tempred, so we need to recover it\n",
    "            # but which 16x16 block is tempred?\n",
    "\n",
    "            # get the partner block of this id also the id it sits\n",
    "            partner_block = -1\n",
    "            for pb in partner:\n",
    "                # if this id isn't tempred, we can stop\n",
    "                if pb != id and not np.any(tempred[pb]):\n",
    "                    partner_block = pb\n",
    "                    break\n",
    "\n",
    "            if partner_block == -1:\n",
    "                print(\n",
    "                    \"Could not find partner block for id {}\".format(id))\n",
    "                continue\n",
    "\n",
    "            # get recovery bits of this id\n",
    "            # get index of this id in the partner block\n",
    "            idx = partner_block\n",
    "            if partner_block < id:\n",
    "                idx -= 1\n",
    "\n",
    "            # now we have partner_block, so we can recover it\n",
    "            # get the recovery bits of this partner block\n",
    "            recovery_bits_partner = recovery_bits[partner_block,\n",
    "                                                  idx*recovery_bits.shape[1]//3:idx+recovery_bits.shape[1]//3]\n",
    "\n",
    "            # now we have recovrey bits the exact partner block\n",
    "            # but these are in binary, so we need to convert them to uint\n",
    "            recovery_decimals = np.packbits(recovery_bits_partner)\n",
    "\n",
    "            # these recovery bits are for all the main blocks 4x4\n",
    "            # but we are going to replace only the tempred 16x16\n",
    "            "
   ]
  },
  {
   "cell_type": "code",
   "execution_count": null,
   "metadata": {},
   "outputs": [],
   "source": [
    "recovery_decimals"
   ]
  },
  {
   "cell_type": "code",
   "execution_count": null,
   "metadata": {},
   "outputs": [],
   "source": [
    "from typing import NamedTuple\n",
    "import numpy as np\n",
    "import scipy.ndimage\n",
    "import time\n",
    "from blocks import get_blocks, combine_blocks\n",
    "from recoverybits import make as recoverybits_make, embed as recoverybits_embed, extract as recoverybits_extract\n",
    "from authbits import make as authbits_make, embed as authbits_embed, extract as authbits_extract\n",
    "\n"
   ]
  },
  {
   "cell_type": "code",
   "execution_count": null,
   "metadata": {},
   "outputs": [],
   "source": [
    "imarr.shape, recovery_bits.shape, tempred.shape"
   ]
  },
  {
   "cell_type": "code",
   "execution_count": null,
   "metadata": {},
   "outputs": [],
   "source": [
    "\n",
    "start_t = time.time()\n",
    "\n",
    "recoveredarr = imarr.copy()"
   ]
  },
  {
   "cell_type": "code",
   "execution_count": null,
   "metadata": {},
   "outputs": [],
   "source": [
    "\n",
    "\n",
    "\n",
    "# only do if any of the blocks are tempred\n",
    "# if np.any(tempred):\n",
    "\n",
    "# converting the image to 16x16 blocks\n",
    "# making 16 main blocks\n",
    "# size of single main block S= M/sqrt(16) X T=N/sqrt(16)\n",
    "# e.g for lena the 512x512 the partner blocks size would be 16 blocks each with size (512x512)/(4x4) = 128x128\n",
    "mainblock_shape = (int(imarr.shape[0]/4), int(imarr.shape[1]/4))\n",
    "mainblocks = get_blocks(imarr.copy(), mainblock_shape)\n",
    "\n",
    "# here the main blocks are like this index.\n",
    "# 1st index is the block number.\n",
    "# 2nd index is the channel (RGB) or 0 in Grey.\n",
    "# 3rd and 4th are for indexing the block.\n",
    "\n",
    "# Making 16x16 for Step 8\n",
    "# Dividing the main blocks to 16x16 blocks\n",
    "# Total blocks = SxT/16x16 = 128x128/16x16 = 64 Blocks\n",
    "\n",
    "b16x16_shape = (16, 16)\n",
    "# reshaping because we needed that shape\n",
    "b16x16 = mainblocks.reshape(\n",
    "    *mainblocks.shape[:-2],\n",
    "    int((mainblock_shape[0]*mainblock_shape[1]) /\n",
    "        (b16x16_shape[0]*b16x16_shape[1])),\n",
    "    b16x16_shape[0], b16x16_shape[1]).copy()\n",
    "\n",
    "for i in range(mainblocks.shape[0]):\n",
    "    b16x16[i][0] = get_blocks(mainblocks[i][0], b16x16_shape,\n",
    "                                addChannel=False)\n",
    "\n",
    "for partner in range(lookup.shape[0]):  # A,B,C,D\n",
    "    for id in range(lookup.shape[1]):  # A1,A2,A3.....D4 etc\n",
    "        # check if this is tempred\n",
    "        if np.any(tempred[lookup[partner, id]]):\n",
    "            # this mainblock is tempred, so we need to recover it\n",
    "            # but which 16x16 block is tempred?\n",
    "\n",
    "            # get the partner block of this id also the id it sits\n",
    "            partner_block = -1, -1\n",
    "            for i in range(lookup[partner].shape[0]):\n",
    "                # if this id isn't tempred, we can stop\n",
    "                if i != id and not np.any(tempred[lookup[partner, i]]):\n",
    "                    partner_block = partner, i\n",
    "                    break\n",
    "\n",
    "            if partner_block == (-1, -1):\n",
    "                print(\n",
    "                    \"Could not find partner block {} for id {}\".format(partner,id))\n",
    "                continue\n",
    "\n",
    "            # get recovery bits of this id\n",
    "            # get index of this id in the partner block\n",
    "            idx = id\n",
    "            if partner_block[1] < id:\n",
    "                idx -= 1\n",
    "\n",
    "            # now we have partner_block, so we can recover it\n",
    "            # get the recovery bits of this partner block\n",
    "            recovery_bits_partner = recovery_bits[lookup[partner_block],\n",
    "                                                    idx*recovery_bits.shape[1]//3:idx*recovery_bits.shape[1]//3+recovery_bits.shape[1]//3]\n",
    "\n",
    "            # now we have recovrey bits the exact partner block\n",
    "            # but these are in binary, so we need to convert them to uint\n",
    "            recovery_decimals = np.packbits(recovery_bits_partner)\n",
    "\n",
    "            # these recovery bits are for all the main blocks 4x4\n",
    "            # but we are going to replace only the tempred 16x16\n",
    "\n",
    "            # shaping these recovery bits to the 16x16 blocks\n",
    "            r16x16 = get_blocks(scipy.ndimage.zoom(recovery_decimals.reshape(int(\n",
    "                imarr.shape[0]/(4*4)), int(imarr.shape[1]/(4*4))), 4, order=0), b16x16_shape, addChannel=False)\n",
    "\n",
    "            # now we repace which ever 16x16 block is tempred\n",
    "            for i in range(tempred[lookup[partner, id]].shape[0]):\n",
    "                if tempred[lookup[partner, id], i]:\n",
    "                    # means this 16x16 block is tempred\n",
    "                    b16x16[lookup[partner, id], 0, i] = r16x16[i]\n",
    "\n",
    "# combining the 16x16 blocks to the main blocks\n",
    "# merging 16x16\n",
    "cmainblocks = mainblocks.copy()\n",
    "for i in range(cmainblocks.shape[0]):\n",
    "    cmainblocks[i][0] = combine_blocks(\n",
    "        b16x16[i][0], mainblock_shape, blockshape=b16x16_shape, channel=False)\n",
    "\n",
    "# merging main blocks to main image\n",
    "recoveredarr = combine_blocks(cmainblocks.copy(), imarr.shape,\n",
    "                                mainblock_shape).reshape(imarr.shape)\n",
    "\n"
   ]
  },
  {
   "cell_type": "code",
   "execution_count": null,
   "metadata": {},
   "outputs": [],
   "source": [
    "Image.fromarray(tempred.reshape(32,32))"
   ]
  },
  {
   "cell_type": "code",
   "execution_count": null,
   "metadata": {},
   "outputs": [],
   "source": [
    "recovery_bits[0].shape"
   ]
  },
  {
   "cell_type": "code",
   "execution_count": null,
   "metadata": {},
   "outputs": [],
   "source": [
    "idx*recovery_bits.shape[1]//3,idx*recovery_bits.shape[1]//3+recovery_bits.shape[1]//3"
   ]
  },
  {
   "cell_type": "code",
   "execution_count": null,
   "metadata": {},
   "outputs": [],
   "source": [
    "recovery_bits[lookup[partner_block],\n",
    "                                                    idx*recovery_bits.shape[1]//3:idx+recovery_bits.shape[1]//3]"
   ]
  },
  {
   "cell_type": "code",
   "execution_count": null,
   "metadata": {},
   "outputs": [],
   "source": [
    "recovery_decimals"
   ]
  },
  {
   "cell_type": "code",
   "execution_count": null,
   "metadata": {},
   "outputs": [],
   "source": [
    "recovery_bits.shape[1]//3"
   ]
  },
  {
   "cell_type": "code",
   "execution_count": null,
   "metadata": {},
   "outputs": [],
   "source": [
    "partner, id, idx, partner_block"
   ]
  },
  {
   "cell_type": "code",
   "execution_count": null,
   "metadata": {},
   "outputs": [],
   "source": [
    "lookup"
   ]
  },
  {
   "cell_type": "code",
   "execution_count": null,
   "metadata": {},
   "outputs": [],
   "source": [
    "idx"
   ]
  },
  {
   "cell_type": "code",
   "execution_count": null,
   "metadata": {},
   "outputs": [],
   "source": [
    "recoveredarr.shape"
   ]
  },
  {
   "cell_type": "code",
   "execution_count": null,
   "metadata": {},
   "outputs": [],
   "source": [
    "Image.fromarray(recoveredarr.astype(np.uint8))"
   ]
  }
 ],
 "metadata": {
  "interpreter": {
   "hash": "e7370f93d1d0cde622a1f8e1c04877d8463912d04d973331ad4851f04de6915a"
  },
  "kernelspec": {
   "display_name": "Python 3.10.4 64-bit",
   "language": "python",
   "name": "python3"
  },
  "language_info": {
   "codemirror_mode": {
    "name": "ipython",
    "version": 3
   },
   "file_extension": ".py",
   "mimetype": "text/x-python",
   "name": "python",
   "nbconvert_exporter": "python",
   "pygments_lexer": "ipython3",
   "version": "3.10.4"
  },
  "orig_nbformat": 4
 },
 "nbformat": 4,
 "nbformat_minor": 2
}
