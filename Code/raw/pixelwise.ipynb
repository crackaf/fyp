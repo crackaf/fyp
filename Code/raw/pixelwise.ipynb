{
 "cells": [
  {
   "cell_type": "markdown",
   "metadata": {},
   "source": [
    "# Image Embedding"
   ]
  },
  {
   "cell_type": "code",
   "execution_count": null,
   "metadata": {},
   "outputs": [],
   "source": [
    "from PIL import Image\n",
    "import numpy as np"
   ]
  },
  {
   "cell_type": "code",
   "execution_count": null,
   "metadata": {},
   "outputs": [],
   "source": [
    "img=Image.open(\"miku.jpg\").convert(\"RGB\")\n",
    "img"
   ]
  },
  {
   "cell_type": "code",
   "execution_count": null,
   "metadata": {},
   "outputs": [],
   "source": [
    "# img=Image.open(\"lena_gray.gif\").convert(\"L\")\n",
    "# img"
   ]
  },
  {
   "cell_type": "code",
   "execution_count": null,
   "metadata": {},
   "outputs": [],
   "source": [
    "img.mode"
   ]
  },
  {
   "cell_type": "code",
   "execution_count": null,
   "metadata": {},
   "outputs": [],
   "source": [
    "nparr=np.array(img)\n",
    "nparr"
   ]
  },
  {
   "cell_type": "code",
   "execution_count": null,
   "metadata": {},
   "outputs": [],
   "source": [
    "nparr.shape"
   ]
  },
  {
   "cell_type": "code",
   "execution_count": null,
   "metadata": {},
   "outputs": [],
   "source": [
    "def getblocks(image: np.ndarray, blockshape: tuple, moveAxis: bool = True) -> np.ndarray:\n",
    "    '''\n",
    "    takes the array of image in grey= 2D and in RGB = 3D\n",
    "    takes the numpy array and converts it the the blocks in the fastest way\n",
    "    '''\n",
    "    if len(image.shape) == 2:\n",
    "        mode = \"grey\"\n",
    "        image = image.reshape(*image.shape, 1)\n",
    "    else:\n",
    "        mode = \"color\"\n",
    "\n",
    "    img_height, img_width, channels = image.shape\n",
    "    tile_height, tile_width = blockshape\n",
    "\n",
    "    if img_height % tile_height != 0 or img_width % tile_width != 0:\n",
    "        print(\"warning: Block size is not fit for the image!\")\n",
    "\n",
    "    tiled_array = image.reshape(\n",
    "        img_height//tile_height, tile_height, img_width//tile_width, tile_width, channels)\n",
    "    tiled_array = tiled_array.swapaxes(1, 2)\n",
    "\n",
    "    if moveAxis:\n",
    "        tiled_array = tiled_array.reshape(-1,\n",
    "                                          *(tile_height, tile_width, channels))\n",
    "        tiled_array = np.moveaxis(tiled_array, source=len(\n",
    "            tiled_array.shape)-1, destination=1)\n",
    "\n",
    "    return tiled_array\n",
    "\n",
    "\n",
    "def combineBlocks(tiled_array: np.ndarray, imageshape: tuple, blockshape: tuple, movedAxis: bool = True) -> np.ndarray:\n",
    "\n",
    "    if len(imageshape) == 2:\n",
    "        mode = \"grey\"\n",
    "        imageshape = *imageshape, 1\n",
    "    else:\n",
    "        mode = \"color\"\n",
    "\n",
    "    img_height, img_width, channels = imageshape\n",
    "    tile_height, tile_width = blockshape\n",
    "\n",
    "    if movedAxis:\n",
    "        image = tiled_array.copy()\n",
    "        image = image.reshape(img_height//tile_height, tile_height,\n",
    "                              img_width//tile_width, tile_width, channels)\n",
    "        swapaxisShape = list(image.shape)\n",
    "        swapaxisShape[1], swapaxisShape[2] = swapaxisShape[2], swapaxisShape[1]\n",
    "        image = image.reshape(swapaxisShape)\n",
    "        image = image.swapaxes(1, 2)\n",
    "    else:\n",
    "        image = tiled_array\n",
    "        # IDK have completed this else case. Btw we aren't using this case lol :)\n",
    "\n",
    "    return image.reshape(imageshape)\n"
   ]
  },
  {
   "cell_type": "code",
   "execution_count": null,
   "metadata": {},
   "outputs": [],
   "source": [
    "%timeit getblocks(nparr,(2,2), True)"
   ]
  },
  {
   "cell_type": "code",
   "execution_count": null,
   "metadata": {},
   "outputs": [],
   "source": [
    "blocksize=(4,2)"
   ]
  },
  {
   "cell_type": "code",
   "execution_count": null,
   "metadata": {},
   "outputs": [],
   "source": [
    "blocks=getblocks(nparr, blocksize, True)\n",
    "blocks"
   ]
  },
  {
   "cell_type": "code",
   "execution_count": null,
   "metadata": {},
   "outputs": [],
   "source": [
    "blocks.shape\n"
   ]
  },
  {
   "cell_type": "code",
   "execution_count": null,
   "metadata": {},
   "outputs": [],
   "source": [
    "blocks[0][0]\n"
   ]
  },
  {
   "cell_type": "markdown",
   "metadata": {},
   "source": [
    "## PSNR"
   ]
  },
  {
   "cell_type": "code",
   "execution_count": null,
   "metadata": {},
   "outputs": [],
   "source": [
    "from math import log10, sqrt"
   ]
  },
  {
   "cell_type": "code",
   "execution_count": null,
   "metadata": {},
   "outputs": [],
   "source": [
    "def PSNR(original, compressed):\n",
    "    mse = np.mean((original - compressed) ** 2)\n",
    "    if(mse == 0):  # MSE is zero means no noise is present in the signal .\n",
    "                  # Therefore PSNR have no importance.\n",
    "        return 100\n",
    "    max_pixel = 255.0\n",
    "    psnr = 20 * log10(max_pixel / sqrt(mse))\n",
    "    return psnr"
   ]
  },
  {
   "cell_type": "code",
   "execution_count": null,
   "metadata": {},
   "outputs": [],
   "source": [
    "# print(f\"PSNR value is {value} dB\")\n",
    "PSNR(nparr, nparr)"
   ]
  },
  {
   "cell_type": "code",
   "execution_count": null,
   "metadata": {},
   "outputs": [],
   "source": [
    "avgblock=blocks.copy()"
   ]
  },
  {
   "cell_type": "code",
   "execution_count": null,
   "metadata": {},
   "outputs": [],
   "source": [
    "avgblock[0][0]"
   ]
  },
  {
   "cell_type": "code",
   "execution_count": null,
   "metadata": {},
   "outputs": [],
   "source": [
    "avgblock[0][0]"
   ]
  },
  {
   "cell_type": "code",
   "execution_count": null,
   "metadata": {},
   "outputs": [],
   "source": [
    "# for i in range(avgblock.shape[0]):\n",
    "#     avgblock[i][0][:] = int(avgblock[i][0].mean())\n",
    "#     avgblock[i][1][:] = int(avgblock[i][1].mean())\n",
    "#     avgblock[i][2][:] = int(avgblock[i][2].mean())\n"
   ]
  },
  {
   "cell_type": "code",
   "execution_count": null,
   "metadata": {},
   "outputs": [],
   "source": [
    "# avgblock[0][0][0]=69\n",
    "# avgblock[2][0][0]=69"
   ]
  },
  {
   "cell_type": "code",
   "execution_count": null,
   "metadata": {},
   "outputs": [],
   "source": [
    "avgimage=combineBlocks(avgblock, nparr.shape, blocksize)"
   ]
  },
  {
   "cell_type": "code",
   "execution_count": null,
   "metadata": {},
   "outputs": [],
   "source": [
    "avgimage.shape"
   ]
  },
  {
   "cell_type": "code",
   "execution_count": null,
   "metadata": {},
   "outputs": [],
   "source": [
    "avgimage"
   ]
  },
  {
   "cell_type": "code",
   "execution_count": null,
   "metadata": {},
   "outputs": [],
   "source": [
    "(avgimage.reshape(-1)==nparr.reshape(-1)).all()"
   ]
  },
  {
   "cell_type": "code",
   "execution_count": null,
   "metadata": {},
   "outputs": [],
   "source": [
    "Image.fromarray(avgimage, 'RGB')"
   ]
  },
  {
   "cell_type": "code",
   "execution_count": null,
   "metadata": {},
   "outputs": [],
   "source": [
    "PSNR(nparr,avgimage)"
   ]
  },
  {
   "cell_type": "markdown",
   "metadata": {},
   "source": [
    "29.810711022024247 psnr for 2x4\n",
    "29.83055903916751 psnr for 4x2"
   ]
  },
  {
   "cell_type": "code",
   "execution_count": null,
   "metadata": {},
   "outputs": [],
   "source": [
    "avgimage"
   ]
  },
  {
   "cell_type": "markdown",
   "metadata": {},
   "source": [
    "for the 4x2 PSNR"
   ]
  },
  {
   "cell_type": "code",
   "execution_count": null,
   "metadata": {},
   "outputs": [],
   "source": [
    "blocksize=(4,2)"
   ]
  },
  {
   "cell_type": "code",
   "execution_count": null,
   "metadata": {},
   "outputs": [],
   "source": [
    "blocks = nparr.reshape(\n",
    "    (int(imagedim[0]/blocksize[0]), int(imagedim[1]/blocksize[1]), blocksize[0], blocksize[1]))\n",
    "np.set_printoptions(threshold=np.inf)\n",
    "print(nparr.reshape(-1))"
   ]
  },
  {
   "cell_type": "code",
   "execution_count": null,
   "metadata": {},
   "outputs": [],
   "source": [
    "blocks.shape\n"
   ]
  },
  {
   "cell_type": "code",
   "execution_count": null,
   "metadata": {},
   "outputs": [],
   "source": [
    "avgblock=blocks.copy()"
   ]
  },
  {
   "cell_type": "code",
   "execution_count": null,
   "metadata": {},
   "outputs": [],
   "source": [
    "for i in range(avgblock.shape[0]):\n",
    "    for j in range(avgblock.shape[1]):\n",
    "        avgblock[i][j][:] = int(avgblock[i][j].mean())\n"
   ]
  },
  {
   "cell_type": "code",
   "execution_count": null,
   "metadata": {},
   "outputs": [],
   "source": [
    "avgblock[0][0]"
   ]
  },
  {
   "cell_type": "code",
   "execution_count": null,
   "metadata": {},
   "outputs": [],
   "source": [
    "image2=avgblock.reshape((512,512))\n",
    "image2"
   ]
  },
  {
   "cell_type": "code",
   "execution_count": null,
   "metadata": {},
   "outputs": [],
   "source": [
    "PSNR(nparr,image2)"
   ]
  },
  {
   "cell_type": "code",
   "execution_count": null,
   "metadata": {},
   "outputs": [],
   "source": [
    "Image.fromarray(image2, 'L')"
   ]
  }
 ],
 "metadata": {
  "interpreter": {
   "hash": "63fd5069d213b44bf678585dea6b12cceca9941eaf7f819626cde1f2670de90d"
  },
  "kernelspec": {
   "display_name": "Python 3.9.6 64-bit",
   "language": "python",
   "name": "python3"
  },
  "language_info": {
   "codemirror_mode": {
    "name": "ipython",
    "version": 3
   },
   "file_extension": ".py",
   "mimetype": "text/x-python",
   "name": "python",
   "nbconvert_exporter": "python",
   "pygments_lexer": "ipython3",
   "version": "3.9.6"
  },
  "orig_nbformat": 4
 },
 "nbformat": 4,
 "nbformat_minor": 2
}
