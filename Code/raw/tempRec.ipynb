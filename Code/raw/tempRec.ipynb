{
 "cells": [
  {
   "cell_type": "code",
   "execution_count": null,
   "metadata": {},
   "outputs": [],
   "source": [
    "import time\n",
    "import numpy as np\n",
    "from PIL import Image"
   ]
  },
  {
   "cell_type": "code",
   "execution_count": null,
   "metadata": {},
   "outputs": [],
   "source": [
    "imarr=np.array(Image.open('lena.gif').convert('L'))"
   ]
  },
  {
   "cell_type": "code",
   "execution_count": null,
   "metadata": {},
   "outputs": [],
   "source": [
    "from ..modules.authbits import extract as authextract\n"
   ]
  },
  {
   "cell_type": "code",
   "execution_count": null,
   "metadata": {},
   "outputs": [],
   "source": [
    "start_t = time.time()\n",
    "\n",
    "recoveredarr = imarr.copy()\n",
    "\n",
    "for partner in lookup:  # A,B,C,D\n",
    "    for id in partner:  # A1,A2,A3.....D4 etc\n",
    "        # check if this is tempred\n",
    "        if np.any(tempred[id]):\n",
    "            # this mainblock is tempred, so we need to recover it\n",
    "            # but which 16x16 block is tempred?\n",
    "\n",
    "            # get the partner block of this id also the id it sits\n",
    "            partner_block = -1\n",
    "            for pb in partner:\n",
    "                # if this id isn't tempred, we can stop\n",
    "                if pb != id and not np.any(tempred[pb]):\n",
    "                    partner_block = pb\n",
    "                    break\n",
    "\n",
    "            if partner_block == -1:\n",
    "                print(\n",
    "                    \"Could not find partner block for id {}\".format(id))\n",
    "                continue\n",
    "\n",
    "            # get recovery bits of this id\n",
    "            # get index of this id in the partner block\n",
    "            idx = partner_block\n",
    "            if partner_block < id:\n",
    "                idx -= 1\n",
    "\n",
    "            # now we have partner_block, so we can recover it\n",
    "            # get the recovery bits of this partner block\n",
    "            recovery_bits_partner = recovery_bits[partner_block,\n",
    "                                                  idx*recovery_bits.shape[1]//3:idx+recovery_bits.shape[1]//3]\n",
    "\n",
    "            # now we have recovrey bits the exact partner block\n",
    "            # but these are in binary, so we need to convert them to uint\n",
    "            recovery_decimals = np.packbits(recovery_bits_partner)\n",
    "\n",
    "            # these recovery bits are for all the main blocks 4x4\n",
    "            # but we are going to replace only the tempred 16x16\n",
    "            "
   ]
  }
 ],
 "metadata": {
  "interpreter": {
   "hash": "e7370f93d1d0cde622a1f8e1c04877d8463912d04d973331ad4851f04de6915a"
  },
  "kernelspec": {
   "display_name": "Python 3.10.4 64-bit",
   "language": "python",
   "name": "python3"
  },
  "language_info": {
   "codemirror_mode": {
    "name": "ipython",
    "version": 3
   },
   "file_extension": ".py",
   "mimetype": "text/x-python",
   "name": "python",
   "nbconvert_exporter": "python",
   "pygments_lexer": "ipython3",
   "version": "3.10.4"
  },
  "orig_nbformat": 4
 },
 "nbformat": 4,
 "nbformat_minor": 2
}
