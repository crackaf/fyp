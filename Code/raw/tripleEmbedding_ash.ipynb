{
 "cells": [
  {
   "cell_type": "code",
   "execution_count": null,
   "metadata": {},
   "outputs": [],
   "source": [
    "from PIL import Image\n",
    "import numpy as np\n"
   ]
  },
  {
   "cell_type": "markdown",
   "metadata": {},
   "source": [
    "blocks getting function"
   ]
  },
  {
   "cell_type": "code",
   "execution_count": null,
   "metadata": {},
   "outputs": [],
   "source": [
    "def getblocks(image: np.ndarray, blockshape: tuple, moveAxis: bool = True, info: bool = False, addChannel: bool = True) -> np.ndarray:\n",
    "    '''\n",
    "    takes the array of image in grey= 2D and in RGB = 3D\n",
    "    takes the numpy array and converts it the the blocks in the fastest way\n",
    "    '''\n",
    "    if(info):\n",
    "        print(\"Image Shape:\", image.shape)\n",
    "        print(\"Block Shape:\", blockshape)\n",
    "\n",
    "    oldshape = list(image.shape)\n",
    "    if addChannel and len(image.shape) == 2:\n",
    "        mode = \"grey\"\n",
    "        image = image.reshape((*image.shape, 1))\n",
    "    else:\n",
    "        mode = \"color\"\n",
    "\n",
    "    if addChannel:\n",
    "        img_height, img_width, channels = image.shape\n",
    "    else:\n",
    "        img_height, img_width = image.shape\n",
    "\n",
    "    tile_height, tile_width = blockshape\n",
    "\n",
    "    if addChannel:\n",
    "        shp = img_height//tile_height, tile_height, img_width//tile_width, tile_width, channels\n",
    "    else:\n",
    "        shp = img_height//tile_height, tile_height, img_width//tile_width, tile_width\n",
    "\n",
    "    def printinfo():\n",
    "        print(\"Old Shape:\", oldshape)\n",
    "        print(\"Image Shape:\", image.shape)\n",
    "        print(\"Block Shape:\", blockshape)\n",
    "        print(\"New Shape Initial:\", shp)\n",
    "        print(\"img_height % tile_height != 0 :\", img_height % tile_height != 0)\n",
    "        print(\"img_width % tile_width != 0 :\", img_width % tile_width != 0)\n",
    "\n",
    "    if img_height % tile_height != 0 or img_width % tile_width != 0:\n",
    "        print(\"warning: Block size is not fit for the image!\")\n",
    "        printinfo()\n",
    "\n",
    "    if(info):\n",
    "        printinfo()\n",
    "\n",
    "    tiled_array = image.reshape(shp)\n",
    "    tiled_array = tiled_array.swapaxes(1, 2)\n",
    "\n",
    "    if moveAxis:\n",
    "        if(addChannel):\n",
    "            tiled_array = tiled_array.reshape(-1,\n",
    "                                              *(tile_height, tile_width, channels))\n",
    "            tiled_array = np.moveaxis(tiled_array, source=len(\n",
    "                tiled_array.shape)-1, destination=1)\n",
    "        else:\n",
    "            tiled_array = tiled_array.reshape(-1, *(tile_height, tile_width))\n",
    "\n",
    "    return tiled_array\n"
   ]
  },
  {
   "cell_type": "code",
   "execution_count": null,
   "metadata": {},
   "outputs": [],
   "source": [
    "\n",
    "\n",
    "def combineBlocks(tiled_array: np.ndarray, imageshape: tuple, blockshape: tuple, movedAxis: bool = True) -> np.ndarray:\n",
    "\n",
    "    if len(imageshape) == 2:\n",
    "        mode = \"grey\"\n",
    "        imageshape = *imageshape, 1\n",
    "    else:\n",
    "        mode = \"color\"\n",
    "\n",
    "    img_height, img_width, channels = imageshape\n",
    "    tile_height, tile_width = blockshape\n",
    "\n",
    "    if movedAxis:\n",
    "        image = tiled_array.copy()\n",
    "        image = image.reshape(img_height//tile_height, tile_height,\n",
    "                              img_width//tile_width, tile_width, channels)\n",
    "        swapaxisShape = list(image.shape)\n",
    "        swapaxisShape[1], swapaxisShape[2] = swapaxisShape[2], swapaxisShape[1]\n",
    "        image = image.reshape(swapaxisShape)\n",
    "        image = image.swapaxes(1, 2)\n",
    "    else:\n",
    "        image = tiled_array\n",
    "        # IDK have completed this else case. Btw we aren't using this case lol :)\n",
    "\n",
    "    return image.reshape(imageshape)\n"
   ]
  },
  {
   "cell_type": "code",
   "execution_count": null,
   "metadata": {},
   "outputs": [],
   "source": [
    "def printnd(arr: np.ndarray):\n",
    "    print(\"Shape:\", arr.shape)\n",
    "    print(\"Strides:\", arr.strides)\n",
    "    print(arr)\n"
   ]
  },
  {
   "cell_type": "markdown",
   "metadata": {},
   "source": [
    "importing image\n",
    "e.g lena which is 512x512\n",
    "importing as the grey image denoted by L flag"
   ]
  },
  {
   "cell_type": "code",
   "execution_count": null,
   "metadata": {},
   "outputs": [],
   "source": [
    "lena = Image.open(\"fyp_image.jpg\").convert(\"RGB\")\n",
    "lena\n"
   ]
  },
  {
   "cell_type": "code",
   "execution_count": null,
   "metadata": {},
   "outputs": [],
   "source": [
    "lena.mode\n"
   ]
  },
  {
   "cell_type": "markdown",
   "metadata": {},
   "source": [
    "converting to np array"
   ]
  },
  {
   "cell_type": "code",
   "execution_count": null,
   "metadata": {},
   "outputs": [],
   "source": [
    "img = np.array(lena)\n",
    "imgSize = img.shape\n",
    "img.shape, img.strides, img\n"
   ]
  },
  {
   "cell_type": "markdown",
   "metadata": {},
   "source": [
    "making 16 main blocks\n",
    "size of single main block S= M/sqrt(16) X T=N/sqrt(16)\n",
    "e.g for lena the 512x512 the partner blocks size would be 16 blocks each with size (512x512)/(4x4) = 128x128"
   ]
  },
  {
   "cell_type": "code",
   "execution_count": null,
   "metadata": {},
   "outputs": [],
   "source": [
    "mainblockSize = (int(imgSize[0]/4), int(imgSize[1]/4))\n",
    "mainblocks = getblocks(img.copy(), mainblockSize, info=True)\n",
    "mainblocks.shape, mainblocks.strides, mainblocks\n"
   ]
  },
  {
   "cell_type": "markdown",
   "metadata": {},
   "source": [
    "here the main blocks are like this index.\n",
    "1st index is the block number.\n",
    "2nd index is the channel (RGB) or 0 in Grey.\n",
    "3rd and 4th are for indexing the block."
   ]
  },
  {
   "cell_type": "markdown",
   "metadata": {},
   "source": [
    "lookup table"
   ]
  },
  {
   "cell_type": "code",
   "execution_count": null,
   "metadata": {},
   "outputs": [],
   "source": [
    "#Image.open(\"lookup.png\")"
   ]
  },
  {
   "cell_type": "code",
   "execution_count": null,
   "metadata": {},
   "outputs": [],
   "source": [
    "lookup = np.array([[0, 7, 13, 10],\n",
    "                  [1, 6, 12, 11],\n",
    "                  [4, 2, 9, 15],\n",
    "                  [5, 3, 8, 14]], dtype=np.uint8)\n",
    "lookup"
   ]
  },
  {
   "cell_type": "markdown",
   "metadata": {},
   "source": [
    "here the every row represents the partner blocks\n",
    "e.g\n",
    "A1 will be lookup[0][0].\n",
    "A2 will be lookup[0][2].\n",
    "D2 will be lookup[3][2].\n"
   ]
  },
  {
   "cell_type": "markdown",
   "metadata": {},
   "source": [
    "Step3\n",
    "Ab har main block ko divide karo k 4x4 k block ban jain\n",
    "numberOfBlocks=(SxT)/(4x4)\n",
    "e.g 128x128/4x4 = 1024\n"
   ]
  },
  {
   "cell_type": "code",
   "execution_count": null,
   "metadata": {},
   "outputs": [],
   "source": [
    "avgblocksSize = (4, 4)\n",
    "averages = np.zeros((16, int((mainblockSize[0]*mainblockSize[1]) /\n",
    "                             (avgblocksSize[0]*avgblocksSize[1]))), dtype=np.uint8)\n",
    "# 4 indicatior A,B,C,D, 4 blocks of A, then the 4x4 Blocks which have count = (SxT)/(4x4), e.g 1024\n"
   ]
  },
  {
   "cell_type": "markdown",
   "metadata": {},
   "source": [
    "storing the averages of A, B, C, D"
   ]
  },
  {
   "cell_type": "code",
   "execution_count": null,
   "metadata": {},
   "outputs": [],
   "source": [
    "tmp=getblocks(mainblocks[0][0], avgblocksSize,\n",
    "          info=False, addChannel=False)\n",
    "tmp.shape, tmp"
   ]
  },
  {
   "cell_type": "code",
   "execution_count": null,
   "metadata": {},
   "outputs": [],
   "source": [
    "lookup"
   ]
  },
  {
   "cell_type": "code",
   "execution_count": null,
   "metadata": {},
   "outputs": [],
   "source": [
    "for partner in lookup:  # A,B,C,D\n",
    "    for id in partner:  # A1,A2,A3.....D4 etc\n",
    "        averages[id] = getblocks(mainblocks[id][0], avgblocksSize,\n",
    "                                 info=False, addChannel=False).mean((1, 2))\n",
    "averages.shape, averages\n"
   ]
  },
  {
   "cell_type": "markdown",
   "metadata": {},
   "source": [
    "array([[162, 162, 162, 161],\n",
    "       [162, 162, 162, 161],\n",
    "       [162, 162, 162, 161],\n",
    "       [162, 162, 162, 161]], dtype=uint8)\n",
    "this will give you the avg 161. But it sould be 162 as it's dominant. Minor improvemnt reuqired"
   ]
  },
  {
   "cell_type": "markdown",
   "metadata": {},
   "source": [
    "now we have average of every mainblock according to 4x4. Which in total are 1024"
   ]
  },
  {
   "cell_type": "markdown",
   "metadata": {},
   "source": [
    "time to convert them into the binary"
   ]
  },
  {
   "cell_type": "code",
   "execution_count": null,
   "metadata": {},
   "outputs": [],
   "source": [
    "averageBits = np.unpackbits(averages, axis=1)\n",
    "averageBits.shape, averageBits\n"
   ]
  },
  {
   "cell_type": "markdown",
   "metadata": {},
   "source": [
    "merging partner blocks average to make the recovery bits\n"
   ]
  },
  {
   "cell_type": "code",
   "execution_count": null,
   "metadata": {},
   "outputs": [],
   "source": [
    "recoveryBits = np.zeros((averageBits.shape[0], averageBits.shape[1]*3), dtype=np.uint8)\n",
    "for partner in lookup:  # A,B,C,D\n",
    "    for id in partner:  # A1,A2,A3.....D4 etc\n",
    "        recoveryBits[id] = np.concatenate(\n",
    "            [averageBits[i] for i in partner if i != id])\n",
    "\n",
    "recoveryBits.shape, recoveryBits\n"
   ]
  },
  {
   "cell_type": "markdown",
   "metadata": {},
   "source": [
    "password or key generation"
   ]
  },
  {
   "cell_type": "code",
   "execution_count": null,
   "metadata": {},
   "outputs": [],
   "source": [
    "import hashlib"
   ]
  },
  {
   "cell_type": "code",
   "execution_count": null,
   "metadata": {},
   "outputs": [],
   "source": [
    "# password or key\n",
    "password = \"this is my password\"\n",
    "key = [x for x in hashlib.sha256(password.encode()).digest()]\n",
    "len(key)\n"
   ]
  },
  {
   "cell_type": "markdown",
   "metadata": {},
   "source": [
    "permuttaion or shuffling"
   ]
  },
  {
   "cell_type": "code",
   "execution_count": null,
   "metadata": {},
   "outputs": [],
   "source": [
    "for i in range(recoveryBits.shape[0]):\n",
    "    np.random.RandomState(seed=key).shuffle(recoveryBits[i])\n",
    "\n",
    "recoveryBits.shape, recoveryBits\n"
   ]
  },
  {
   "cell_type": "markdown",
   "metadata": {},
   "source": [
    "Recovery bits creation completed\n",
    "Now we need to make the space to put these recovery bits"
   ]
  },
  {
   "cell_type": "markdown",
   "metadata": {},
   "source": [
    "### Making 16x16 for Step 8\n",
    "Dividing the main blocks to 16x16 blocks\n",
    "Total blocks = SxT/16x16 = 128x128/16x16 = 64 Blocks"
   ]
  },
  {
   "cell_type": "code",
   "execution_count": null,
   "metadata": {},
   "outputs": [],
   "source": [
    "mainblocks.shape"
   ]
  },
  {
   "cell_type": "code",
   "execution_count": null,
   "metadata": {},
   "outputs": [],
   "source": [
    "blocks16x16Size = (16, 16)\n",
    "# reshaping because we needed that shape\n",
    "blocks16x16 = mainblocks.reshape(\n",
    "    *mainblocks.shape[:-2],\n",
    "    int((mainblockSize[0]*mainblockSize[1]) /\n",
    "        (blocks16x16Size[0]*blocks16x16Size[1])),\n",
    "    blocks16x16Size[0], blocks16x16Size[1])\n",
    "\n",
    "blocks16x16Size, blocks16x16.shape, blocks16x16.strides, blocks16x16\n"
   ]
  },
  {
   "cell_type": "code",
   "execution_count": null,
   "metadata": {},
   "outputs": [],
   "source": [
    "for block, mainblock in zip(blocks16x16, mainblocks):\n",
    "    block[0] = getblocks(mainblock[0], blocks16x16Size,\n",
    "                         info=False, addChannel=False)\n",
    "\n",
    "blocks16x16.shape, blocks16x16.strides, blocks16x16\n"
   ]
  },
  {
   "cell_type": "markdown",
   "metadata": {},
   "source": [
    "### Making 8x8 blocks of those 16x16  Step 9"
   ]
  },
  {
   "cell_type": "code",
   "execution_count": null,
   "metadata": {},
   "outputs": [],
   "source": [
    "blocks16x16.shape"
   ]
  },
  {
   "cell_type": "code",
   "execution_count": null,
   "metadata": {},
   "outputs": [],
   "source": [
    "blocks8x8Size = (8, 8)\n",
    "# reshaping because we needed that shape\n",
    "blocks8x8 = blocks16x16.reshape(\n",
    "    *blocks16x16.shape[:-2],\n",
    "    int((blocks16x16Size[0]*blocks16x16Size[1]) /\n",
    "        (blocks8x8Size[0]*blocks8x8Size[1])),\n",
    "    blocks8x8Size[0], blocks8x8Size[1])\n",
    "\n",
    "blocks8x8Size, blocks8x8.shape, blocks8x8.strides, blocks8x8\n"
   ]
  },
  {
   "cell_type": "code",
   "execution_count": null,
   "metadata": {},
   "outputs": [],
   "source": [
    "blocks8x8.shape"
   ]
  },
  {
   "cell_type": "code",
   "execution_count": null,
   "metadata": {},
   "outputs": [],
   "source": [
    "for block, block16x16 in zip(blocks8x8, blocks16x16):\n",
    "    for i in range(block16x16[0].shape[0]):\n",
    "        block[0][i] = getblocks(block16x16[0][i], blocks8x8Size,\n",
    "                                info=False, addChannel=False)\n",
    "\n",
    "blocks8x8.shape, blocks8x8.strides, blocks8x8\n"
   ]
  },
  {
   "cell_type": "markdown",
   "metadata": {},
   "source": [
    "Now put the recovery bit in the first and second LSB of blocks4x4\n"
   ]
  },
  {
   "cell_type": "code",
   "execution_count": null,
   "metadata": {},
   "outputs": [],
   "source": [
    "blocks8x8.shape"
   ]
  },
  {
   "cell_type": "code",
   "execution_count": null,
   "metadata": {},
   "outputs": [],
   "source": [
    "recoveryBits.reshape(recoveryBits.shape[0], int(recoveryBits.shape[1]//2), 2).shape\n"
   ]
  },
  {
   "cell_type": "code",
   "execution_count": null,
   "metadata": {},
   "outputs": [],
   "source": [
    "recoveryBits[0]"
   ]
  },
  {
   "cell_type": "code",
   "execution_count": null,
   "metadata": {},
   "outputs": [],
   "source": [
    "recoveryBits.shape, blocks8x8.shape[2]*3*8*8*2"
   ]
  },
  {
   "cell_type": "code",
   "execution_count": null,
   "metadata": {},
   "outputs": [],
   "source": [
    "blocks8x8[:, 0, :, :3, :, :].shape, blocks8x8[:, 0, :, :3, :,\n",
    "                                              :][0].shape, blocks8x8[:, 0, :, :3, :, :][0].flatten().shape\n"
   ]
  },
  {
   "cell_type": "markdown",
   "metadata": {},
   "source": [
    "updating the lsb"
   ]
  },
  {
   "cell_type": "code",
   "execution_count": null,
   "metadata": {},
   "outputs": [],
   "source": [
    "def set_bit(value, index, x):\n",
    "    \"\"\"Set the index:th bit of v to 1 if x is truthy, else to 0, and return the new value.\"\"\"\n",
    "    mask = 1 << index   # Compute mask, an integer with just bit 'index' set.\n",
    "    # Clear the bit indicated by the mask (if x is False)\n",
    "    value &= ~mask\n",
    "    if x:\n",
    "        # If x was True, set the bit indicated by the mask.\n",
    "        value |= mask\n",
    "    return value            # Return the result, we're done.\n"
   ]
  },
  {
   "cell_type": "code",
   "execution_count": null,
   "metadata": {},
   "outputs": [],
   "source": [
    "set_bit(2,1,0),set_bit(2,2,1)"
   ]
  },
  {
   "cell_type": "code",
   "execution_count": null,
   "metadata": {},
   "outputs": [],
   "source": [
    "for mainblock, blockbits in zip(blocks8x8[:, 0, :, :3, :, :], recoveryBits.reshape(recoveryBits.shape[0], int(recoveryBits.shape[1]//2), 2)):\n",
    "    for number, bits in zip(tmp.flat, blockbits):\n",
    "        # print(number, bits)\n",
    "        number = set_bit(set_bit(number, 0, bits[0]), 1, bits[1])\n",
    "\n",
    "blocks8x8.shape, blocks8x8.strides, blocks8x8\n"
   ]
  },
  {
   "cell_type": "markdown",
   "metadata": {},
   "source": [
    "### Now to combine the blocks back to Image"
   ]
  },
  {
   "cell_type": "code",
   "execution_count": null,
   "metadata": {},
   "outputs": [],
   "source": [
    "raise Exception(\"Below code is not in running form\")"
   ]
  },
  {
   "cell_type": "code",
   "execution_count": null,
   "metadata": {},
   "outputs": [],
   "source": [
    "avgblocksSize = (4, 4)\n",
    "# reshaping because we needed that shape\n",
    "avgblocks = mainblocks.reshape(\n",
    "    *mainblocks.shape[:-2],\n",
    "    int((mainblockSize[0]*mainblockSize[1]) /\n",
    "        (avgblocksSize[0]*avgblocksSize[1])),\n",
    "    avgblocksSize[0], avgblocksSize[1])\n",
    "\n",
    "avgblocksSize, avgblocks.shape, avgblocks.strides, avgblocks\n"
   ]
  },
  {
   "cell_type": "code",
   "execution_count": null,
   "metadata": {},
   "outputs": [],
   "source": [
    "block=avgblocks[0][0]\n",
    "block.shape, block.strides, block"
   ]
  },
  {
   "cell_type": "code",
   "execution_count": null,
   "metadata": {},
   "outputs": [],
   "source": [
    "avgblocks.shape, avgblocks.strides"
   ]
  },
  {
   "cell_type": "code",
   "execution_count": null,
   "metadata": {},
   "outputs": [],
   "source": [
    "avgblocksSize"
   ]
  },
  {
   "cell_type": "code",
   "execution_count": null,
   "metadata": {},
   "outputs": [],
   "source": [
    "for block, mainblock in zip(avgblocks, mainblocks):\n",
    "    block[0] = getblocks(mainblock[0], avgblocksSize,\n",
    "                         info=False, addChannel=False)\n",
    "\n",
    "avgblocks.shape, avgblocks.strides, avgblocks\n"
   ]
  },
  {
   "cell_type": "code",
   "execution_count": null,
   "metadata": {},
   "outputs": [],
   "source": [
    "avgblocks[0][0].reshape(-1).shape"
   ]
  },
  {
   "cell_type": "code",
   "execution_count": null,
   "metadata": {},
   "outputs": [],
   "source": [
    "mainblock[0][0].reshape(-1).shape"
   ]
  },
  {
   "cell_type": "code",
   "execution_count": null,
   "metadata": {},
   "outputs": [],
   "source": [
    "avgblocks[0][0].reshape(-1)==mainblock[0][0].reshape(-1)"
   ]
  }
 ],
 "metadata": {
  "interpreter": {
   "hash": "63fd5069d213b44bf678585dea6b12cceca9941eaf7f819626cde1f2670de90d"
  },
  "kernelspec": {
   "display_name": "Python 3.9.6 64-bit",
   "language": "python",
   "name": "python3"
  },
  "language_info": {
   "codemirror_mode": {
    "name": "ipython",
    "version": 3
   },
   "file_extension": ".py",
   "mimetype": "text/x-python",
   "name": "python",
   "nbconvert_exporter": "python",
   "pygments_lexer": "ipython3",
   "version": "3.10.1"
  },
  "orig_nbformat": 4
 },
 "nbformat": 4,
 "nbformat_minor": 2
}
