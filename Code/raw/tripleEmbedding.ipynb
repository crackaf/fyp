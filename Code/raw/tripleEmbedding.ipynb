{
 "cells": [
  {
   "cell_type": "code",
   "execution_count": null,
   "metadata": {},
   "outputs": [],
   "source": [
    "from PIL import Image\n",
    "import numpy as np\n"
   ]
  },
  {
   "cell_type": "code",
   "execution_count": null,
   "metadata": {},
   "outputs": [],
   "source": [
    "import time\n",
    "start = time.time()\n"
   ]
  },
  {
   "cell_type": "markdown",
   "metadata": {},
   "source": [
    "FLAGS\n"
   ]
  },
  {
   "cell_type": "code",
   "execution_count": null,
   "metadata": {},
   "outputs": [],
   "source": [
    "filename=\"lena\"\n",
    "ext=\"gif\""
   ]
  },
  {
   "cell_type": "code",
   "execution_count": null,
   "metadata": {},
   "outputs": [],
   "source": [
    "CHECKONSTEP = True\n"
   ]
  },
  {
   "cell_type": "markdown",
   "metadata": {},
   "source": [
    "blocks getting function\n"
   ]
  },
  {
   "cell_type": "code",
   "execution_count": null,
   "metadata": {},
   "outputs": [],
   "source": [
    "def getblocks(image: np.ndarray, blockshape: tuple, moveAxis: bool = True, info: bool = False, addChannel: bool = True) -> np.ndarray:\n",
    "    '''\n",
    "    takes the array of image in grey= 2D and in RGB = 3D\n",
    "    takes the numpy array and converts it the the blocks in the fastest way\n",
    "    '''\n",
    "    if(info):\n",
    "        print(\"Image Shape:\", image.shape)\n",
    "        print(\"Block Shape:\", blockshape)\n",
    "\n",
    "    oldshape = list(image.shape)\n",
    "    if addChannel and len(image.shape) == 2:\n",
    "        mode = \"grey\"\n",
    "        image = image.reshape((*image.shape, 1))\n",
    "    else:\n",
    "        mode = \"color\"\n",
    "\n",
    "    if addChannel:\n",
    "        img_height, img_width, channels = image.shape\n",
    "    else:\n",
    "        img_height, img_width = image.shape\n",
    "\n",
    "    tile_height, tile_width = blockshape\n",
    "\n",
    "    if addChannel:\n",
    "        shp = img_height//tile_height, tile_height, img_width//tile_width, tile_width, channels\n",
    "    else:\n",
    "        shp = img_height//tile_height, tile_height, img_width//tile_width, tile_width\n",
    "\n",
    "    def printinfo():\n",
    "        print(\"Old Shape:\", oldshape)\n",
    "        print(\"Image Shape:\", image.shape)\n",
    "        print(\"Block Shape:\", blockshape)\n",
    "        print(\"New Shape Initial:\", shp)\n",
    "        print(\"img_height % tile_height != 0 :\", img_height % tile_height != 0)\n",
    "        print(\"img_width % tile_width != 0 :\", img_width % tile_width != 0)\n",
    "\n",
    "    if img_height % tile_height != 0 or img_width % tile_width != 0:\n",
    "        print(\"warning: Block size is not fit for the image!\")\n",
    "        printinfo()\n",
    "\n",
    "    if(info):\n",
    "        printinfo()\n",
    "\n",
    "    tiled_array = image.reshape(shp)\n",
    "    tiled_array = tiled_array.swapaxes(1, 2)\n",
    "\n",
    "    if moveAxis:\n",
    "        if(addChannel):\n",
    "            tiled_array = tiled_array.reshape(-1,\n",
    "                                              *(tile_height, tile_width, channels))\n",
    "            tiled_array = np.moveaxis(tiled_array, source=len(\n",
    "                tiled_array.shape)-1, destination=1)\n",
    "        else:\n",
    "            tiled_array = tiled_array.reshape(-1, *(tile_height, tile_width))\n",
    "\n",
    "    return tiled_array\n"
   ]
  },
  {
   "cell_type": "code",
   "execution_count": null,
   "metadata": {},
   "outputs": [],
   "source": [
    "def combineBlocks(tiled_array: np.ndarray, imageshape: tuple, blockshape: tuple, movedAxis: bool = True, channel: bool = True) -> np.ndarray:\n",
    "\n",
    "    if channel:\n",
    "        if len(imageshape) == 2:\n",
    "            mode = \"grey\"\n",
    "            imageshape = *imageshape, 1\n",
    "        else:\n",
    "            mode = \"color\"\n",
    "\n",
    "    if channel:\n",
    "        img_height, img_width, channels = imageshape\n",
    "    else:\n",
    "        img_height, img_width = imageshape\n",
    "\n",
    "    tile_height, tile_width = blockshape\n",
    "\n",
    "    if movedAxis:\n",
    "        image = tiled_array.copy()\n",
    "        if(channel):\n",
    "            image=np.moveaxis(image, source=1, destination=-1)\n",
    "            image = image.reshape(img_height//tile_height, tile_height,\n",
    "                                  img_width//tile_width, tile_width, channels)\n",
    "            swapaxisShape = list(image.shape)\n",
    "            swapaxisShape[1], swapaxisShape[2] = swapaxisShape[2], swapaxisShape[1]\n",
    "            image = image.reshape(swapaxisShape)\n",
    "            image = image.swapaxes(1, 2)\n",
    "        else:\n",
    "            f = image.reshape(img_height//tile_height, tile_height,\n",
    "                              img_width//tile_width, tile_width)\n",
    "            swapaxisShape = list(f.shape)\n",
    "            swapaxisShape[1], swapaxisShape[2] = swapaxisShape[2], swapaxisShape[1]\n",
    "            tmp = f.reshape(swapaxisShape)\n",
    "            image = tmp.swapaxes(1, 2)\n",
    "    else:\n",
    "        image = tiled_array\n",
    "        # I haven't completed this else case. Btw we aren't using this case lol :)\n",
    "\n",
    "    return image.reshape(imageshape)\n"
   ]
  },
  {
   "cell_type": "code",
   "execution_count": null,
   "metadata": {},
   "outputs": [],
   "source": [
    "def printnd(arr: np.ndarray):\n",
    "    print(\"Shape:\", arr.shape)\n",
    "    print(\"Strides:\", arr.strides)\n",
    "    print(arr)\n"
   ]
  },
  {
   "cell_type": "markdown",
   "metadata": {},
   "source": [
    "PSNR function\n"
   ]
  },
  {
   "cell_type": "code",
   "execution_count": null,
   "metadata": {},
   "outputs": [],
   "source": [
    "from math import log10, sqrt\n"
   ]
  },
  {
   "cell_type": "code",
   "execution_count": null,
   "metadata": {},
   "outputs": [],
   "source": [
    "def PSNR(original, compressed):\n",
    "    mse = np.mean((original - compressed) ** 2)\n",
    "    if(mse == 0):  # MSE is zero means no noise is present in the signal .\n",
    "        # Therefore PSNR have no importance.\n",
    "        return 100\n",
    "    max_pixel = 255.0\n",
    "    psnr = 20 * log10(max_pixel / sqrt(mse))\n",
    "    return psnr\n"
   ]
  },
  {
   "cell_type": "markdown",
   "metadata": {},
   "source": [
    "importing image\n",
    "e.g lena which is 512x512\n",
    "importing as the grey image denoted by L flag\n"
   ]
  },
  {
   "cell_type": "code",
   "execution_count": null,
   "metadata": {},
   "outputs": [],
   "source": [
    "lena = Image.open(f\"{filename}.{ext}\").convert(\"L\")\n",
    "lena\n",
    "# lena = Image.open(\"fyp_image.JPG\").convert(\"L\")\n",
    "# lena\n"
   ]
  },
  {
   "cell_type": "code",
   "execution_count": null,
   "metadata": {},
   "outputs": [],
   "source": [
    "lena.mode\n"
   ]
  },
  {
   "cell_type": "markdown",
   "metadata": {},
   "source": [
    "converting to np array\n"
   ]
  },
  {
   "cell_type": "code",
   "execution_count": null,
   "metadata": {},
   "outputs": [],
   "source": [
    "img = np.array(lena)\n",
    "imgSize = img.shape\n",
    "M, N = img.shape\n",
    "img.shape, img.strides, img\n"
   ]
  },
  {
   "cell_type": "code",
   "execution_count": null,
   "metadata": {},
   "outputs": [],
   "source": [
    "if imgSize[0] % 64 != 0 or imgSize[1] % 64 != 0:\n",
    "    raise Exception(\"Size not correct for embedding\")\n"
   ]
  },
  {
   "cell_type": "markdown",
   "metadata": {},
   "source": [
    "making 16 main blocks\n",
    "size of single main block S= M/sqrt(16) X T=N/sqrt(16)\n",
    "e.g for lena the 512x512 the partner blocks size would be 16 blocks each with size (512x512)/(4x4) = 128x128\n"
   ]
  },
  {
   "cell_type": "code",
   "execution_count": null,
   "metadata": {},
   "outputs": [],
   "source": [
    "PSNR(img, img)\n"
   ]
  },
  {
   "cell_type": "code",
   "execution_count": null,
   "metadata": {},
   "outputs": [],
   "source": [
    "mainblockSize = (int(imgSize[0]/4), int(imgSize[1]/4))\n",
    "mainblocks = getblocks(img.copy(), mainblockSize, info=True)\n",
    "mainblocks.shape, mainblocks.strides, mainblocks\n"
   ]
  },
  {
   "cell_type": "markdown",
   "metadata": {},
   "source": [
    "here the main blocks are like this index.\n",
    "1st index is the block number.\n",
    "2nd index is the channel (RGB) or 0 in Grey.\n",
    "3rd and 4th are for indexing the block.\n"
   ]
  },
  {
   "cell_type": "markdown",
   "metadata": {},
   "source": [
    "converting back and checking\n"
   ]
  },
  {
   "cell_type": "code",
   "execution_count": null,
   "metadata": {},
   "outputs": [],
   "source": [
    "\n",
    "mainblocks.shape, img.shape\n"
   ]
  },
  {
   "cell_type": "code",
   "execution_count": null,
   "metadata": {},
   "outputs": [],
   "source": [
    "\n",
    "Image.fromarray(mainblocks[10][0], 'L')\n"
   ]
  },
  {
   "cell_type": "code",
   "execution_count": null,
   "metadata": {},
   "outputs": [],
   "source": [
    "\n",
    "combinedImg = combineBlocks(mainblocks, imgSize, mainblockSize)\n",
    "combinedImg.shape, combinedImg\n",
    "combinedImg = combinedImg.reshape(imgSize)\n",
    "combinedImg.shape, combinedImg\n"
   ]
  },
  {
   "cell_type": "code",
   "execution_count": null,
   "metadata": {},
   "outputs": [],
   "source": [
    "\n",
    "(combinedImg == img).all()\n"
   ]
  },
  {
   "cell_type": "code",
   "execution_count": null,
   "metadata": {},
   "outputs": [],
   "source": [
    "\n",
    "Image.fromarray(combinedImg, 'L')\n"
   ]
  },
  {
   "cell_type": "code",
   "execution_count": null,
   "metadata": {},
   "outputs": [],
   "source": [
    "PSNR(img, combinedImg)\n"
   ]
  },
  {
   "cell_type": "markdown",
   "metadata": {},
   "source": [
    "lookup table\n"
   ]
  },
  {
   "cell_type": "code",
   "execution_count": null,
   "metadata": {},
   "outputs": [],
   "source": [
    "Image.open(\"lookup.png\")\n"
   ]
  },
  {
   "cell_type": "code",
   "execution_count": null,
   "metadata": {},
   "outputs": [],
   "source": [
    "lookup = np.array([[0, 7, 13, 10],\n",
    "                  [1, 6, 12, 11],\n",
    "                  [4, 2, 9, 15],\n",
    "                  [5, 3, 8, 14]], dtype=np.uint8)\n",
    "lookup\n"
   ]
  },
  {
   "cell_type": "markdown",
   "metadata": {},
   "source": [
    "here the every row represents the partner blocks\n",
    "e.g\n",
    "A1 will be lookup[0][0].\n",
    "A2 will be lookup[0][2].\n",
    "D2 will be lookup[3][2].\n"
   ]
  },
  {
   "cell_type": "markdown",
   "metadata": {},
   "source": [
    "Step3\n",
    "Ab har main block ko divide karo k 4x4 k block ban jain\n",
    "numberOfBlocks=(SxT)/(4x4)\n",
    "e.g 128x128/4x4 = 1024\n"
   ]
  },
  {
   "cell_type": "code",
   "execution_count": null,
   "metadata": {},
   "outputs": [],
   "source": [
    "avgblocksSize = (4, 4)\n",
    "averages = np.zeros((16, int((mainblockSize[0]*mainblockSize[1]) /\n",
    "                             (avgblocksSize[0]*avgblocksSize[1]))), dtype=np.uint8)\n",
    "# 4 indicatior A,B,C,D, 4 blocks of A, then the 4x4 Blocks which have count = (SxT)/(4x4), e.g 1024\n"
   ]
  },
  {
   "cell_type": "markdown",
   "metadata": {},
   "source": [
    "storing the averages of A, B, C, D\n"
   ]
  },
  {
   "cell_type": "code",
   "execution_count": null,
   "metadata": {},
   "outputs": [],
   "source": [
    "lookup\n"
   ]
  },
  {
   "cell_type": "code",
   "execution_count": null,
   "metadata": {},
   "outputs": [],
   "source": [
    "# t=getblocks(mainblocks[id][0].copy(), avgblocksSize,\n",
    "#                                  info=False, addChannel=False)\n",
    "# mainblocks[id][0].shape, t.shape, t"
   ]
  },
  {
   "cell_type": "markdown",
   "metadata": {},
   "source": [
    "testing the averages"
   ]
  },
  {
   "cell_type": "code",
   "execution_count": null,
   "metadata": {},
   "outputs": [],
   "source": [
    "mainblocks.shape"
   ]
  },
  {
   "cell_type": "code",
   "execution_count": null,
   "metadata": {},
   "outputs": [],
   "source": [
    "Image.fromarray(mainblocks[10][0], 'L')"
   ]
  },
  {
   "cell_type": "code",
   "execution_count": null,
   "metadata": {},
   "outputs": [],
   "source": [
    "sqrt(16384)"
   ]
  },
  {
   "cell_type": "code",
   "execution_count": null,
   "metadata": {},
   "outputs": [],
   "source": [
    "hahbb=getblocks(mainblocks[10][0].copy(), avgblocksSize,\n",
    "                                 info=False, addChannel=False)\n",
    "hahbb.shape"
   ]
  },
  {
   "cell_type": "code",
   "execution_count": null,
   "metadata": {},
   "outputs": [],
   "source": [
    "# mylocalavg=[]\n",
    "# for i in range(1024):\n",
    "#   hehavg=0\n",
    "#   for r in range(4):\n",
    "#     for c in range(4):\n",
    "#       hehavg+=hahbb[i,r,c]\n",
    "#   mylocalavg.append(hehavg/16)\n",
    "  \n",
    "# mylocalavg, (np.array(mylocalavg)==hahbb.mean((1,2))).all()"
   ]
  },
  {
   "cell_type": "code",
   "execution_count": null,
   "metadata": {},
   "outputs": [],
   "source": [
    "localavg=hahbb.mean((1,2))"
   ]
  },
  {
   "cell_type": "code",
   "execution_count": null,
   "metadata": {},
   "outputs": [],
   "source": [
    "for i in range(1024):\n",
    "  hahbb[i,:,:]=int(localavg[i])"
   ]
  },
  {
   "cell_type": "code",
   "execution_count": null,
   "metadata": {},
   "outputs": [],
   "source": [
    "ccv=combineBlocks(hahbb, (128,128),(4,4),channel=False)\n",
    "ccv.shape"
   ]
  },
  {
   "cell_type": "code",
   "execution_count": null,
   "metadata": {},
   "outputs": [],
   "source": [
    "Image.fromarray(ccv,'L')"
   ]
  },
  {
   "cell_type": "code",
   "execution_count": null,
   "metadata": {},
   "outputs": [],
   "source": [
    "for partner in lookup:  # A,B,C,D\n",
    "    for id in partner:  # A1,A2,A3.....D4 etc\n",
    "        averages[id] = getblocks(mainblocks[id][0].copy(), avgblocksSize,\n",
    "                                 info=False, addChannel=False).mean((1, 2))\n",
    "averages.shape, averages\n"
   ]
  },
  {
   "cell_type": "code",
   "execution_count": null,
   "metadata": {},
   "outputs": [],
   "source": [
    "print(list(averages[10]))"
   ]
  },
  {
   "cell_type": "code",
   "execution_count": null,
   "metadata": {},
   "outputs": [],
   "source": [
    "16*1024"
   ]
  },
  {
   "cell_type": "code",
   "execution_count": null,
   "metadata": {},
   "outputs": [],
   "source": [
    "sqrt(16384)"
   ]
  },
  {
   "cell_type": "code",
   "execution_count": null,
   "metadata": {},
   "outputs": [],
   "source": []
  },
  {
   "cell_type": "code",
   "execution_count": null,
   "metadata": {},
   "outputs": [],
   "source": [
    "Image.fromarray(averages.reshape(128,128), 'L')"
   ]
  },
  {
   "cell_type": "markdown",
   "metadata": {},
   "source": [
    "array([[162, 162, 162, 161],\n",
    "       [162, 162, 162, 161],\n",
    "       [162, 162, 162, 161],\n",
    "       [162, 162, 162, 161]], dtype=uint8)\n",
    "this will give you the avg 161. But it sould be 162 as it's dominant. Minor improvemnt reuqired\n"
   ]
  },
  {
   "cell_type": "markdown",
   "metadata": {},
   "source": [
    "now we have average of every mainblock according to 4x4. Which in total are 1024\n"
   ]
  },
  {
   "cell_type": "markdown",
   "metadata": {},
   "source": [
    "time to convert them into the binary\n"
   ]
  },
  {
   "cell_type": "code",
   "execution_count": null,
   "metadata": {},
   "outputs": [],
   "source": [
    "averageBits = np.unpackbits(averages, axis=1)\n",
    "averageBits.shape, averageBits\n"
   ]
  },
  {
   "cell_type": "markdown",
   "metadata": {},
   "source": [
    "merging partner blocks average to make the recovery bits\n"
   ]
  },
  {
   "cell_type": "markdown",
   "metadata": {},
   "source": []
  },
  {
   "cell_type": "markdown",
   "metadata": {},
   "source": []
  },
  {
   "cell_type": "code",
   "execution_count": null,
   "metadata": {},
   "outputs": [],
   "source": [
    "recoveryBits = np.zeros(\n",
    "    (averageBits.shape[0], averageBits.shape[1]*3), dtype=np.uint8)\n",
    "for partner in lookup:  # A,B,C,D\n",
    "    for id in partner:  # A1,A2,A3.....D4 etc\n",
    "        recoveryBits[id] = np.concatenate(\n",
    "            [averageBits[i] for i in partner if i != id])\n",
    "\n",
    "recoveryBits.shape, recoveryBits\n"
   ]
  },
  {
   "cell_type": "markdown",
   "metadata": {},
   "source": [
    "password or key generation\n"
   ]
  },
  {
   "cell_type": "code",
   "execution_count": null,
   "metadata": {},
   "outputs": [],
   "source": [
    "import hashlib\n"
   ]
  },
  {
   "cell_type": "code",
   "execution_count": null,
   "metadata": {},
   "outputs": [],
   "source": [
    "# password or key\n",
    "password = \"this is my password\"\n",
    "key = [x for x in hashlib.sha256(password.encode()).digest()]\n",
    "len(key)\n"
   ]
  },
  {
   "cell_type": "markdown",
   "metadata": {},
   "source": [
    "permuttaion or shuffling\n"
   ]
  },
  {
   "cell_type": "code",
   "execution_count": null,
   "metadata": {},
   "outputs": [],
   "source": [
    "beforepermuted=recoveryBits.copy()"
   ]
  },
  {
   "cell_type": "code",
   "execution_count": null,
   "metadata": {},
   "outputs": [],
   "source": [
    "# for i in range(recoveryBits.shape[0]):\n",
    "#     np.random.RandomState(seed=key).shuffle(recoveryBits[i])\n",
    "\n",
    "# recoveryBits.shape, recoveryBits\n"
   ]
  },
  {
   "cell_type": "markdown",
   "metadata": {},
   "source": [
    "Recovery bits creation completed\n",
    "Now we need to make the space to put these recovery bits\n"
   ]
  },
  {
   "cell_type": "markdown",
   "metadata": {},
   "source": [
    "### Making 16x16 for Step 8\n",
    "\n",
    "Dividing the main blocks to 16x16 blocks\n",
    "Total blocks = SxT/16x16 = 128x128/16x16 = 64 Blocks\n"
   ]
  },
  {
   "cell_type": "code",
   "execution_count": null,
   "metadata": {},
   "outputs": [],
   "source": [
    "mainblocks.shape\n"
   ]
  },
  {
   "cell_type": "code",
   "execution_count": null,
   "metadata": {},
   "outputs": [],
   "source": [
    "blocks16x16Size = (16, 16)\n",
    "# reshaping because we needed that shape\n",
    "blocks16x16 = mainblocks.copy().reshape(\n",
    "    *mainblocks.shape[:-2],\n",
    "    int((mainblockSize[0]*mainblockSize[1]) /\n",
    "        (blocks16x16Size[0]*blocks16x16Size[1])),\n",
    "    blocks16x16Size[0], blocks16x16Size[1]).copy()\n",
    "\n",
    "blocks16x16Size, blocks16x16.shape, blocks16x16.strides, blocks16x16\n"
   ]
  },
  {
   "cell_type": "code",
   "execution_count": null,
   "metadata": {},
   "outputs": [],
   "source": [
    "for i in range(mainblocks.shape[0]):\n",
    "    blocks16x16[i][0] = getblocks(mainblocks[i][0].copy(), blocks16x16Size,\n",
    "                                  info=False, addChannel=False)\n",
    "\n",
    "blocks16x16.shape, blocks16x16.strides, blocks16x16\n"
   ]
  },
  {
   "cell_type": "markdown",
   "metadata": {},
   "source": [
    "combinign for checking\n"
   ]
  },
  {
   "cell_type": "code",
   "execution_count": null,
   "metadata": {},
   "outputs": [],
   "source": [
    "# if CHECKONSTEP:\n",
    "blocks16x16.shape, mainblocks.shape, img.shape\n"
   ]
  },
  {
   "cell_type": "code",
   "execution_count": null,
   "metadata": {},
   "outputs": [],
   "source": [
    "# if CHECKONSTEP:\n",
    "Image.fromarray(blocks16x16[10][0][0], 'L')\n"
   ]
  },
  {
   "cell_type": "code",
   "execution_count": null,
   "metadata": {},
   "outputs": [],
   "source": [
    "# if CHECKONSTEP:\n",
    "combinedMainBlocks = mainblocks.copy()\n"
   ]
  },
  {
   "cell_type": "code",
   "execution_count": null,
   "metadata": {},
   "outputs": [],
   "source": [
    "# if CHECKONSTEP:\n",
    "for i in range(combinedMainBlocks.shape[0]):\n",
    "    combinedMainBlocks[i][0] = combineBlocks(\n",
    "        blocks16x16[i][0].copy(), mainblockSize, blockshape=(16, 16), channel=False)\n",
    "\n",
    "combinedMainBlocks.shape, combinedMainBlocks\n"
   ]
  },
  {
   "cell_type": "code",
   "execution_count": null,
   "metadata": {},
   "outputs": [],
   "source": [
    "# if CHECKONSTEP:\n",
    "combinedMainBlocks.shape\n"
   ]
  },
  {
   "cell_type": "code",
   "execution_count": null,
   "metadata": {},
   "outputs": [],
   "source": [
    "# if CHECKONSTEP:\n",
    "(combinedMainBlocks == mainblocks).all()\n"
   ]
  },
  {
   "cell_type": "code",
   "execution_count": null,
   "metadata": {},
   "outputs": [],
   "source": [
    "# if CHECKONSTEP:\n",
    "Image.fromarray(mainblocks[10][0], 'L')\n"
   ]
  },
  {
   "cell_type": "code",
   "execution_count": null,
   "metadata": {},
   "outputs": [],
   "source": [
    "# if CHECKONSTEP:\n",
    "Image.fromarray(combinedMainBlocks[10][0], 'L')\n"
   ]
  },
  {
   "cell_type": "code",
   "execution_count": null,
   "metadata": {},
   "outputs": [],
   "source": [
    "# if CHECKONSTEP:\n",
    "combinedImg = combineBlocks(\n",
    "    combinedMainBlocks.copy(), imgSize, mainblockSize)\n",
    "combinedImg.shape, combinedImg\n",
    "combinedImg = combinedImg.reshape(imgSize)\n",
    "combinedImg.shape, combinedImg\n"
   ]
  },
  {
   "cell_type": "code",
   "execution_count": null,
   "metadata": {},
   "outputs": [],
   "source": [
    "# if CHECKONSTEP:\n",
    "(combinedImg == img).all()\n"
   ]
  },
  {
   "cell_type": "code",
   "execution_count": null,
   "metadata": {},
   "outputs": [],
   "source": [
    "# if CHECKONSTEP:\n",
    "Image.fromarray(combinedImg, 'L')\n"
   ]
  },
  {
   "cell_type": "code",
   "execution_count": null,
   "metadata": {},
   "outputs": [],
   "source": [
    "PSNR(img, combinedImg)\n"
   ]
  },
  {
   "cell_type": "markdown",
   "metadata": {},
   "source": [
    "### Making 8x8 blocks of those 16x16 Step 9\n"
   ]
  },
  {
   "cell_type": "code",
   "execution_count": null,
   "metadata": {},
   "outputs": [],
   "source": [
    "blocks16x16.shape\n"
   ]
  },
  {
   "cell_type": "code",
   "execution_count": null,
   "metadata": {},
   "outputs": [],
   "source": [
    "blocks8x8Size = (8, 8)\n",
    "# reshaping because we needed that shape\n",
    "blocks8x8 = blocks16x16.copy().reshape(\n",
    "    *blocks16x16.shape[:-2],\n",
    "    int((blocks16x16Size[0]*blocks16x16Size[1]) /\n",
    "        (blocks8x8Size[0]*blocks8x8Size[1])),\n",
    "    blocks8x8Size[0], blocks8x8Size[1])\n",
    "\n",
    "blocks8x8Size, blocks8x8.shape, blocks8x8.strides, blocks8x8\n"
   ]
  },
  {
   "cell_type": "code",
   "execution_count": null,
   "metadata": {},
   "outputs": [],
   "source": [
    "blocks8x8.shape\n"
   ]
  },
  {
   "cell_type": "code",
   "execution_count": null,
   "metadata": {},
   "outputs": [],
   "source": [
    "blocks16x16.shape, blocks8x8.shape\n"
   ]
  },
  {
   "cell_type": "code",
   "execution_count": null,
   "metadata": {},
   "outputs": [],
   "source": [
    "for i in range(blocks16x16.shape[0]):\n",
    "    for j in range(blocks16x16.shape[2]):\n",
    "        blocks8x8[i][0][j] = getblocks(blocks16x16[i][0][j].copy(), blocks8x8Size,\n",
    "                                       info=False, addChannel=False)\n",
    "\n",
    "blocks8x8.shape, blocks8x8.strides, blocks8x8\n"
   ]
  },
  {
   "cell_type": "markdown",
   "metadata": {},
   "source": [
    "combining and checking\n"
   ]
  },
  {
   "cell_type": "code",
   "execution_count": null,
   "metadata": {},
   "outputs": [],
   "source": [
    "blocks8x8.shape, blocks16x16.shape, mainblocks.shape, img.shape\n"
   ]
  },
  {
   "cell_type": "code",
   "execution_count": null,
   "metadata": {},
   "outputs": [],
   "source": [
    "Image.fromarray(blocks8x8[10][0][0][0], 'L')\n"
   ]
  },
  {
   "cell_type": "code",
   "execution_count": null,
   "metadata": {},
   "outputs": [],
   "source": [
    "Image.fromarray(blocks8x8[10][0][0][1], 'L')\n"
   ]
  },
  {
   "cell_type": "code",
   "execution_count": null,
   "metadata": {},
   "outputs": [],
   "source": [
    "combined16x16 = blocks16x16.copy()\n"
   ]
  },
  {
   "cell_type": "code",
   "execution_count": null,
   "metadata": {},
   "outputs": [],
   "source": [
    "combined16x16.shape, blocks8x8.shape\n"
   ]
  },
  {
   "cell_type": "code",
   "execution_count": null,
   "metadata": {},
   "outputs": [],
   "source": [
    "for i in range(combined16x16.shape[0]):\n",
    "    for j in range(combined16x16.shape[2]):\n",
    "        combined16x16[i][0][j] = combineBlocks(blocks8x8[i][0][j].copy(), imageshape=(\n",
    "            16, 16), blockshape=(8, 8), channel=False)\n",
    "combined16x16.shape, combined16x16.strides, combined16x16\n"
   ]
  },
  {
   "cell_type": "code",
   "execution_count": null,
   "metadata": {},
   "outputs": [],
   "source": [
    "Image.fromarray(combined16x16[10][0][0], 'L')\n"
   ]
  },
  {
   "cell_type": "code",
   "execution_count": null,
   "metadata": {},
   "outputs": [],
   "source": [
    "Image.fromarray(blocks16x16[10][0][0], 'L')\n"
   ]
  },
  {
   "cell_type": "code",
   "execution_count": null,
   "metadata": {},
   "outputs": [],
   "source": [
    "(combined16x16 == blocks16x16).all()\n"
   ]
  },
  {
   "cell_type": "code",
   "execution_count": null,
   "metadata": {},
   "outputs": [],
   "source": [
    "combinedMainBlocks = mainblocks.copy()\n"
   ]
  },
  {
   "cell_type": "code",
   "execution_count": null,
   "metadata": {},
   "outputs": [],
   "source": [
    "for i in range(combinedMainBlocks.shape[0]):\n",
    "    combinedMainBlocks[i][0] = combineBlocks(\n",
    "        combined16x16[i][0], mainblockSize, blockshape=(16, 16), channel=False)\n",
    "\n",
    "combinedMainBlocks.shape, combinedMainBlocks\n"
   ]
  },
  {
   "cell_type": "code",
   "execution_count": null,
   "metadata": {},
   "outputs": [],
   "source": [
    "combinedMainBlocks.shape\n"
   ]
  },
  {
   "cell_type": "code",
   "execution_count": null,
   "metadata": {},
   "outputs": [],
   "source": [
    "(combinedMainBlocks == mainblocks).all()\n"
   ]
  },
  {
   "cell_type": "code",
   "execution_count": null,
   "metadata": {},
   "outputs": [],
   "source": [
    "Image.fromarray(mainblocks[10][0], 'L')\n"
   ]
  },
  {
   "cell_type": "code",
   "execution_count": null,
   "metadata": {},
   "outputs": [],
   "source": [
    "Image.fromarray(combinedMainBlocks[10][0], 'L')\n"
   ]
  },
  {
   "cell_type": "code",
   "execution_count": null,
   "metadata": {},
   "outputs": [],
   "source": [
    "combinedImg = combineBlocks(combinedMainBlocks.copy(), imgSize, mainblockSize)\n",
    "combinedImg.shape, combinedImg\n",
    "combinedImg = combinedImg.reshape(imgSize)\n",
    "combinedImg.shape, combinedImg\n"
   ]
  },
  {
   "cell_type": "code",
   "execution_count": null,
   "metadata": {},
   "outputs": [],
   "source": [
    "(combinedImg == img).all()\n"
   ]
  },
  {
   "cell_type": "code",
   "execution_count": null,
   "metadata": {},
   "outputs": [],
   "source": [
    "Image.fromarray(combinedImg, 'L')\n"
   ]
  },
  {
   "cell_type": "code",
   "execution_count": null,
   "metadata": {},
   "outputs": [],
   "source": [
    "PSNR(img, combinedImg)\n"
   ]
  },
  {
   "cell_type": "markdown",
   "metadata": {},
   "source": [
    "Now put the recovery bit in the first and second LSB of blocks4x4\n"
   ]
  },
  {
   "cell_type": "code",
   "execution_count": null,
   "metadata": {},
   "outputs": [],
   "source": [
    "blocks8x8.shape\n"
   ]
  },
  {
   "cell_type": "code",
   "execution_count": null,
   "metadata": {},
   "outputs": [],
   "source": [
    "recoveryBits.reshape(recoveryBits.shape[0], int(\n",
    "    recoveryBits.shape[1]//2), 2).shape\n"
   ]
  },
  {
   "cell_type": "code",
   "execution_count": null,
   "metadata": {},
   "outputs": [],
   "source": [
    "recoveryBits[0]\n"
   ]
  },
  {
   "cell_type": "code",
   "execution_count": null,
   "metadata": {},
   "outputs": [],
   "source": [
    "recoveryBits.shape, blocks8x8.shape[2]*3*8*8*2\n"
   ]
  },
  {
   "cell_type": "code",
   "execution_count": null,
   "metadata": {},
   "outputs": [],
   "source": [
    "blocks8x8[:, 0, :, :3, :, :].shape, blocks8x8[:, 0, :, :3, :,\n",
    "                                              :][0].shape, blocks8x8[:, 0, :, :3, :, :][0].flatten().shape\n"
   ]
  },
  {
   "cell_type": "markdown",
   "metadata": {},
   "source": [
    "updating the lsb\n"
   ]
  },
  {
   "cell_type": "code",
   "execution_count": null,
   "metadata": {},
   "outputs": [],
   "source": [
    "def set_bit(value, index, x):\n",
    "    # \"\"\"Set the index:th bit of v to 1 if x is truthy, else to 0, and return the new value.\"\"\"\n",
    "    # mask = 1 << index   # Compute mask, an integer with just bit 'index' set.\n",
    "    # # Clear the bit indicated by the mask (if x is False)\n",
    "    # value &= ~mask\n",
    "    # if x:\n",
    "    #     # If x was True, set the bit indicated by the mask.\n",
    "    #     value |= mask\n",
    "    # return value            # Return the result, we're done.\n",
    "    def set_bit2(value, bit):\n",
    "        return value | (1 << bit)\n",
    "\n",
    "    def clear_bit(value, bit):\n",
    "        return value & ~(1 << bit)\n",
    "\n",
    "    if x:\n",
    "        return set_bit2(value, index)\n",
    "    else:\n",
    "        return clear_bit(value, index)\n",
    "\n",
    "\n",
    "def get_bit(value, index):\n",
    "    if value & (1 << index):\n",
    "        return True\n",
    "    else:\n",
    "        return False\n"
   ]
  },
  {
   "cell_type": "code",
   "execution_count": null,
   "metadata": {},
   "outputs": [],
   "source": [
    "set_bit(2, 3, 0), set_bit(2, 2, 1)\n",
    "#(0, 6)\n"
   ]
  },
  {
   "cell_type": "code",
   "execution_count": null,
   "metadata": {},
   "outputs": [],
   "source": [
    "bits = recoveryBits.reshape(\n",
    "    recoveryBits.shape[0], int(recoveryBits.shape[1]//2), 2)\n",
    "for i in range(blocks8x8[:, 0].shape[0]):\n",
    "    for j in range(len(blocks8x8[i, 0, :, :3, :, :].flat)):\n",
    "        number = blocks8x8[i, 0, :, :3, :, :].flat[j]\n",
    "        blocks8x8[i, 0, :, :3, :, :].flat[j] = set_bit(\n",
    "            set_bit(number, 0, bits[i][j][0]), 1, bits[i][j][1])\n",
    "\n",
    "# for mainblock, blockbits in zip(blocks8x8[:, 0, :, :3, :, :], recoveryBits.reshape(recoveryBits.shape[0], int(recoveryBits.shape[1]//2), 2)):\n",
    "#     for number, bits in zip(mainblock.flat, blockbits):\n",
    "#         # print(number, bits)\n",
    "#         number = set_bit(set_bit(number, 0, bits[0]), 1, bits[1])\n",
    "\n",
    "blocks8x8.shape, blocks8x8.strides, blocks8x8\n"
   ]
  },
  {
   "cell_type": "markdown",
   "metadata": {},
   "source": [
    "### get authenticaction bits\n"
   ]
  },
  {
   "cell_type": "markdown",
   "metadata": {},
   "source": [
    "getting hash of four blocks with lsb 0\n"
   ]
  },
  {
   "cell_type": "markdown",
   "metadata": {},
   "source": [
    "so we have the space of 128bit for hashing\n",
    "we want to add the size of image + the blocknumber of eachblock\n",
    "size will be multiple of 64\n",
    "1byte of length, max length = 64*256=16384\n",
    "1byte of width, max width = 64*256=16384\n",
    "the remaing length for hash is now 112\n",
    "for block number I'm excluding the 4 bits and 4bits will be reserved for the lookuptable\n",
    "the make the total bits=104, that make 104/8=13bytes\n",
    "we are using dynamic hasing algo (blake2b) with digest size 13bytes\n"
   ]
  },
  {
   "cell_type": "code",
   "execution_count": null,
   "metadata": {},
   "outputs": [],
   "source": [
    "HASH_SIZE = 16\n"
   ]
  },
  {
   "cell_type": "code",
   "execution_count": null,
   "metadata": {},
   "outputs": [],
   "source": [
    "def set_lsb_zero(num: np.ndarray):\n",
    "    '''\n",
    "    Clearing the first two LSB of ndarray\n",
    "    '''\n",
    "    return set_bit(set_bit(num, 0, 0), 1, 0)\n",
    "\n",
    "\n",
    "'''\n",
    "Data is one 16x16 block converted into four 8x8 blocks\n",
    "'''\n",
    "\n",
    "\n",
    "def hash_block(data: np.ndarray, key: str = None, digest_size=HASH_SIZE, extras=[]):\n",
    "    if data.shape != (4, 8, 8):\n",
    "        print(f\"Warning! given size {data.shape} instead of (4, 8, 8)\")\n",
    "    local = data.copy().astype(np.int8)  # copying to avoid overighting lsb\n",
    "    local[-1] = set_lsb_zero(local[-1])  # setting last 8x8 blocks lsb zero\n",
    "    if key is None:\n",
    "        h = hashlib.blake2b(digest_size=digest_size)\n",
    "    else:\n",
    "        h = hashlib.blake2b(key=key.encode())\n",
    "    h.update(local.data)\n",
    "    for extra in extras:\n",
    "        h.update(extra.encode())\n",
    "    return h\n",
    "\n",
    "\n",
    "def put_bits(data: np.ndarray, bits: np.ndarray):\n",
    "    '''\n",
    "    puts data in last two lsb of data\n",
    "    '''\n",
    "    if data.shape != (8, 8):\n",
    "        print(f\"Warning! given size {data.shape} instead of (8, 8)\")\n",
    "    if bits.shape != (64, 2):\n",
    "        print(f\"Warning! given size {bits.shape} instead of (64, 2)\")\n",
    "    localData = data.copy().reshape(-1)\n",
    "    localBits = bits.copy()\n",
    "    '''\n",
    "    setting last two lsb of data to bits\n",
    "    '''\n",
    "    localData = np.fromiter((set_bit(set_bit(d, 0, b[0]), 1, b[1]) for d, b in zip(\n",
    "        localData, localBits)), dtype=data.dtype)\n",
    "\n",
    "    return localData.reshape(8, 8)\n",
    "\n",
    "\n",
    "def get_bits(data: np.ndarray):\n",
    "    '''\n",
    "    gets data from last two lsb of data\n",
    "    '''\n",
    "    if data.shape != (8, 8):\n",
    "        print(f\"Warning! given size {data.shape} instead of (8, 8)\")\n",
    "    localData = data.copy()\n",
    "    bits = np.zeros((64, 2), np.uint8)\n",
    "    bits[:, 0] = np.fromiter((get_bit(d, 0)\n",
    "                             for d in localData.flat), dtype=np.uint8)\n",
    "    bits[:, 1] = np.fromiter((get_bit(d, 1)\n",
    "                             for d in localData.flat), dtype=np.uint8)\n",
    "    return bits\n"
   ]
  },
  {
   "cell_type": "code",
   "execution_count": null,
   "metadata": {},
   "outputs": [],
   "source": [
    "blocks8x8[:, 0].shape, blocks8x8[:,\n",
    "                                 0][0].shape, blocks8x8[:, 0][0].flatten().shape\n"
   ]
  },
  {
   "cell_type": "code",
   "execution_count": null,
   "metadata": {},
   "outputs": [],
   "source": [
    "blocks8x8[:, 0].shape[:2]\n"
   ]
  },
  {
   "cell_type": "code",
   "execution_count": null,
   "metadata": {},
   "outputs": [],
   "source": [
    "hashes = np.zeros((*blocks8x8[:, 0].shape[:2], HASH_SIZE*8), dtype=object)\n",
    "hashes.shape, hashes\n"
   ]
  },
  {
   "cell_type": "code",
   "execution_count": null,
   "metadata": {},
   "outputs": [],
   "source": [
    "def hexToDec(hexStr):\n",
    "    return np.fromiter((int(x, 16) for x in hexStr), dtype=np.uint8)\n",
    "\n",
    "\n",
    "def binToNp(binStr):\n",
    "    return np.frombuffer(binStr, dtype=np.uint8)\n",
    "\n",
    "\n",
    "has = hash_block(blocks8x8[0, 0, 1])\n",
    "\n",
    "print(has, has.hexdigest(), len(has.digest()))\n",
    "dec = binToNp(has.digest())\n",
    "dec.shape, dec\n"
   ]
  },
  {
   "cell_type": "code",
   "execution_count": null,
   "metadata": {},
   "outputs": [],
   "source": [
    "# binToNp(b'\\x')\n"
   ]
  },
  {
   "cell_type": "code",
   "execution_count": null,
   "metadata": {},
   "outputs": [],
   "source": [
    "# hashes[0]='ashdadka'\n",
    "# hashes\n"
   ]
  },
  {
   "cell_type": "code",
   "execution_count": null,
   "metadata": {},
   "outputs": [],
   "source": [
    "# type(hashlib.sha256(\"basd\".encode()).hexdigest())\n"
   ]
  },
  {
   "cell_type": "code",
   "execution_count": null,
   "metadata": {},
   "outputs": [],
   "source": [
    "# hash_block(blocks8x8[0, 0, 0], digest_size=32)\n"
   ]
  },
  {
   "cell_type": "code",
   "execution_count": null,
   "metadata": {},
   "outputs": [],
   "source": [
    "# temp=hash_block(\n",
    "#             blocks8x8[0, 0, 0])\n",
    "# x=temp.digest()\n",
    "# temp.hexdigest(), binToNp(temp.digest()), x, type(x), x.hex(), x[0], x[1].to_bytes(8, byteorder='big').hex()\n"
   ]
  },
  {
   "cell_type": "markdown",
   "metadata": {},
   "source": [
    "so there are four block of 8x8\n",
    "8x8 block has (2bits) _ 8 _ 8=128bit space\n"
   ]
  },
  {
   "cell_type": "code",
   "execution_count": null,
   "metadata": {},
   "outputs": [],
   "source": [
    "for i in range(blocks8x8[:, 0].shape[0]):\n",
    "    for j in range(blocks8x8[:, 0].shape[1]):\n",
    "        hashes[i][j] = np.unpackbits(binToNp(hash_block(\n",
    "            blocks8x8[i, 0, j]).digest()))\n",
    "\n",
    "\n",
    "hashes.shape, hashes[0][0], hashes\n"
   ]
  },
  {
   "cell_type": "markdown",
   "metadata": {},
   "source": [
    "#### now we have to put this hash in the 4th 8x8 block of eaxh 16x16block :)\n"
   ]
  },
  {
   "cell_type": "code",
   "execution_count": null,
   "metadata": {},
   "outputs": [],
   "source": [
    "hashes.shape\n"
   ]
  },
  {
   "cell_type": "code",
   "execution_count": null,
   "metadata": {},
   "outputs": [],
   "source": [
    "bits.shape\n"
   ]
  },
  {
   "cell_type": "code",
   "execution_count": null,
   "metadata": {},
   "outputs": [],
   "source": [
    "# reshaping it into 2bits in last for better placement\n",
    "hashbits = hashes.reshape(\n",
    "    hashes.shape[0], hashes.shape[1], hashes.shape[2]//2, 2)\n",
    "hashbits.shape\n"
   ]
  },
  {
   "cell_type": "code",
   "execution_count": null,
   "metadata": {},
   "outputs": [],
   "source": [
    "blocks8x8.shape\n"
   ]
  },
  {
   "cell_type": "code",
   "execution_count": null,
   "metadata": {},
   "outputs": [],
   "source": [
    "blocks8x8[:, 0, :, 3, :, :].shape\n"
   ]
  },
  {
   "cell_type": "code",
   "execution_count": null,
   "metadata": {},
   "outputs": [],
   "source": [
    "len(blocks8x8[:, 0, :, 3, :, :].flat)\n"
   ]
  },
  {
   "cell_type": "code",
   "execution_count": null,
   "metadata": {},
   "outputs": [],
   "source": [
    "blocks8x8[i, 0, j, 3, :, :].shape\n"
   ]
  },
  {
   "cell_type": "code",
   "execution_count": null,
   "metadata": {},
   "outputs": [],
   "source": [
    "blocks8x8[i, 0, j, 3, :, :].reshape(-1).shape\n"
   ]
  },
  {
   "cell_type": "code",
   "execution_count": null,
   "metadata": {},
   "outputs": [],
   "source": [
    "hashbits[0][0].reshape(-1).shape\n"
   ]
  },
  {
   "cell_type": "code",
   "execution_count": null,
   "metadata": {},
   "outputs": [],
   "source": [
    "prev8x8=blocks8x8.copy()"
   ]
  },
  {
   "cell_type": "markdown",
   "metadata": {},
   "source": [
    "not the best approach\n",
    "will do it like we did with recoverybits"
   ]
  },
  {
   "cell_type": "code",
   "execution_count": null,
   "metadata": {},
   "outputs": [],
   "source": [
    "for i in range(blocks8x8[:, 0].shape[0]):\n",
    "    for j in range(blocks8x8[:, 0].shape[1]):\n",
    "        blocks8x8[i, 0, j, 3, :, :]=put_bits(blocks8x8[i, 0, j, 3, :, :], hashbits[i, j])\n",
    "\n",
    "blocks8x8.shape, blocks8x8.strides, blocks8x8\n"
   ]
  },
  {
   "cell_type": "code",
   "execution_count": null,
   "metadata": {},
   "outputs": [],
   "source": [
    "(prev8x8==blocks8x8).all()"
   ]
  },
  {
   "cell_type": "markdown",
   "metadata": {},
   "source": [
    "### Now to combine the blocks back to Image\n"
   ]
  },
  {
   "cell_type": "code",
   "execution_count": null,
   "metadata": {},
   "outputs": [],
   "source": [
    "blocks8x8.shape, blocks16x16.shape, mainblocks.shape, img.shape\n"
   ]
  },
  {
   "cell_type": "markdown",
   "metadata": {},
   "source": [
    "first merge the 8x8\n"
   ]
  },
  {
   "cell_type": "code",
   "execution_count": null,
   "metadata": {},
   "outputs": [],
   "source": [
    "Image.fromarray(blocks8x8[10][0][0][0], 'L')\n"
   ]
  },
  {
   "cell_type": "code",
   "execution_count": null,
   "metadata": {},
   "outputs": [],
   "source": [
    "Image.fromarray(blocks8x8[10][0][0][1], 'L')\n"
   ]
  },
  {
   "cell_type": "code",
   "execution_count": null,
   "metadata": {},
   "outputs": [],
   "source": [
    "combined16x16 = blocks16x16.copy()\n"
   ]
  },
  {
   "cell_type": "code",
   "execution_count": null,
   "metadata": {},
   "outputs": [],
   "source": [
    "combined16x16.shape, blocks8x8.shape\n"
   ]
  },
  {
   "cell_type": "code",
   "execution_count": null,
   "metadata": {},
   "outputs": [],
   "source": [
    "for i in range(combined16x16.shape[0]):\n",
    "    for j in range(combined16x16.shape[2]):\n",
    "        combined16x16[i][0][j] = combineBlocks(blocks8x8[i][0][j].copy(), imageshape=(\n",
    "            16, 16), blockshape=(8, 8), channel=False)\n",
    "combined16x16.shape, combined16x16.strides, combined16x16\n"
   ]
  },
  {
   "cell_type": "code",
   "execution_count": null,
   "metadata": {},
   "outputs": [],
   "source": [
    "Image.fromarray(combined16x16[10][0][0], 'L')\n"
   ]
  },
  {
   "cell_type": "code",
   "execution_count": null,
   "metadata": {},
   "outputs": [],
   "source": [
    "Image.fromarray(blocks16x16[10][0][0], 'L')\n"
   ]
  },
  {
   "cell_type": "code",
   "execution_count": null,
   "metadata": {},
   "outputs": [],
   "source": [
    "(combined16x16 == blocks16x16).all()\n"
   ]
  },
  {
   "cell_type": "markdown",
   "metadata": {},
   "source": [
    "merging 16x16 to 128x128\n"
   ]
  },
  {
   "cell_type": "code",
   "execution_count": null,
   "metadata": {},
   "outputs": [],
   "source": [
    "mainblocks.shape, blocks16x16.shape\n"
   ]
  },
  {
   "cell_type": "code",
   "execution_count": null,
   "metadata": {},
   "outputs": [],
   "source": [
    "combinedMainBlocks = mainblocks.copy()\n"
   ]
  },
  {
   "cell_type": "code",
   "execution_count": null,
   "metadata": {},
   "outputs": [],
   "source": [
    "for i in range(combinedMainBlocks.shape[0]):\n",
    "    combinedMainBlocks[i][0] = combineBlocks(\n",
    "        combined16x16[i][0], mainblockSize, blockshape=(16, 16), channel=False)\n",
    "\n",
    "combinedMainBlocks.shape, combinedMainBlocks\n"
   ]
  },
  {
   "cell_type": "code",
   "execution_count": null,
   "metadata": {},
   "outputs": [],
   "source": [
    "combinedMainBlocks.shape\n"
   ]
  },
  {
   "cell_type": "code",
   "execution_count": null,
   "metadata": {},
   "outputs": [],
   "source": [
    "Image.fromarray(mainblocks[10][0], 'L')\n"
   ]
  },
  {
   "cell_type": "code",
   "execution_count": null,
   "metadata": {},
   "outputs": [],
   "source": [
    "Image.fromarray(combinedMainBlocks[10][0], 'L')\n"
   ]
  },
  {
   "cell_type": "code",
   "execution_count": null,
   "metadata": {},
   "outputs": [],
   "source": [
    "(combinedMainBlocks == mainblocks).all()\n"
   ]
  },
  {
   "cell_type": "code",
   "execution_count": null,
   "metadata": {},
   "outputs": [],
   "source": [
    "combinedImg = combineBlocks(combinedMainBlocks.copy(), imgSize, mainblockSize)\n",
    "combinedImg.shape, combinedImg\n",
    "combinedImg = combinedImg.reshape(imgSize)\n",
    "combinedImg.shape, combinedImg\n"
   ]
  },
  {
   "cell_type": "code",
   "execution_count": null,
   "metadata": {},
   "outputs": [],
   "source": [
    "(combinedImg == img).all()\n"
   ]
  },
  {
   "cell_type": "markdown",
   "metadata": {},
   "source": [
    "combining to the image\n"
   ]
  },
  {
   "cell_type": "code",
   "execution_count": null,
   "metadata": {},
   "outputs": [],
   "source": [
    "Image.fromarray(combinedImg, 'L')\n"
   ]
  },
  {
   "cell_type": "code",
   "execution_count": null,
   "metadata": {},
   "outputs": [],
   "source": [
    "PSNR(img, combinedImg)\n"
   ]
  },
  {
   "cell_type": "code",
   "execution_count": null,
   "metadata": {},
   "outputs": [],
   "source": [
    "done = time.time()\n",
    "elapsed = done - start\n"
   ]
  },
  {
   "cell_type": "code",
   "execution_count": null,
   "metadata": {},
   "outputs": [],
   "source": [
    "print(\"This time includes all the unnessary outputs and checks\")\n",
    "elapsed\n"
   ]
  },
  {
   "cell_type": "code",
   "execution_count": null,
   "metadata": {},
   "outputs": [],
   "source": [
    "# saving to file\n",
    "Image.fromarray(combinedImg, 'L').save(f\"{filename}_watermarked.png\")\n"
   ]
  },
  {
   "cell_type": "code",
   "execution_count": null,
   "metadata": {},
   "outputs": [],
   "source": [
    "# checking the saved file\n",
    "lena = Image.open(f\"{filename}_watermarked.png\").convert(\"L\")\n",
    "img = np.array(lena)\n"
   ]
  },
  {
   "cell_type": "code",
   "execution_count": null,
   "metadata": {},
   "outputs": [],
   "source": [
    "(img == combinedImg).all()\n"
   ]
  },
  {
   "cell_type": "markdown",
   "metadata": {},
   "source": [
    "# Auth"
   ]
  },
  {
   "cell_type": "code",
   "execution_count": null,
   "metadata": {},
   "outputs": [],
   "source": [
    "extractedHashes = np.zeros(hashbits.shape, dtype=hashbits.dtype)\n",
    "extractedHashes.shape, extractedHashes\n"
   ]
  },
  {
   "cell_type": "code",
   "execution_count": null,
   "metadata": {},
   "outputs": [],
   "source": [
    "for i in range(blocks8x8[:, 0].shape[0]):\n",
    "    for j in range(blocks8x8[:, 0].shape[1]):\n",
    "        number = blocks8x8[i, 0, :, 3, :, :].flat[j]\n",
    "        extractedHashes[i][j]=get_bits(blocks8x8[i, 0, j, 3, :, :])\n",
    "\n",
    "blocks8x8.shape, blocks8x8.strides, blocks8x8\n"
   ]
  },
  {
   "cell_type": "code",
   "execution_count": null,
   "metadata": {},
   "outputs": [],
   "source": [
    "extractedHashes\n"
   ]
  },
  {
   "cell_type": "code",
   "execution_count": null,
   "metadata": {},
   "outputs": [],
   "source": [
    "extractedHashes.reshape(-1).shape, hashbits.reshape(-1).shape\n"
   ]
  },
  {
   "cell_type": "code",
   "execution_count": null,
   "metadata": {},
   "outputs": [],
   "source": [
    "extractedHashes.reshape(-1).shape, hashbits.reshape(-1).shape\n"
   ]
  },
  {
   "cell_type": "code",
   "execution_count": null,
   "metadata": {},
   "outputs": [],
   "source": [
    "ret=(extractedHashes.reshape(-1) == hashbits.reshape(-1))\n",
    "unique, counts = np.unique(ret, return_counts=True)\n",
    "dic=dict(zip(unique, counts))\n",
    "dic"
   ]
  },
  {
   "cell_type": "code",
   "execution_count": null,
   "metadata": {},
   "outputs": [],
   "source": [
    "if False in dic:\n",
    "  raise Exception(\"not all hashes are equal, embedding of auth bits are not correct\")\n",
    "else:\n",
    "  print(\"all hashes are equal, embedding of auth bits are correct\")"
   ]
  },
  {
   "cell_type": "code",
   "execution_count": null,
   "metadata": {},
   "outputs": [],
   "source": [
    "extractedHashes=extractedHashes.reshape(extractedHashes.shape[0], extractedHashes.shape[1], extractedHashes.shape[2]*2)\n",
    "hashbits=hashbits.reshape(hashbits.shape[0], hashbits.shape[1], hashbits.shape[2]*2)\n",
    "extractedHashes.shape, hashbits.shape\n"
   ]
  },
  {
   "cell_type": "code",
   "execution_count": null,
   "metadata": {},
   "outputs": [],
   "source": [
    "tempred=np.zeros((extractedHashes.shape[0],extractedHashes.shape[1]), dtype=np.uint8)\n",
    "tempred.shape"
   ]
  },
  {
   "cell_type": "code",
   "execution_count": null,
   "metadata": {},
   "outputs": [],
   "source": [
    "for i in range(extractedHashes.shape[0]):\n",
    "    for j in range(extractedHashes.shape[1]):\n",
    "        tempred[i][j]=(extractedHashes[i][j]==hashbits[i][j]).all()"
   ]
  },
  {
   "cell_type": "code",
   "execution_count": null,
   "metadata": {},
   "outputs": [],
   "source": [
    "tempred"
   ]
  },
  {
   "cell_type": "code",
   "execution_count": null,
   "metadata": {},
   "outputs": [],
   "source": [
    "unique, counts = np.unique(tempred, return_counts=True)\n",
    "dict(zip(unique, counts))"
   ]
  },
  {
   "cell_type": "code",
   "execution_count": null,
   "metadata": {},
   "outputs": [],
   "source": [
    "orinaltempred=tempred.astype(bool)"
   ]
  },
  {
   "cell_type": "code",
   "execution_count": null,
   "metadata": {},
   "outputs": [],
   "source": [
    "tempred = np.where(tempred == 1, 255, tempred)"
   ]
  },
  {
   "cell_type": "code",
   "execution_count": null,
   "metadata": {},
   "outputs": [],
   "source": [
    "tempred.shape"
   ]
  },
  {
   "cell_type": "code",
   "execution_count": null,
   "metadata": {},
   "outputs": [],
   "source": [
    "Image.fromarray(tempred, 'L')\n"
   ]
  },
  {
   "cell_type": "code",
   "execution_count": null,
   "metadata": {},
   "outputs": [],
   "source": [
    "Image.fromarray(tempred.reshape(imgSize[0]//16,imgSize[1]//16), 'L')\n"
   ]
  },
  {
   "cell_type": "code",
   "execution_count": null,
   "metadata": {},
   "outputs": [],
   "source": [
    "temp=tempred.copy()"
   ]
  },
  {
   "cell_type": "code",
   "execution_count": null,
   "metadata": {},
   "outputs": [],
   "source": [
    "temp=temp.reshape(temp.shape[0], imgSize[0]//64,imgSize[1]//64)\n",
    "temp.shape"
   ]
  },
  {
   "cell_type": "code",
   "execution_count": null,
   "metadata": {},
   "outputs": [],
   "source": [
    "temp=combineBlocks(temp,(imgSize[0]//16,imgSize[1]//16),(imgSize[0]//64,imgSize[1]//64),channel=False)\n",
    "temp.shape"
   ]
  },
  {
   "cell_type": "code",
   "execution_count": null,
   "metadata": {},
   "outputs": [],
   "source": [
    "Image.fromarray(temp.reshape(imgSize[0]//16,imgSize[1]//16), 'L')\n"
   ]
  },
  {
   "cell_type": "code",
   "execution_count": null,
   "metadata": {},
   "outputs": [],
   "source": [
    "imgSize"
   ]
  },
  {
   "cell_type": "code",
   "execution_count": null,
   "metadata": {},
   "outputs": [],
   "source": [
    "(imgSize[0]//16,imgSize[1]//16)"
   ]
  },
  {
   "cell_type": "markdown",
   "metadata": {},
   "source": [
    "# Recovery"
   ]
  },
  {
   "cell_type": "code",
   "execution_count": null,
   "metadata": {},
   "outputs": [],
   "source": []
  },
  {
   "cell_type": "code",
   "execution_count": null,
   "metadata": {},
   "outputs": [],
   "source": [
    "extractedRecvBits=np.zeros(bits.shape, dtype=bits.dtype)\n",
    "extractedRecvBits.shape"
   ]
  },
  {
   "cell_type": "code",
   "execution_count": null,
   "metadata": {},
   "outputs": [],
   "source": [
    "bits.dtype"
   ]
  },
  {
   "cell_type": "code",
   "execution_count": null,
   "metadata": {},
   "outputs": [],
   "source": [
    "(16, (int((mainblockSize[0]*mainblockSize[1]) /\n",
    "                             (avgblocksSize[0]*avgblocksSize[1]))*3*8)  //2,2)"
   ]
  },
  {
   "cell_type": "code",
   "execution_count": null,
   "metadata": {},
   "outputs": [],
   "source": [
    "(blocks8x8==prev8x8).all()"
   ]
  },
  {
   "cell_type": "code",
   "execution_count": null,
   "metadata": {},
   "outputs": [],
   "source": [
    "blocks8x8[i, 0, :, :3, :, :].shape"
   ]
  },
  {
   "cell_type": "code",
   "execution_count": null,
   "metadata": {},
   "outputs": [],
   "source": [
    "64*3*8*8"
   ]
  },
  {
   "cell_type": "code",
   "execution_count": null,
   "metadata": {},
   "outputs": [],
   "source": [
    "for i in range(blocks8x8[:, 0].shape[0]):\n",
    "  for j in range(len(blocks8x8[i, 0, :, :3, :, :].flat)):\n",
    "    number= blocks8x8[i, 0, :, :3, :, :].flat[j]\n",
    "    extractedRecvBits[i][j][0]=get_bit(number, 0)\n",
    "    extractedRecvBits[i][j][1]=get_bit(number, 1)"
   ]
  },
  {
   "cell_type": "code",
   "execution_count": null,
   "metadata": {},
   "outputs": [],
   "source": [
    "extractedRecvBits"
   ]
  },
  {
   "cell_type": "code",
   "execution_count": null,
   "metadata": {},
   "outputs": [],
   "source": [
    "bits.shape"
   ]
  },
  {
   "cell_type": "code",
   "execution_count": null,
   "metadata": {},
   "outputs": [],
   "source": [
    "blocks8x8[:, 0].shape[0]"
   ]
  },
  {
   "cell_type": "code",
   "execution_count": null,
   "metadata": {},
   "outputs": [],
   "source": [
    "len(blocks8x8[i, 0, :, :3, :, :].flat)"
   ]
  },
  {
   "cell_type": "code",
   "execution_count": null,
   "metadata": {},
   "outputs": [],
   "source": [
    "bits"
   ]
  },
  {
   "cell_type": "code",
   "execution_count": null,
   "metadata": {},
   "outputs": [],
   "source": [
    "(extractedRecvBits==bits).all()"
   ]
  },
  {
   "cell_type": "code",
   "execution_count": null,
   "metadata": {},
   "outputs": [],
   "source": [
    "averages"
   ]
  },
  {
   "cell_type": "markdown",
   "metadata": {},
   "source": [
    "converting back extractedRecv to the averages and checking if they are correct"
   ]
  },
  {
   "cell_type": "code",
   "execution_count": null,
   "metadata": {},
   "outputs": [],
   "source": [
    "extractedRecvBits.shape, recoveryBits.shape"
   ]
  },
  {
   "cell_type": "code",
   "execution_count": null,
   "metadata": {},
   "outputs": [],
   "source": [
    "(extractedRecvBits.reshape(16,-1)==recoveryBits).all()"
   ]
  },
  {
   "cell_type": "code",
   "execution_count": null,
   "metadata": {},
   "outputs": [],
   "source": [
    "backAvg=extractedRecvBits.reshape(16,-1)\n",
    "backAvg.shape"
   ]
  },
  {
   "cell_type": "code",
   "execution_count": null,
   "metadata": {},
   "outputs": [],
   "source": [
    "(backAvg==recoveryBits).all()"
   ]
  },
  {
   "cell_type": "code",
   "execution_count": null,
   "metadata": {},
   "outputs": [],
   "source": [
    "(backAvg==beforepermuted).all()"
   ]
  },
  {
   "cell_type": "code",
   "execution_count": null,
   "metadata": {},
   "outputs": [],
   "source": [
    "lookup"
   ]
  },
  {
   "cell_type": "code",
   "execution_count": null,
   "metadata": {},
   "outputs": [],
   "source": [
    "# for i in range(backAvg.shape[0]):\n",
    "#     np.random.RandomState(seed=key).shuffle(backAvg[i])"
   ]
  },
  {
   "cell_type": "code",
   "execution_count": null,
   "metadata": {},
   "outputs": [],
   "source": [
    "(backAvg==beforepermuted).all()"
   ]
  },
  {
   "cell_type": "code",
   "execution_count": null,
   "metadata": {},
   "outputs": [],
   "source": [
    "averageBits[7].shape"
   ]
  },
  {
   "cell_type": "code",
   "execution_count": null,
   "metadata": {},
   "outputs": [],
   "source": [
    "backAvg[0,:backAvg.shape[1]//3]==averageBits[7]"
   ]
  },
  {
   "cell_type": "code",
   "execution_count": null,
   "metadata": {},
   "outputs": [],
   "source": [
    "tt=backAvg[7,:backAvg.shape[1]//3]\n",
    "tt.shape, (tt==averageBits[0]).all()"
   ]
  },
  {
   "cell_type": "code",
   "execution_count": null,
   "metadata": {},
   "outputs": [],
   "source": [
    "kk=np.packbits(tt)\n",
    "kk.shape"
   ]
  },
  {
   "cell_type": "code",
   "execution_count": null,
   "metadata": {},
   "outputs": [],
   "source": [
    "kk"
   ]
  },
  {
   "cell_type": "code",
   "execution_count": null,
   "metadata": {},
   "outputs": [],
   "source": [
    "averages[0]"
   ]
  },
  {
   "cell_type": "code",
   "execution_count": null,
   "metadata": {},
   "outputs": [],
   "source": [
    "(kk==averages[0]).all()"
   ]
  },
  {
   "cell_type": "markdown",
   "metadata": {},
   "source": [
    "checking which 16s block is tempered\n",
    "and within that A1 which 16x16 block are tempered\n",
    "now replace 16x16 block with 4x4 average values"
   ]
  },
  {
   "cell_type": "code",
   "execution_count": null,
   "metadata": {},
   "outputs": [],
   "source": [
    "orinaltempred.shape, orinaltempred\n"
   ]
  },
  {
   "cell_type": "code",
   "execution_count": null,
   "metadata": {},
   "outputs": [],
   "source": [
    "orinaltempred=~orinaltempred\n",
    "orinaltempred"
   ]
  },
  {
   "cell_type": "code",
   "execution_count": null,
   "metadata": {},
   "outputs": [],
   "source": [
    "orinaltempred.shape"
   ]
  },
  {
   "cell_type": "code",
   "execution_count": null,
   "metadata": {},
   "outputs": [],
   "source": [
    "tempred.shape"
   ]
  },
  {
   "cell_type": "code",
   "execution_count": null,
   "metadata": {},
   "outputs": [],
   "source": [
    "mainblocks.shape, blocks16x16.shape"
   ]
  },
  {
   "cell_type": "code",
   "execution_count": null,
   "metadata": {},
   "outputs": [],
   "source": [
    "sum(orinaltempred.flat), orinaltempred.shape"
   ]
  },
  {
   "cell_type": "markdown",
   "metadata": {},
   "source": [
    "now i know which 16x16 block of mainblocks is tempred. and after that I will replace the values from average"
   ]
  },
  {
   "cell_type": "code",
   "execution_count": null,
   "metadata": {},
   "outputs": [],
   "source": [
    "extractedRecvBits.shape"
   ]
  },
  {
   "cell_type": "code",
   "execution_count": null,
   "metadata": {},
   "outputs": [],
   "source": [
    "64*3*8*8"
   ]
  },
  {
   "cell_type": "code",
   "execution_count": null,
   "metadata": {},
   "outputs": [],
   "source": [
    "128/4"
   ]
  },
  {
   "cell_type": "markdown",
   "metadata": {},
   "source": [
    "16 main blocks of size 128x128\n",
    "64 sub 16x16 blocks\n",
    "now I have to select the partener block of tempred image and for that block I have to extract all the 2lsb of 38x8 blocks. \n",
    "After that permute back\n",
    "then ab un recoery bits of 4x4 me convert karna, and ye wala step har 16x16 k leye karna for the partenet main block.\n",
    "\n",
    "ab jab mery paas 4x4 ki avg aa jain gi to me tempered 16x16 block ko unki avg values sy replace kar doon ga\n",
    "\n"
   ]
  },
  {
   "cell_type": "code",
   "execution_count": null,
   "metadata": {},
   "outputs": [],
   "source": [
    "lookup"
   ]
  },
  {
   "cell_type": "code",
   "execution_count": null,
   "metadata": {},
   "outputs": [],
   "source": [
    "# suppose the main block 0 k ander 0th 16x16 block tempred hae\n",
    "orinaltempred[0][0]=True\n",
    "orinaltempred.shape, orinaltempred[0][0]"
   ]
  },
  {
   "cell_type": "markdown",
   "metadata": {},
   "source": [
    "har 16x16 k leye 8*8*2 hae and kiun k haam 3 blocks use kar rhy to 8*8*2*3 = 384 \n"
   ]
  },
  {
   "cell_type": "code",
   "execution_count": null,
   "metadata": {},
   "outputs": [],
   "source": [
    "formatedExtracted=extractedRecvBits.reshape(extractedRecvBits.shape[0],orinaltempred.shape[1],  2*(extractedRecvBits.shape[1]//orinaltempred.shape[1]))\n",
    "formatedExtracted.shape"
   ]
  },
  {
   "cell_type": "markdown",
   "metadata": {},
   "source": [
    "to ab A1 ka 0th 16x16 tempered that\n",
    "to ab hamary paas A2 ki sari bits hain. 64*384 = 24576"
   ]
  },
  {
   "cell_type": "markdown",
   "metadata": {},
   "source": [
    "ab kiun k meny suppose kia k 0th block kharab hae to me 0th main block k 16x16 ki sari bits nikal loon ga"
   ]
  },
  {
   "cell_type": "code",
   "execution_count": null,
   "metadata": {},
   "outputs": [],
   "source": [
    "firstmainblockbits=formatedExtracted[0].reshape(-1)\n",
    "firstmainblockbits, firstmainblockbits.shape"
   ]
  },
  {
   "cell_type": "markdown",
   "metadata": {},
   "source": [
    "ab in bits ko meny 4x4 ki shape deni"
   ]
  },
  {
   "cell_type": "code",
   "execution_count": null,
   "metadata": {},
   "outputs": [],
   "source": [
    "24576/2"
   ]
  },
  {
   "cell_type": "code",
   "execution_count": null,
   "metadata": {},
   "outputs": [],
   "source": [
    "24576/(16)"
   ]
  },
  {
   "cell_type": "markdown",
   "metadata": {},
   "source": [
    "ab jo hae wo permutation karni hamny wapas\n",
    "\n",
    "and permute karny k baad dobara 16x16 k leye nikalny"
   ]
  },
  {
   "cell_type": "code",
   "execution_count": null,
   "metadata": {},
   "outputs": [],
   "source": [
    "# permutation here"
   ]
  },
  {
   "cell_type": "code",
   "execution_count": null,
   "metadata": {},
   "outputs": [],
   "source": [
    "firstmainblockbits.shape"
   ]
  },
  {
   "cell_type": "code",
   "execution_count": null,
   "metadata": {},
   "outputs": [],
   "source": [
    "# 16 x 16 me convert karo\n",
    "recv16x16=firstmainblockbits.reshape(-1,16,16)\n",
    "recv16x16.shape"
   ]
  },
  {
   "cell_type": "code",
   "execution_count": null,
   "metadata": {},
   "outputs": [],
   "source": []
  },
  {
   "cell_type": "code",
   "execution_count": null,
   "metadata": {},
   "outputs": [],
   "source": [
    "# ab har 16x16 ko 4x4 me kar\n",
    "recv4x4=recv16x16.reshape(-1,16,16,4,4)\n",
    "recv4x4.shape"
   ]
  },
  {
   "cell_type": "code",
   "execution_count": null,
   "metadata": {},
   "outputs": [],
   "source": [
    "blocks8x8.shape"
   ]
  },
  {
   "cell_type": "code",
   "execution_count": null,
   "metadata": {},
   "outputs": [],
   "source": []
  },
  {
   "cell_type": "code",
   "execution_count": null,
   "metadata": {},
   "outputs": [],
   "source": []
  },
  {
   "cell_type": "code",
   "execution_count": null,
   "metadata": {},
   "outputs": [],
   "source": []
  },
  {
   "cell_type": "code",
   "execution_count": null,
   "metadata": {},
   "outputs": [],
   "source": [
    "# reshaped=firstmainblockbits.reshape(firstmainblockbits.shape[0]//16, 4, 4)\n",
    "# reshaped.shape"
   ]
  },
  {
   "cell_type": "code",
   "execution_count": null,
   "metadata": {},
   "outputs": [],
   "source": [
    "128/4"
   ]
  },
  {
   "cell_type": "code",
   "execution_count": null,
   "metadata": {},
   "outputs": [],
   "source": [
    "32*32"
   ]
  },
  {
   "cell_type": "code",
   "execution_count": null,
   "metadata": {},
   "outputs": [],
   "source": [
    "Image.fromarray(reshaped.reshape(12288,12288))"
   ]
  }
 ],
 "metadata": {
  "interpreter": {
   "hash": "e7370f93d1d0cde622a1f8e1c04877d8463912d04d973331ad4851f04de6915a"
  },
  "kernelspec": {
   "display_name": "Python 3.10.4 64-bit",
   "language": "python",
   "name": "python3"
  },
  "language_info": {
   "codemirror_mode": {
    "name": "ipython",
    "version": 3
   },
   "file_extension": ".py",
   "mimetype": "text/x-python",
   "name": "python",
   "nbconvert_exporter": "python",
   "pygments_lexer": "ipython3",
   "version": "3.10.4"
  },
  "orig_nbformat": 4
 },
 "nbformat": 4,
 "nbformat_minor": 2
}
